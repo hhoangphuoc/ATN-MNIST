{
 "cells": [
  {
   "cell_type": "code",
   "execution_count": 1,
   "metadata": {
    "tags": []
   },
   "outputs": [],
   "source": [
    "#!~/new_python_3_11_env/bin/python3 -m pip install tensorflow-datasets\n",
    "#!~/new_python_3_11_env/bin/python3 -m pip install tensorflow"
   ]
  },
  {
   "cell_type": "code",
   "execution_count": 2,
   "metadata": {
    "colab": {},
    "colab_type": "code",
    "id": "mCL6UCvWmggf",
    "tags": []
   },
   "outputs": [
    {
     "name": "stderr",
     "output_type": "stream",
     "text": [
      "2025-01-15 20:26:22.749194: I tensorflow/core/platform/cpu_feature_guard.cc:193] This TensorFlow binary is optimized with oneAPI Deep Neural Network Library (oneDNN) to use the following CPU instructions in performance-critical operations:  AVX2 AVX512F AVX512_VNNI FMA\n",
      "To enable them in other operations, rebuild TensorFlow with the appropriate compiler flags.\n",
      "2025-01-15 20:26:22.924486: I tensorflow/core/util/port.cc:104] oneDNN custom operations are on. You may see slightly different numerical results due to floating-point round-off errors from different computation orders. To turn them off, set the environment variable `TF_ENABLE_ONEDNN_OPTS=0`.\n",
      "2025-01-15 20:26:24.004376: W tensorflow/compiler/xla/stream_executor/platform/default/dso_loader.cc:64] Could not load dynamic library 'libnvinfer.so.7'; dlerror: libnvinfer.so.7: cannot open shared object file: No such file or directory; LD_LIBRARY_PATH: /usr/local/lib:/usr/local/nvidia/lib:/usr/local/nvidia/lib64\n",
      "2025-01-15 20:26:24.004462: W tensorflow/compiler/xla/stream_executor/platform/default/dso_loader.cc:64] Could not load dynamic library 'libnvinfer_plugin.so.7'; dlerror: libnvinfer_plugin.so.7: cannot open shared object file: No such file or directory; LD_LIBRARY_PATH: /usr/local/lib:/usr/local/nvidia/lib:/usr/local/nvidia/lib64\n",
      "2025-01-15 20:26:24.004467: W tensorflow/compiler/tf2tensorrt/utils/py_utils.cc:38] TF-TRT Warning: Cannot dlopen some TensorRT libraries. If you would like to use Nvidia GPU with TensorRT, please make sure the missing libraries mentioned above are installed properly.\n"
     ]
    }
   ],
   "source": [
    "import tensorflow as tf\n",
    "import tensorflow_datasets as tfds\n",
    "from tensorflow.keras import layers, models\n",
    "import keras\n",
    "import random\n",
    "import numpy as np\n",
    "import matplotlib.pyplot as plt"
   ]
  },
  {
   "cell_type": "code",
   "execution_count": 3,
   "metadata": {
    "tags": []
   },
   "outputs": [
    {
     "name": "stderr",
     "output_type": "stream",
     "text": [
      "2025-01-15 20:26:29.271990: I tensorflow/core/common_runtime/gpu/gpu_device.cc:1613] Created device /job:localhost/replica:0/task:0/device:GPU:0 with 16487 MB memory:  -> device: 0, name: NVIDIA A10, pci bus id: 0000:17:00.0, compute capability: 8.6\n",
      "2025-01-15 20:26:29.274661: I tensorflow/core/common_runtime/gpu/gpu_device.cc:1613] Created device /job:localhost/replica:0/task:0/device:GPU:1 with 20682 MB memory:  -> device: 1, name: NVIDIA A10, pci bus id: 0000:ca:00.0, compute capability: 8.6\n"
     ]
    }
   ],
   "source": [
    "# Load original model\n",
    "original_model_base = tf.keras.models.load_model('CNNModel/BaseCNN.keras')  # Replace with your model file\n",
    "original_model_base.trainable = False  # Freeze weights\n",
    "original_model_strong = tf.keras.models.load_model('CNNModel/StrongCNN.keras')  # Replace with your model file\n",
    "original_model_strong.trainable = False  # Freeze weights\n",
    "original_model_simple = tf.keras.models.load_model('CNNModel/simpleCNN.keras')  # Replace with your model file\n",
    "\n",
    "\n",
    "original_model_simple.trainabl=False\n",
    "\n",
    "original_model = tf.keras.models.load_model('CNNModel/BaseCNN.keras')  # Replace with your model file\n",
    "original_model.trainable = False  # Freeze weights\n",
    "\n"
   ]
  },
  {
   "cell_type": "code",
   "execution_count": 4,
   "metadata": {
    "tags": []
   },
   "outputs": [],
   "source": [
    "# @ layers with 2 deconvolution layers\n",
    "def build_atn(input_shape):\n",
    "    model = tf.keras.Sequential([\n",
    "        # First convolutional layers to capture features\n",
    "        layers.Conv2D(64, (3, 3), activation='relu', padding='same', input_shape=input_shape),\n",
    "        layers.MaxPooling2D((2, 2)),  # Downsample (14, 14, 64)\n",
    "\n",
    "        layers.Conv2D(128, (3, 3), activation='relu', padding='same'),\n",
    "        layers.MaxPooling2D((2, 2)),  # Downsample (7, 7, 128)\n",
    "\n",
    "        # Fully connected layer to integrate features\n",
    "        layers.Flatten(),  # Flatten to shape (7 * 7 * 128 = 6272)\n",
    "        layers.Dense(6272, activation='relu'),  # Match the reshape target\n",
    "\n",
    "        # Deconvolution layers to reconstruct adversarial examples\n",
    "        layers.Reshape((7, 7, 128)),  # Reshape for deconvolution\n",
    "        layers.Conv2DTranspose(128, (3, 3), activation='relu', strides=2, padding='same'),  # (14, 14, 128)\n",
    "        layers.Conv2DTranspose(64, (3, 3), activation='relu', strides=2, padding='same'),  # (28, 28, 64)\n",
    "        \n",
    "        layers.Conv2DTranspose(1, (3, 3), activation='sigmoid', padding='same'),  # Output layer (28, 28, 1)\n",
    "        layers.Lambda(lambda x: x * 255)  # Scale to [0, 255]\n",
    "    ])\n",
    "    return model\n",
    "\n",
    "# Build the ATN\n",
    "input_shape = (28, 28, 1)  # MNIST dataset shape\n",
    "atn = build_atn(input_shape)\n"
   ]
  },
  {
   "cell_type": "code",
   "execution_count": 5,
   "metadata": {},
   "outputs": [
    {
     "data": {
      "text/plain": [
       "\"\\ndef build_atn(input_shape):\\n    model = tf.keras.Sequential([\\n        layers.Conv2D(32, (3, 3), activation='relu', input_shape=input_shape),\\n        layers.MaxPooling2D((2, 2)),\\n        layers.Conv2D(64, (3, 3), activation='relu'),\\n        layers.Flatten(),\\n        layers.Dense(128, activation='relu'),\\n        layers.Dense(np.prod(input_shape), activation='sigmoid'),  # Use sigmoid for range [0, 1]\\n        layers.Reshape(input_shape),\\n        layers.Lambda(lambda x: x * 255)  # Scale to [0, 255]\\n    ])\\n    return model\\n\\n\\ninput_shape = (28, 28, 1)  # Assuming MNIST dataset\\natn = build_atn(input_shape)\\n\""
      ]
     },
     "execution_count": 5,
     "metadata": {},
     "output_type": "execute_result"
    }
   ],
   "source": [
    "# Define ATN 2 Layers only convulution\n",
    "###\n",
    "'''\n",
    "def build_atn(input_shape):\n",
    "    model = tf.keras.Sequential([\n",
    "        layers.Conv2D(32, (3, 3), activation='relu', input_shape=input_shape),\n",
    "        layers.MaxPooling2D((2, 2)),\n",
    "        layers.Conv2D(64, (3, 3), activation='relu'),\n",
    "        layers.Flatten(),\n",
    "        layers.Dense(128, activation='relu'),\n",
    "        layers.Dense(np.prod(input_shape), activation='sigmoid'),  # Use sigmoid for range [0, 1]\n",
    "        layers.Reshape(input_shape),\n",
    "        layers.Lambda(lambda x: x * 255)  # Scale to [0, 255]\n",
    "    ])\n",
    "    return model\n",
    "\n",
    "\n",
    "input_shape = (28, 28, 1)  # Assuming MNIST dataset\n",
    "atn = build_atn(input_shape)\n",
    "'''"
   ]
  },
  {
   "cell_type": "code",
   "execution_count": 6,
   "metadata": {
    "tags": []
   },
   "outputs": [],
   "source": [
    "# Define input loss and output loss function\n",
    "def input_loss(x, x_prime):\n",
    "    return tf.reduce_mean(tf.square(tf.cast(x, tf.float32) - x_prime))  # Cast x to float32  # L2 loss\n",
    "\n",
    "def output_loss(y_pred, y_target):\n",
    "    return tf.reduce_mean(tf.keras.losses.categorical_crossentropy(y_target, y_pred)) # crossentropy\n",
    "\n"
   ]
  },
  {
   "cell_type": "code",
   "execution_count": 7,
   "metadata": {
    "tags": []
   },
   "outputs": [],
   "source": [
    "def get_second_highest_target(y_pred_original):\n",
    "    # Sort predictions to find the highest and second-highest indices\n",
    "    top_2_indices = tf.argsort(y_pred_original, direction='DESCENDING', axis=1)[:, :2]\n",
    "    second_highest_indices = top_2_indices[:, 1]\n",
    "\n",
    "    # Create one-hot encoding for the second-highest class\n",
    "    y_target = tf.one_hot(second_highest_indices, depth=y_pred_original.shape[1])\n",
    "    return y_target\n"
   ]
  },
  {
   "cell_type": "code",
   "execution_count": 8,
   "metadata": {},
   "outputs": [],
   "source": [
    "class RandomApply(tf.keras.layers.Layer):\n",
    "    def __init__(self, layer, p=0.5, **kwargs):\n",
    "        super().__init__(**kwargs)\n",
    "        self.layer = layer\n",
    "        self.p = p\n",
    "\n",
    "    def call(self, x, training=None):\n",
    "        if not training:\n",
    "            return x\n",
    "        return tf.cond(\n",
    "            tf.random.uniform(()) < self.p,\n",
    "            lambda: self.layer(x, training=training),\n",
    "            lambda: x\n",
    "        )\n",
    "\n",
    "# A simple pipeline: horizontal flip, random rotation\n",
    "data_augmentation = tf.keras.Sequential([\n",
    "    RandomApply(layers.RandomRotation(0.2), p=0.5),\n",
    "    RandomApply(layers.RandomZoom(0.1,fill_mode='nearest'), p=0.5),\n",
    "])\n",
    "augmentation_with_p = RandomApply(data_augmentation, p=0)\n"
   ]
  },
  {
   "cell_type": "code",
   "execution_count": 9,
   "metadata": {
    "tags": []
   },
   "outputs": [],
   "source": [
    "# Define learning rate schedule\n",
    "boundaries = [100000]  # Steps at which learning rate changes\n",
    "values = [0.001, 0.0001]  # Corresponding learning rates\n",
    "\n",
    "lr_schedule = tf.keras.optimizers.schedules.PiecewiseConstantDecay(\n",
    "    boundaries=boundaries,\n",
    "    values=values\n",
    ")\n",
    "#optimizer = tf.keras.optimizers.Adam(learning_rate=lr_schedule)\n",
    "optimizer = tf.keras.optimizers.Adam(learning_rate=lr_schedule, clipnorm=1.0)\n",
    "beta = 0.1  # Weight for input-space loss\n",
    "models = [original_model_base, original_model_strong, original_model_simple]\n",
    "\n",
    "@tf.function\n",
    "\n",
    "def train_step(x, y_original, selected_model):\n",
    "    with tf.GradientTape() as tape:\n",
    "        # Generate adversarial examples\n",
    "        x_prime = atn(x)\n",
    "\n",
    "        # Get predictions for original and adversarial inputs using the selected model\n",
    "        y_pred_original = selected_model(x, training=False)\n",
    "        y_pred = selected_model(x_prime, training=False)\n",
    "\n",
    "        # Compute the second-highest target dynamically\n",
    "        y_target = get_second_highest_target(y_pred_original)\n",
    "\n",
    "        # Compute input loss and output loss separately\n",
    "        l_x = input_loss(x, x_prime)\n",
    "        l_y = output_loss(y_pred , y_target )\n",
    "\n",
    "        # Compute the combined loss\n",
    "        loss = beta * l_x + l_y\n",
    "\n",
    "    # Compute and apply gradients\n",
    "    gradients = tape.gradient(loss, atn.trainable_variables)\n",
    "    optimizer.apply_gradients(zip(gradients, atn.trainable_variables))\n",
    "\n",
    "    # Return total loss, input loss, and output loss\n",
    "    return loss, l_x, l_y"
   ]
  },
  {
   "cell_type": "code",
   "execution_count": 10,
   "metadata": {
    "colab": {
     "base_uri": "https://localhost:8080/",
     "height": 530
    },
    "colab_type": "code",
    "id": "_dUJNbrZmggi",
    "outputId": "3802d63c-a895-4db8-ab3f-6d73da0341ea",
    "tags": []
   },
   "outputs": [
    {
     "name": "stdout",
     "output_type": "stream",
     "text": [
      "Dataset loaded without normalization.\n"
     ]
    }
   ],
   "source": [
    "# Load MNIST datasetatn\n",
    "mnist_train, mnist_test = tfds.load('mnist', split=['train', 'test'], as_supervised=True)\n",
    "\n",
    "# Function to create adversarial target labels\n",
    "#def create_adversarial_target(label):\n",
    "#    # Example: Shift each label by 1 (cyclic mapping)\n",
    "#    return (label + 1) % 10\n",
    "\n",
    "# Preprocessing function for training the ATN\n",
    "def preprocess_image_atn(image, label):\n",
    "    # Do NOT normalize the images; keep them in the range [0, 255]\n",
    "    image = tf.cast(image, tf.float32)  # Ensure float32 for compatibility with loss functions\n",
    "    label_one_hot = tf.one_hot(label, depth=10)  # One-hot encode the original label\n",
    "    \n",
    "    # Return only the raw image and the original label\n",
    "    return image, label_one_hot\n",
    "\n",
    "# Apply preprocessing to the dataset\n",
    "mnist_train_atn = mnist_train.map(preprocess_image_atn)\n",
    "mnist_test_atn = mnist_test.map(preprocess_image_atn)\n",
    "\n",
    "# Batch and prefetch the dataset\n",
    "batch_size = 32\n",
    "mnist_train_atn = mnist_train_atn.batch(batch_size).prefetch(tf.data.AUTOTUNE)\n",
    "mnist_test_atn = mnist_test_atn.batch(batch_size).prefetch(tf.data.AUTOTUNE)\n",
    "\n",
    "print(\"Dataset loaded without normalization.\")\n"
   ]
  },
  {
   "cell_type": "code",
   "execution_count": 11,
   "metadata": {},
   "outputs": [
    {
     "name": "stdout",
     "output_type": "stream",
     "text": [
      "Epoch   Total Loss  Scaled Input LossOutput Loss Time (s)  \n",
      "--------------------------------------------------\n"
     ]
    },
    {
     "name": "stderr",
     "output_type": "stream",
     "text": [
      "Epoch 1/300 - BaseCNN:   0%|          | 0/1875 [00:00<?, ?it/s]2025-01-15 20:26:35.045509: I tensorflow/compiler/xla/stream_executor/cuda/cuda_dnn.cc:428] Loaded cuDNN version 8400\n",
      "2025-01-15 20:26:36.558036: I tensorflow/compiler/xla/stream_executor/cuda/cuda_blas.cc:630] TensorFloat-32 will be used for the matrix multiplication. This will only be logged once.\n",
      "Epoch 1/300 - BaseCNN: 100%|██████████| 1875/1875 [00:37<00:00, 50.59it/s]\n"
     ]
    },
    {
     "name": "stdout",
     "output_type": "stream",
     "text": [
      "1       BaseCNN     52.3711     46.5255     5.8456      37.07     \n"
     ]
    },
    {
     "name": "stderr",
     "output_type": "stream",
     "text": [
      "Epoch 2/300 - BaseCNN: 100%|██████████| 1875/1875 [00:29<00:00, 63.23it/s]\n"
     ]
    },
    {
     "name": "stdout",
     "output_type": "stream",
     "text": [
      "2       BaseCNN     25.8370     21.7783     4.0587      29.66     \n"
     ]
    },
    {
     "name": "stderr",
     "output_type": "stream",
     "text": [
      "Epoch 3/300 - StrongCNN: 100%|██████████| 1875/1875 [00:34<00:00, 54.12it/s]\n"
     ]
    },
    {
     "name": "stdout",
     "output_type": "stream",
     "text": [
      "3       StrongCNN   35.7843     24.6010     11.1833     34.66     \n"
     ]
    },
    {
     "name": "stderr",
     "output_type": "stream",
     "text": [
      "Epoch 4/300 - BaseCNN: 100%|██████████| 1875/1875 [00:29<00:00, 63.35it/s]\n"
     ]
    },
    {
     "name": "stdout",
     "output_type": "stream",
     "text": [
      "4       BaseCNN     22.1826     17.9092     4.2735      29.60     \n"
     ]
    },
    {
     "name": "stderr",
     "output_type": "stream",
     "text": [
      "Epoch 5/300 - SimpleCNN: 100%|██████████| 1875/1875 [00:26<00:00, 71.55it/s]\n"
     ]
    },
    {
     "name": "stdout",
     "output_type": "stream",
     "text": [
      "5       SimpleCNN   18.9651     15.4300     3.5351      26.21     \n"
     ]
    },
    {
     "name": "stderr",
     "output_type": "stream",
     "text": [
      "Epoch 6/300 - SimpleCNN: 100%|██████████| 1875/1875 [00:27<00:00, 68.52it/s]\n"
     ]
    },
    {
     "name": "stdout",
     "output_type": "stream",
     "text": [
      "6       SimpleCNN   16.4966     13.9908     2.5058      27.37     \n"
     ]
    },
    {
     "name": "stderr",
     "output_type": "stream",
     "text": [
      "Epoch 7/300 - BaseCNN: 100%|██████████| 1875/1875 [00:29<00:00, 63.00it/s]\n"
     ]
    },
    {
     "name": "stdout",
     "output_type": "stream",
     "text": [
      "7       BaseCNN     18.8525     14.9634     3.8890      29.77     \n"
     ]
    },
    {
     "name": "stderr",
     "output_type": "stream",
     "text": [
      "Epoch 8/300 - BaseCNN: 100%|██████████| 1875/1875 [00:29<00:00, 64.18it/s]\n"
     ]
    },
    {
     "name": "stdout",
     "output_type": "stream",
     "text": [
      "8       BaseCNN     17.0015     13.9820     3.0195      29.22     \n"
     ]
    },
    {
     "name": "stderr",
     "output_type": "stream",
     "text": [
      "Epoch 9/300 - StrongCNN: 100%|██████████| 1875/1875 [00:32<00:00, 56.99it/s]\n"
     ]
    },
    {
     "name": "stdout",
     "output_type": "stream",
     "text": [
      "9       StrongCNN   29.8435     20.0702     9.7733      32.91     \n"
     ]
    },
    {
     "name": "stderr",
     "output_type": "stream",
     "text": [
      "Epoch 10/300 - BaseCNN: 100%|██████████| 1875/1875 [00:29<00:00, 63.44it/s]\n"
     ]
    },
    {
     "name": "stdout",
     "output_type": "stream",
     "text": [
      "10      BaseCNN     17.0988     13.8739     3.2248      29.56     \n"
     ]
    },
    {
     "name": "stderr",
     "output_type": "stream",
     "text": [
      "Epoch 11/300 - SimpleCNN: 100%|██████████| 1875/1875 [00:27<00:00, 69.24it/s]\n"
     ]
    },
    {
     "name": "stdout",
     "output_type": "stream",
     "text": [
      "11      SimpleCNN   15.4013     12.5464     2.8549      27.09     \n"
     ]
    },
    {
     "name": "stderr",
     "output_type": "stream",
     "text": [
      "Epoch 12/300 - SimpleCNN: 100%|██████████| 1875/1875 [00:27<00:00, 69.37it/s]\n"
     ]
    },
    {
     "name": "stdout",
     "output_type": "stream",
     "text": [
      "12      SimpleCNN   13.8979     11.7549     2.1430      27.03     \n"
     ]
    },
    {
     "name": "stderr",
     "output_type": "stream",
     "text": [
      "Epoch 13/300 - SimpleCNN: 100%|██████████| 1875/1875 [00:27<00:00, 68.47it/s]\n"
     ]
    },
    {
     "name": "stdout",
     "output_type": "stream",
     "text": [
      "13      SimpleCNN   13.2347     11.3876     1.8471      27.39     \n"
     ]
    },
    {
     "name": "stderr",
     "output_type": "stream",
     "text": [
      "Epoch 14/300 - StrongCNN: 100%|██████████| 1875/1875 [00:33<00:00, 56.78it/s]\n"
     ]
    },
    {
     "name": "stdout",
     "output_type": "stream",
     "text": [
      "14      StrongCNN   27.8442     18.7752     9.0690      33.03     \n"
     ]
    },
    {
     "name": "stderr",
     "output_type": "stream",
     "text": [
      "Epoch 15/300 - BaseCNN: 100%|██████████| 1875/1875 [00:29<00:00, 63.10it/s]\n"
     ]
    },
    {
     "name": "stdout",
     "output_type": "stream",
     "text": [
      "15      BaseCNN     16.8572     13.2039     3.6534      29.72     \n"
     ]
    },
    {
     "name": "stderr",
     "output_type": "stream",
     "text": [
      "Epoch 16/300 - SimpleCNN: 100%|██████████| 1875/1875 [00:27<00:00, 69.12it/s]\n"
     ]
    },
    {
     "name": "stdout",
     "output_type": "stream",
     "text": [
      "16      SimpleCNN   13.4605     11.2715     2.1890      27.13     \n"
     ]
    },
    {
     "name": "stderr",
     "output_type": "stream",
     "text": [
      "Epoch 17/300 - StrongCNN: 100%|██████████| 1875/1875 [00:33<00:00, 56.27it/s]\n"
     ]
    },
    {
     "name": "stdout",
     "output_type": "stream",
     "text": [
      "17      StrongCNN   26.3021     18.1177     8.1845      33.33     \n"
     ]
    },
    {
     "name": "stderr",
     "output_type": "stream",
     "text": [
      "Epoch 18/300 - StrongCNN: 100%|██████████| 1875/1875 [00:33<00:00, 56.57it/s]\n"
     ]
    },
    {
     "name": "stdout",
     "output_type": "stream",
     "text": [
      "18      StrongCNN   24.0844     17.5737     6.5107      33.15     \n"
     ]
    },
    {
     "name": "stderr",
     "output_type": "stream",
     "text": [
      "Epoch 19/300 - BaseCNN: 100%|██████████| 1875/1875 [00:29<00:00, 63.86it/s]\n"
     ]
    },
    {
     "name": "stdout",
     "output_type": "stream",
     "text": [
      "19      BaseCNN     16.4070     12.8479     3.5591      29.37     \n"
     ]
    },
    {
     "name": "stderr",
     "output_type": "stream",
     "text": [
      "Epoch 20/300 - BaseCNN: 100%|██████████| 1875/1875 [00:29<00:00, 63.50it/s]\n"
     ]
    },
    {
     "name": "stdout",
     "output_type": "stream",
     "text": [
      "20      BaseCNN     14.4898     11.7874     2.7024      29.54     \n"
     ]
    },
    {
     "name": "stderr",
     "output_type": "stream",
     "text": [
      "Epoch 21/300 - SimpleCNN: 100%|██████████| 1875/1875 [00:26<00:00, 70.06it/s]\n"
     ]
    },
    {
     "name": "stdout",
     "output_type": "stream",
     "text": [
      "21      SimpleCNN   13.2408     10.8959     2.3449      26.77     \n"
     ]
    },
    {
     "name": "stderr",
     "output_type": "stream",
     "text": [
      "Epoch 22/300 - BaseCNN: 100%|██████████| 1875/1875 [00:25<00:00, 72.99it/s]\n"
     ]
    },
    {
     "name": "stdout",
     "output_type": "stream",
     "text": [
      "22      BaseCNN     14.5115     11.6243     2.8872      25.70     \n"
     ]
    },
    {
     "name": "stderr",
     "output_type": "stream",
     "text": [
      "Epoch 23/300 - SimpleCNN: 100%|██████████| 1875/1875 [00:26<00:00, 70.04it/s]\n"
     ]
    },
    {
     "name": "stdout",
     "output_type": "stream",
     "text": [
      "23      SimpleCNN   12.4444     10.4458     1.9986      26.78     \n"
     ]
    },
    {
     "name": "stderr",
     "output_type": "stream",
     "text": [
      "Epoch 24/300 - StrongCNN: 100%|██████████| 1875/1875 [00:33<00:00, 56.44it/s]\n"
     ]
    },
    {
     "name": "stdout",
     "output_type": "stream",
     "text": [
      "24      StrongCNN   25.3773     17.4983     7.8789      33.23     \n"
     ]
    },
    {
     "name": "stderr",
     "output_type": "stream",
     "text": [
      "Epoch 25/300 - SimpleCNN: 100%|██████████| 1875/1875 [00:26<00:00, 69.59it/s]\n"
     ]
    },
    {
     "name": "stdout",
     "output_type": "stream",
     "text": [
      "25      SimpleCNN   12.4091     10.4721     1.9370      26.95     \n"
     ]
    },
    {
     "name": "stderr",
     "output_type": "stream",
     "text": [
      "Epoch 26/300 - SimpleCNN: 100%|██████████| 1875/1875 [00:26<00:00, 69.54it/s]\n"
     ]
    },
    {
     "name": "stdout",
     "output_type": "stream",
     "text": [
      "26      SimpleCNN   11.3627     9.8399      1.5228      26.97     \n"
     ]
    },
    {
     "name": "stderr",
     "output_type": "stream",
     "text": [
      "Epoch 27/300 - BaseCNN: 100%|██████████| 1875/1875 [00:27<00:00, 67.44it/s]\n"
     ]
    },
    {
     "name": "stdout",
     "output_type": "stream",
     "text": [
      "27      BaseCNN     14.5705     11.4488     3.1216      27.81     \n"
     ]
    },
    {
     "name": "stderr",
     "output_type": "stream",
     "text": [
      "Epoch 28/300 - StrongCNN: 100%|██████████| 1875/1875 [00:33<00:00, 56.64it/s]\n"
     ]
    },
    {
     "name": "stdout",
     "output_type": "stream",
     "text": [
      "28      StrongCNN   24.8732     17.1405     7.7327      33.11     \n"
     ]
    },
    {
     "name": "stderr",
     "output_type": "stream",
     "text": [
      "Epoch 29/300 - SimpleCNN: 100%|██████████| 1875/1875 [00:26<00:00, 69.68it/s]\n"
     ]
    },
    {
     "name": "stdout",
     "output_type": "stream",
     "text": [
      "29      SimpleCNN   11.9365     10.1326     1.8039      26.92     \n"
     ]
    },
    {
     "name": "stderr",
     "output_type": "stream",
     "text": [
      "Epoch 30/300 - SimpleCNN: 100%|██████████| 1875/1875 [00:26<00:00, 71.70it/s]\n"
     ]
    },
    {
     "name": "stdout",
     "output_type": "stream",
     "text": [
      "30      SimpleCNN   10.8524     9.4555      1.3969      26.16     \n"
     ]
    },
    {
     "name": "stderr",
     "output_type": "stream",
     "text": [
      "Epoch 31/300 - SimpleCNN: 100%|██████████| 1875/1875 [00:26<00:00, 70.44it/s]\n"
     ]
    },
    {
     "name": "stdout",
     "output_type": "stream",
     "text": [
      "31      SimpleCNN   10.6854     9.3729      1.3126      26.63     \n"
     ]
    },
    {
     "name": "stderr",
     "output_type": "stream",
     "text": [
      "Epoch 32/300 - BaseCNN: 100%|██████████| 1875/1875 [00:27<00:00, 69.21it/s]\n"
     ]
    },
    {
     "name": "stdout",
     "output_type": "stream",
     "text": [
      "32      BaseCNN     14.3217     11.1660     3.1557      27.10     \n"
     ]
    },
    {
     "name": "stderr",
     "output_type": "stream",
     "text": [
      "Epoch 33/300 - SimpleCNN: 100%|██████████| 1875/1875 [00:27<00:00, 69.08it/s]\n"
     ]
    },
    {
     "name": "stdout",
     "output_type": "stream",
     "text": [
      "33      SimpleCNN   10.8637     9.4118      1.4520      27.15     \n"
     ]
    },
    {
     "name": "stderr",
     "output_type": "stream",
     "text": [
      "Epoch 34/300 - BaseCNN: 100%|██████████| 1875/1875 [00:27<00:00, 67.83it/s]\n"
     ]
    },
    {
     "name": "stdout",
     "output_type": "stream",
     "text": [
      "34      BaseCNN     13.5592     10.7747     2.7845      27.65     \n"
     ]
    },
    {
     "name": "stderr",
     "output_type": "stream",
     "text": [
      "Epoch 35/300 - StrongCNN: 100%|██████████| 1875/1875 [00:32<00:00, 57.08it/s]\n"
     ]
    },
    {
     "name": "stdout",
     "output_type": "stream",
     "text": [
      "35      StrongCNN   24.8440     16.9514     7.8927      32.86     \n"
     ]
    },
    {
     "name": "stderr",
     "output_type": "stream",
     "text": [
      "Epoch 36/300 - SimpleCNN: 100%|██████████| 1875/1875 [00:26<00:00, 70.08it/s]\n"
     ]
    },
    {
     "name": "stdout",
     "output_type": "stream",
     "text": [
      "36      SimpleCNN   11.2077     9.6384      1.5693      26.76     \n"
     ]
    },
    {
     "name": "stderr",
     "output_type": "stream",
     "text": [
      "Epoch 37/300 - BaseCNN: 100%|██████████| 1875/1875 [00:27<00:00, 68.27it/s]\n"
     ]
    },
    {
     "name": "stdout",
     "output_type": "stream",
     "text": [
      "37      BaseCNN     13.4241     10.6481     2.7760      27.47     \n"
     ]
    },
    {
     "name": "stderr",
     "output_type": "stream",
     "text": [
      "Epoch 38/300 - StrongCNN: 100%|██████████| 1875/1875 [00:32<00:00, 57.16it/s]\n"
     ]
    },
    {
     "name": "stdout",
     "output_type": "stream",
     "text": [
      "38      StrongCNN   23.8358     16.5913     7.2445      32.81     \n"
     ]
    },
    {
     "name": "stderr",
     "output_type": "stream",
     "text": [
      "Epoch 39/300 - BaseCNN: 100%|██████████| 1875/1875 [00:28<00:00, 65.60it/s]\n"
     ]
    },
    {
     "name": "stdout",
     "output_type": "stream",
     "text": [
      "39      BaseCNN     13.3677     10.7388     2.6289      28.59     \n"
     ]
    },
    {
     "name": "stderr",
     "output_type": "stream",
     "text": [
      "Epoch 40/300 - BaseCNN: 100%|██████████| 1875/1875 [00:25<00:00, 72.93it/s]\n"
     ]
    },
    {
     "name": "stdout",
     "output_type": "stream",
     "text": [
      "40      BaseCNN     12.2781     10.1193     2.1588      25.71     \n"
     ]
    },
    {
     "name": "stderr",
     "output_type": "stream",
     "text": [
      "Epoch 41/300 - SimpleCNN: 100%|██████████| 1875/1875 [00:26<00:00, 70.08it/s]\n"
     ]
    },
    {
     "name": "stdout",
     "output_type": "stream",
     "text": [
      "41      SimpleCNN   11.0558     9.4095      1.6463      26.76     \n"
     ]
    },
    {
     "name": "stderr",
     "output_type": "stream",
     "text": [
      "Epoch 42/300 - SimpleCNN: 100%|██████████| 1875/1875 [00:26<00:00, 69.95it/s]\n"
     ]
    },
    {
     "name": "stdout",
     "output_type": "stream",
     "text": [
      "42      SimpleCNN   10.1584     8.9056      1.2529      26.81     \n"
     ]
    },
    {
     "name": "stderr",
     "output_type": "stream",
     "text": [
      "Epoch 43/300 - BaseCNN: 100%|██████████| 1875/1875 [00:27<00:00, 69.28it/s]\n"
     ]
    },
    {
     "name": "stdout",
     "output_type": "stream",
     "text": [
      "43      BaseCNN     12.7359     10.2620     2.4739      27.07     \n"
     ]
    },
    {
     "name": "stderr",
     "output_type": "stream",
     "text": [
      "Epoch 44/300 - SimpleCNN: 100%|██████████| 1875/1875 [00:26<00:00, 69.73it/s]\n"
     ]
    },
    {
     "name": "stdout",
     "output_type": "stream",
     "text": [
      "44      SimpleCNN   10.3654     8.9941      1.3713      26.90     \n"
     ]
    },
    {
     "name": "stderr",
     "output_type": "stream",
     "text": [
      "Epoch 45/300 - SimpleCNN: 100%|██████████| 1875/1875 [00:26<00:00, 71.03it/s]\n"
     ]
    },
    {
     "name": "stdout",
     "output_type": "stream",
     "text": [
      "45      SimpleCNN   9.8796      8.7289      1.1507      26.41     \n"
     ]
    },
    {
     "name": "stderr",
     "output_type": "stream",
     "text": [
      "Epoch 46/300 - BaseCNN: 100%|██████████| 1875/1875 [00:27<00:00, 69.03it/s]\n"
     ]
    },
    {
     "name": "stdout",
     "output_type": "stream",
     "text": [
      "46      BaseCNN     12.5701     10.1311     2.4390      27.17     \n"
     ]
    },
    {
     "name": "stderr",
     "output_type": "stream",
     "text": [
      "Epoch 47/300 - StrongCNN: 100%|██████████| 1875/1875 [00:32<00:00, 57.37it/s]\n"
     ]
    },
    {
     "name": "stdout",
     "output_type": "stream",
     "text": [
      "47      StrongCNN   24.4132     16.6234     7.7897      32.69     \n"
     ]
    },
    {
     "name": "stderr",
     "output_type": "stream",
     "text": [
      "Epoch 48/300 - BaseCNN: 100%|██████████| 1875/1875 [00:27<00:00, 68.92it/s]\n"
     ]
    },
    {
     "name": "stdout",
     "output_type": "stream",
     "text": [
      "48      BaseCNN     12.5757     10.2180     2.3577      27.21     \n"
     ]
    },
    {
     "name": "stderr",
     "output_type": "stream",
     "text": [
      "Epoch 49/300 - SimpleCNN: 100%|██████████| 1875/1875 [00:27<00:00, 69.11it/s]\n"
     ]
    },
    {
     "name": "stdout",
     "output_type": "stream",
     "text": [
      "49      SimpleCNN   10.1949     8.8395      1.3554      27.14     \n"
     ]
    },
    {
     "name": "stderr",
     "output_type": "stream",
     "text": [
      "Epoch 50/300 - SimpleCNN: 100%|██████████| 1875/1875 [00:27<00:00, 69.10it/s]\n"
     ]
    },
    {
     "name": "stdout",
     "output_type": "stream",
     "text": [
      "50      SimpleCNN   9.6507      8.5433      1.1075      27.14     \n"
     ]
    },
    {
     "name": "stderr",
     "output_type": "stream",
     "text": [
      "Epoch 51/300 - StrongCNN: 100%|██████████| 1875/1875 [00:32<00:00, 57.03it/s]\n"
     ]
    },
    {
     "name": "stdout",
     "output_type": "stream",
     "text": [
      "51      StrongCNN   23.6876     16.3254     7.3621      32.88     \n"
     ]
    },
    {
     "name": "stderr",
     "output_type": "stream",
     "text": [
      "Epoch 52/300 - StrongCNN: 100%|██████████| 1875/1875 [00:32<00:00, 56.97it/s]\n"
     ]
    },
    {
     "name": "stdout",
     "output_type": "stream",
     "text": [
      "52      StrongCNN   21.4806     15.6373     5.8433      32.92     \n"
     ]
    },
    {
     "name": "stderr",
     "output_type": "stream",
     "text": [
      "Epoch 53/300 - BaseCNN: 100%|██████████| 1875/1875 [00:27<00:00, 68.33it/s]\n"
     ]
    },
    {
     "name": "stdout",
     "output_type": "stream",
     "text": [
      "53      BaseCNN     13.1537     10.5192     2.6345      27.45     \n"
     ]
    },
    {
     "name": "stderr",
     "output_type": "stream",
     "text": [
      "Epoch 54/300 - StrongCNN: 100%|██████████| 1875/1875 [00:32<00:00, 57.71it/s]\n"
     ]
    },
    {
     "name": "stdout",
     "output_type": "stream",
     "text": [
      "54      StrongCNN   20.6646     14.5023     6.1623      32.50     \n"
     ]
    },
    {
     "name": "stderr",
     "output_type": "stream",
     "text": [
      "Epoch 55/300 - StrongCNN: 100%|██████████| 1875/1875 [00:30<00:00, 61.32it/s]\n"
     ]
    },
    {
     "name": "stdout",
     "output_type": "stream",
     "text": [
      "55      StrongCNN   18.3237     13.1506     5.1731      30.58     \n"
     ]
    },
    {
     "name": "stderr",
     "output_type": "stream",
     "text": [
      "Epoch 56/300 - BaseCNN: 100%|██████████| 1875/1875 [00:27<00:00, 67.42it/s]\n"
     ]
    },
    {
     "name": "stdout",
     "output_type": "stream",
     "text": [
      "56      BaseCNN     12.1133     9.4182      2.6951      27.82     \n"
     ]
    },
    {
     "name": "stderr",
     "output_type": "stream",
     "text": [
      "Epoch 57/300 - BaseCNN: 100%|██████████| 1875/1875 [00:27<00:00, 68.99it/s]\n"
     ]
    },
    {
     "name": "stdout",
     "output_type": "stream",
     "text": [
      "57      BaseCNN     10.3928     8.4583      1.9345      27.18     \n"
     ]
    },
    {
     "name": "stderr",
     "output_type": "stream",
     "text": [
      "Epoch 58/300 - StrongCNN: 100%|██████████| 1875/1875 [00:29<00:00, 62.60it/s]\n"
     ]
    },
    {
     "name": "stdout",
     "output_type": "stream",
     "text": [
      "58      StrongCNN   19.6968     13.1800     6.5167      29.96     \n"
     ]
    },
    {
     "name": "stderr",
     "output_type": "stream",
     "text": [
      "Epoch 59/300 - BaseCNN: 100%|██████████| 1875/1875 [00:27<00:00, 68.88it/s]\n"
     ]
    },
    {
     "name": "stdout",
     "output_type": "stream",
     "text": [
      "59      BaseCNN     10.9749     8.7637      2.2112      27.23     \n"
     ]
    },
    {
     "name": "stderr",
     "output_type": "stream",
     "text": [
      "Epoch 60/300 - SimpleCNN: 100%|██████████| 1875/1875 [00:26<00:00, 69.83it/s]\n"
     ]
    },
    {
     "name": "stdout",
     "output_type": "stream",
     "text": [
      "60      SimpleCNN   9.9008      8.0155      1.8853      26.86     \n"
     ]
    },
    {
     "name": "stderr",
     "output_type": "stream",
     "text": [
      "Epoch 61/300 - BaseCNN: 100%|██████████| 1875/1875 [00:27<00:00, 67.93it/s]\n"
     ]
    },
    {
     "name": "stdout",
     "output_type": "stream",
     "text": [
      "61      BaseCNN     10.5625     8.3566      2.2060      27.61     \n"
     ]
    },
    {
     "name": "stderr",
     "output_type": "stream",
     "text": [
      "Epoch 62/300 - StrongCNN: 100%|██████████| 1875/1875 [00:31<00:00, 59.20it/s]\n"
     ]
    },
    {
     "name": "stdout",
     "output_type": "stream",
     "text": [
      "62      StrongCNN   19.6983     13.1383     6.5600      31.68     \n"
     ]
    },
    {
     "name": "stderr",
     "output_type": "stream",
     "text": [
      "Epoch 63/300 - SimpleCNN: 100%|██████████| 1875/1875 [00:26<00:00, 69.56it/s]\n"
     ]
    },
    {
     "name": "stdout",
     "output_type": "stream",
     "text": [
      "63      SimpleCNN   9.5801      7.9261      1.6539      26.96     \n"
     ]
    },
    {
     "name": "stderr",
     "output_type": "stream",
     "text": [
      "Epoch 64/300 - StrongCNN: 100%|██████████| 1875/1875 [00:30<00:00, 60.50it/s]\n"
     ]
    },
    {
     "name": "stdout",
     "output_type": "stream",
     "text": [
      "64      StrongCNN   19.0965     12.8917     6.2047      31.00     \n"
     ]
    },
    {
     "name": "stderr",
     "output_type": "stream",
     "text": [
      "Epoch 65/300 - StrongCNN: 100%|██████████| 1875/1875 [00:30<00:00, 60.89it/s]\n"
     ]
    },
    {
     "name": "stdout",
     "output_type": "stream",
     "text": [
      "65      StrongCNN   17.5843     12.5511     5.0333      30.80     \n"
     ]
    },
    {
     "name": "stderr",
     "output_type": "stream",
     "text": [
      "Epoch 66/300 - StrongCNN: 100%|██████████| 1875/1875 [00:31<00:00, 60.27it/s]\n"
     ]
    },
    {
     "name": "stdout",
     "output_type": "stream",
     "text": [
      "66      StrongCNN   17.2382     12.4402     4.7980      31.11     \n"
     ]
    },
    {
     "name": "stderr",
     "output_type": "stream",
     "text": [
      "Epoch 67/300 - SimpleCNN: 100%|██████████| 1875/1875 [00:26<00:00, 70.81it/s]\n"
     ]
    },
    {
     "name": "stdout",
     "output_type": "stream",
     "text": [
      "67      SimpleCNN   9.4224      7.9197      1.5027      26.49     \n"
     ]
    },
    {
     "name": "stderr",
     "output_type": "stream",
     "text": [
      "Epoch 68/300 - BaseCNN: 100%|██████████| 1875/1875 [00:27<00:00, 68.86it/s]\n"
     ]
    },
    {
     "name": "stdout",
     "output_type": "stream",
     "text": [
      "68      BaseCNN     10.7582     8.4373      2.3209      27.24     \n"
     ]
    },
    {
     "name": "stderr",
     "output_type": "stream",
     "text": [
      "Epoch 69/300 - BaseCNN: 100%|██████████| 1875/1875 [00:27<00:00, 68.86it/s]\n"
     ]
    },
    {
     "name": "stdout",
     "output_type": "stream",
     "text": [
      "69      BaseCNN     9.8241      8.0049      1.8192      27.24     \n"
     ]
    },
    {
     "name": "stderr",
     "output_type": "stream",
     "text": [
      "Epoch 70/300 - SimpleCNN: 100%|██████████| 1875/1875 [00:26<00:00, 69.85it/s]\n"
     ]
    },
    {
     "name": "stdout",
     "output_type": "stream",
     "text": [
      "70      SimpleCNN   8.7095      7.4001      1.3094      26.85     \n"
     ]
    },
    {
     "name": "stderr",
     "output_type": "stream",
     "text": [
      "Epoch 71/300 - BaseCNN: 100%|██████████| 1875/1875 [00:27<00:00, 67.12it/s]\n"
     ]
    },
    {
     "name": "stdout",
     "output_type": "stream",
     "text": [
      "71      BaseCNN     10.1153     8.0560      2.0593      27.94     \n"
     ]
    },
    {
     "name": "stderr",
     "output_type": "stream",
     "text": [
      "Epoch 72/300 - SimpleCNN: 100%|██████████| 1875/1875 [00:27<00:00, 68.47it/s]\n"
     ]
    },
    {
     "name": "stdout",
     "output_type": "stream",
     "text": [
      "72      SimpleCNN   8.3949      7.2141      1.1808      27.39     \n"
     ]
    },
    {
     "name": "stderr",
     "output_type": "stream",
     "text": [
      "Epoch 73/300 - StrongCNN: 100%|██████████| 1875/1875 [00:31<00:00, 60.45it/s]\n"
     ]
    },
    {
     "name": "stdout",
     "output_type": "stream",
     "text": [
      "73      StrongCNN   19.3660     12.9517     6.4143      31.03     \n"
     ]
    },
    {
     "name": "stderr",
     "output_type": "stream",
     "text": [
      "Epoch 74/300 - StrongCNN: 100%|██████████| 1875/1875 [00:30<00:00, 60.93it/s]\n"
     ]
    },
    {
     "name": "stdout",
     "output_type": "stream",
     "text": [
      "74      StrongCNN   17.4347     12.4415     4.9932      30.78     \n"
     ]
    },
    {
     "name": "stderr",
     "output_type": "stream",
     "text": [
      "Epoch 75/300 - BaseCNN: 100%|██████████| 1875/1875 [00:26<00:00, 71.16it/s]\n"
     ]
    },
    {
     "name": "stdout",
     "output_type": "stream",
     "text": [
      "75      BaseCNN     10.5480     8.4149      2.1331      26.35     \n"
     ]
    },
    {
     "name": "stderr",
     "output_type": "stream",
     "text": [
      "Epoch 76/300 - BaseCNN: 100%|██████████| 1875/1875 [00:26<00:00, 71.85it/s]\n"
     ]
    },
    {
     "name": "stdout",
     "output_type": "stream",
     "text": [
      "76      BaseCNN     9.5349      7.8209      1.7140      26.10     \n"
     ]
    },
    {
     "name": "stderr",
     "output_type": "stream",
     "text": [
      "Epoch 77/300 - SimpleCNN: 100%|██████████| 1875/1875 [00:26<00:00, 69.96it/s]\n"
     ]
    },
    {
     "name": "stdout",
     "output_type": "stream",
     "text": [
      "77      SimpleCNN   8.4461      7.2437      1.2024      26.81     \n"
     ]
    },
    {
     "name": "stderr",
     "output_type": "stream",
     "text": [
      "Epoch 78/300 - StrongCNN: 100%|██████████| 1875/1875 [00:31<00:00, 60.23it/s]\n"
     ]
    },
    {
     "name": "stdout",
     "output_type": "stream",
     "text": [
      "78      StrongCNN   18.8049     12.7479     6.0571      31.14     \n"
     ]
    },
    {
     "name": "stderr",
     "output_type": "stream",
     "text": [
      "Epoch 79/300 - SimpleCNN: 100%|██████████| 1875/1875 [00:26<00:00, 69.53it/s]\n"
     ]
    },
    {
     "name": "stdout",
     "output_type": "stream",
     "text": [
      "79      SimpleCNN   8.4598      7.3009      1.1589      26.97     \n"
     ]
    },
    {
     "name": "stderr",
     "output_type": "stream",
     "text": [
      "Epoch 80/300 - StrongCNN: 100%|██████████| 1875/1875 [00:31<00:00, 60.02it/s]\n"
     ]
    },
    {
     "name": "stdout",
     "output_type": "stream",
     "text": [
      "80      StrongCNN   18.2815     12.5516     5.7300      31.25     \n"
     ]
    },
    {
     "name": "stderr",
     "output_type": "stream",
     "text": [
      "Epoch 81/300 - StrongCNN: 100%|██████████| 1875/1875 [00:31<00:00, 59.94it/s]\n"
     ]
    },
    {
     "name": "stdout",
     "output_type": "stream",
     "text": [
      "81      StrongCNN   17.0087     12.2328     4.7759      31.29     \n"
     ]
    },
    {
     "name": "stderr",
     "output_type": "stream",
     "text": [
      "Epoch 82/300 - SimpleCNN: 100%|██████████| 1875/1875 [00:26<00:00, 69.97it/s]\n"
     ]
    },
    {
     "name": "stdout",
     "output_type": "stream",
     "text": [
      "82      SimpleCNN   8.4948      7.3581      1.1366      26.80     \n"
     ]
    },
    {
     "name": "stderr",
     "output_type": "stream",
     "text": [
      "Epoch 83/300 - BaseCNN: 100%|██████████| 1875/1875 [00:27<00:00, 67.37it/s]\n"
     ]
    },
    {
     "name": "stdout",
     "output_type": "stream",
     "text": [
      "83      BaseCNN     10.2056     8.0912      2.1145      27.84     \n"
     ]
    },
    {
     "name": "stderr",
     "output_type": "stream",
     "text": [
      "Epoch 84/300 - BaseCNN: 100%|██████████| 1875/1875 [00:27<00:00, 67.00it/s]\n"
     ]
    },
    {
     "name": "stdout",
     "output_type": "stream",
     "text": [
      "84      BaseCNN     9.4330      7.7275      1.7056      27.99     \n"
     ]
    },
    {
     "name": "stderr",
     "output_type": "stream",
     "text": [
      "Epoch 85/300 - StrongCNN: 100%|██████████| 1875/1875 [00:30<00:00, 60.92it/s]\n"
     ]
    },
    {
     "name": "stdout",
     "output_type": "stream",
     "text": [
      "85      StrongCNN   18.4321     12.6164     5.8157      30.78     \n"
     ]
    },
    {
     "name": "stderr",
     "output_type": "stream",
     "text": [
      "Epoch 86/300 - StrongCNN: 100%|██████████| 1875/1875 [00:30<00:00, 60.77it/s]\n"
     ]
    },
    {
     "name": "stdout",
     "output_type": "stream",
     "text": [
      "86      StrongCNN   16.8807     12.1813     4.6994      30.86     \n"
     ]
    },
    {
     "name": "stderr",
     "output_type": "stream",
     "text": [
      "Epoch 87/300 - StrongCNN: 100%|██████████| 1875/1875 [00:30<00:00, 61.04it/s]\n"
     ]
    },
    {
     "name": "stdout",
     "output_type": "stream",
     "text": [
      "87      StrongCNN   16.5759     12.0677     4.5082      30.73     \n"
     ]
    },
    {
     "name": "stderr",
     "output_type": "stream",
     "text": [
      "Epoch 88/300 - StrongCNN: 100%|██████████| 1875/1875 [00:30<00:00, 60.93it/s]\n"
     ]
    },
    {
     "name": "stdout",
     "output_type": "stream",
     "text": [
      "88      StrongCNN   16.3667     11.9981     4.3686      30.78     \n"
     ]
    },
    {
     "name": "stderr",
     "output_type": "stream",
     "text": [
      "Epoch 89/300 - SimpleCNN: 100%|██████████| 1875/1875 [00:26<00:00, 69.55it/s]\n"
     ]
    },
    {
     "name": "stdout",
     "output_type": "stream",
     "text": [
      "89      SimpleCNN   8.7123      7.4929      1.2194      26.96     \n"
     ]
    },
    {
     "name": "stderr",
     "output_type": "stream",
     "text": [
      "Epoch 90/300 - SimpleCNN: 100%|██████████| 1875/1875 [00:26<00:00, 69.65it/s]\n"
     ]
    },
    {
     "name": "stdout",
     "output_type": "stream",
     "text": [
      "90      SimpleCNN   7.7730      6.8622      0.9108      26.93     \n"
     ]
    },
    {
     "name": "stderr",
     "output_type": "stream",
     "text": [
      "Epoch 91/300 - SimpleCNN: 100%|██████████| 1875/1875 [00:26<00:00, 70.57it/s]\n"
     ]
    },
    {
     "name": "stdout",
     "output_type": "stream",
     "text": [
      "91      SimpleCNN   7.5547      6.7040      0.8508      26.57     \n"
     ]
    },
    {
     "name": "stderr",
     "output_type": "stream",
     "text": [
      "Epoch 92/300 - StrongCNN: 100%|██████████| 1875/1875 [00:30<00:00, 61.35it/s]\n"
     ]
    },
    {
     "name": "stdout",
     "output_type": "stream",
     "text": [
      "92      StrongCNN   17.8862     12.3998     5.4865      30.57     \n"
     ]
    },
    {
     "name": "stderr",
     "output_type": "stream",
     "text": [
      "Epoch 93/300 - SimpleCNN: 100%|██████████| 1875/1875 [00:26<00:00, 71.61it/s]\n"
     ]
    },
    {
     "name": "stdout",
     "output_type": "stream",
     "text": [
      "93      SimpleCNN   8.0032      7.0220      0.9812      26.19     \n"
     ]
    },
    {
     "name": "stderr",
     "output_type": "stream",
     "text": [
      "Epoch 94/300 - SimpleCNN: 100%|██████████| 1875/1875 [00:27<00:00, 68.86it/s]\n"
     ]
    },
    {
     "name": "stdout",
     "output_type": "stream",
     "text": [
      "94      SimpleCNN   7.4071      6.6073      0.7997      27.23     \n"
     ]
    },
    {
     "name": "stderr",
     "output_type": "stream",
     "text": [
      "Epoch 95/300 - SimpleCNN: 100%|██████████| 1875/1875 [00:27<00:00, 69.22it/s]\n"
     ]
    },
    {
     "name": "stdout",
     "output_type": "stream",
     "text": [
      "95      SimpleCNN   7.2854      6.5199      0.7655      27.10     \n"
     ]
    },
    {
     "name": "stderr",
     "output_type": "stream",
     "text": [
      "Epoch 96/300 - BaseCNN: 100%|██████████| 1875/1875 [00:27<00:00, 67.43it/s]\n"
     ]
    },
    {
     "name": "stdout",
     "output_type": "stream",
     "text": [
      "96      BaseCNN     10.2404     8.0196      2.2208      27.82     \n"
     ]
    },
    {
     "name": "stderr",
     "output_type": "stream",
     "text": [
      "Epoch 97/300 - StrongCNN: 100%|██████████| 1875/1875 [00:31<00:00, 59.37it/s]\n"
     ]
    },
    {
     "name": "stdout",
     "output_type": "stream",
     "text": [
      "97      StrongCNN   18.2531     12.5314     5.7217      31.59     \n"
     ]
    },
    {
     "name": "stderr",
     "output_type": "stream",
     "text": [
      "Epoch 98/300 - BaseCNN: 100%|██████████| 1875/1875 [00:27<00:00, 68.00it/s]\n"
     ]
    },
    {
     "name": "stdout",
     "output_type": "stream",
     "text": [
      "98      BaseCNN     10.0399     8.0291      2.0108      27.58     \n"
     ]
    },
    {
     "name": "stderr",
     "output_type": "stream",
     "text": [
      "Epoch 99/300 - BaseCNN: 100%|██████████| 1875/1875 [00:27<00:00, 68.37it/s]\n"
     ]
    },
    {
     "name": "stdout",
     "output_type": "stream",
     "text": [
      "99      BaseCNN     9.2686      7.5863      1.6823      27.43     \n"
     ]
    },
    {
     "name": "stderr",
     "output_type": "stream",
     "text": [
      "Epoch 100/300 - BaseCNN: 100%|██████████| 1875/1875 [00:27<00:00, 68.41it/s]\n"
     ]
    },
    {
     "name": "stdout",
     "output_type": "stream",
     "text": [
      "100     BaseCNN     9.1077      7.4958      1.6119      27.41     \n"
     ]
    },
    {
     "name": "stderr",
     "output_type": "stream",
     "text": [
      "Epoch 101/300 - StrongCNN: 100%|██████████| 1875/1875 [00:30<00:00, 60.72it/s]\n"
     ]
    },
    {
     "name": "stdout",
     "output_type": "stream",
     "text": [
      "101     StrongCNN   18.1038     12.5004     5.6034      30.89     \n"
     ]
    },
    {
     "name": "stderr",
     "output_type": "stream",
     "text": [
      "Epoch 102/300 - SimpleCNN: 100%|██████████| 1875/1875 [00:26<00:00, 70.65it/s]\n"
     ]
    },
    {
     "name": "stdout",
     "output_type": "stream",
     "text": [
      "102     SimpleCNN   8.0586      7.0298      1.0287      26.55     \n"
     ]
    },
    {
     "name": "stderr",
     "output_type": "stream",
     "text": [
      "Epoch 103/300 - BaseCNN: 100%|██████████| 1875/1875 [00:27<00:00, 68.08it/s]\n"
     ]
    },
    {
     "name": "stdout",
     "output_type": "stream",
     "text": [
      "103     BaseCNN     9.5907      7.7024      1.8883      27.55     \n"
     ]
    },
    {
     "name": "stderr",
     "output_type": "stream",
     "text": [
      "Epoch 104/300 - BaseCNN: 100%|██████████| 1875/1875 [00:27<00:00, 67.60it/s]\n"
     ]
    },
    {
     "name": "stdout",
     "output_type": "stream",
     "text": [
      "104     BaseCNN     9.0030      7.4345      1.5685      27.75     \n"
     ]
    },
    {
     "name": "stderr",
     "output_type": "stream",
     "text": [
      "Epoch 105/300 - StrongCNN: 100%|██████████| 1875/1875 [00:31<00:00, 59.55it/s]\n"
     ]
    },
    {
     "name": "stdout",
     "output_type": "stream",
     "text": [
      "105     StrongCNN   18.0250     12.4684     5.5566      31.49     \n"
     ]
    },
    {
     "name": "stderr",
     "output_type": "stream",
     "text": [
      "Epoch 106/300 - SimpleCNN: 100%|██████████| 1875/1875 [00:27<00:00, 68.68it/s]\n"
     ]
    },
    {
     "name": "stdout",
     "output_type": "stream",
     "text": [
      "106     SimpleCNN   7.9608      6.9721      0.9888      27.31     \n"
     ]
    },
    {
     "name": "stderr",
     "output_type": "stream",
     "text": [
      "Epoch 107/300 - BaseCNN: 100%|██████████| 1875/1875 [00:27<00:00, 67.91it/s]\n"
     ]
    },
    {
     "name": "stdout",
     "output_type": "stream",
     "text": [
      "107     BaseCNN     9.4387      7.6234      1.8153      27.62     \n"
     ]
    },
    {
     "name": "stderr",
     "output_type": "stream",
     "text": [
      "Epoch 108/300 - BaseCNN: 100%|██████████| 1875/1875 [00:27<00:00, 68.83it/s]\n"
     ]
    },
    {
     "name": "stdout",
     "output_type": "stream",
     "text": [
      "108     BaseCNN     8.8966      7.3746      1.5220      27.25     \n"
     ]
    },
    {
     "name": "stderr",
     "output_type": "stream",
     "text": [
      "Epoch 109/300 - BaseCNN: 100%|██████████| 1875/1875 [00:26<00:00, 71.02it/s]\n"
     ]
    },
    {
     "name": "stdout",
     "output_type": "stream",
     "text": [
      "109     BaseCNN     8.7917      7.3153      1.4763      26.41     \n"
     ]
    },
    {
     "name": "stderr",
     "output_type": "stream",
     "text": [
      "Epoch 110/300 - BaseCNN: 100%|██████████| 1875/1875 [00:25<00:00, 73.12it/s]\n"
     ]
    },
    {
     "name": "stdout",
     "output_type": "stream",
     "text": [
      "110     BaseCNN     8.7091      7.2720      1.4371      25.65     \n"
     ]
    },
    {
     "name": "stderr",
     "output_type": "stream",
     "text": [
      "Epoch 111/300 - BaseCNN: 100%|██████████| 1875/1875 [00:26<00:00, 69.77it/s]\n"
     ]
    },
    {
     "name": "stdout",
     "output_type": "stream",
     "text": [
      "111     BaseCNN     8.6346      7.2303      1.4044      26.88     \n"
     ]
    },
    {
     "name": "stderr",
     "output_type": "stream",
     "text": [
      "Epoch 112/300 - SimpleCNN: 100%|██████████| 1875/1875 [00:26<00:00, 69.46it/s]\n"
     ]
    },
    {
     "name": "stdout",
     "output_type": "stream",
     "text": [
      "112     SimpleCNN   7.8400      6.8049      1.0351      27.00     \n"
     ]
    },
    {
     "name": "stderr",
     "output_type": "stream",
     "text": [
      "Epoch 113/300 - BaseCNN: 100%|██████████| 1875/1875 [00:28<00:00, 66.25it/s]\n"
     ]
    },
    {
     "name": "stdout",
     "output_type": "stream",
     "text": [
      "113     BaseCNN     9.0255      7.3794      1.6461      28.31     \n"
     ]
    },
    {
     "name": "stderr",
     "output_type": "stream",
     "text": [
      "Epoch 114/300 - BaseCNN: 100%|██████████| 1875/1875 [00:27<00:00, 68.56it/s]\n"
     ]
    },
    {
     "name": "stdout",
     "output_type": "stream",
     "text": [
      "114     BaseCNN     8.5551      7.1743      1.3808      27.35     \n"
     ]
    },
    {
     "name": "stderr",
     "output_type": "stream",
     "text": [
      "Epoch 115/300 - SimpleCNN: 100%|██████████| 1875/1875 [00:27<00:00, 68.91it/s]\n"
     ]
    },
    {
     "name": "stdout",
     "output_type": "stream",
     "text": [
      "115     SimpleCNN   7.6803      6.7057      0.9746      27.21     \n"
     ]
    },
    {
     "name": "stderr",
     "output_type": "stream",
     "text": [
      "Epoch 116/300 - SimpleCNN: 100%|██████████| 1875/1875 [00:26<00:00, 69.83it/s]\n"
     ]
    },
    {
     "name": "stdout",
     "output_type": "stream",
     "text": [
      "116     SimpleCNN   7.1750      6.3935      0.7815      26.86     \n"
     ]
    },
    {
     "name": "stderr",
     "output_type": "stream",
     "text": [
      "Epoch 117/300 - BaseCNN: 100%|██████████| 1875/1875 [00:27<00:00, 68.08it/s]\n"
     ]
    },
    {
     "name": "stdout",
     "output_type": "stream",
     "text": [
      "117     BaseCNN     9.0210      7.3636      1.6574      27.55     \n"
     ]
    },
    {
     "name": "stderr",
     "output_type": "stream",
     "text": [
      "Epoch 118/300 - BaseCNN: 100%|██████████| 1875/1875 [00:27<00:00, 67.75it/s]\n"
     ]
    },
    {
     "name": "stdout",
     "output_type": "stream",
     "text": [
      "118     BaseCNN     8.5078      7.1320      1.3759      27.68     \n"
     ]
    },
    {
     "name": "stderr",
     "output_type": "stream",
     "text": [
      "Epoch 119/300 - StrongCNN: 100%|██████████| 1875/1875 [00:31<00:00, 59.92it/s]\n"
     ]
    },
    {
     "name": "stdout",
     "output_type": "stream",
     "text": [
      "119     StrongCNN   18.8357     12.7658     6.0698      31.30     \n"
     ]
    },
    {
     "name": "stderr",
     "output_type": "stream",
     "text": [
      "Epoch 120/300 - StrongCNN: 100%|██████████| 1875/1875 [00:31<00:00, 59.47it/s]\n"
     ]
    },
    {
     "name": "stdout",
     "output_type": "stream",
     "text": [
      "120     StrongCNN   17.0809     12.2002     4.8807      31.54     \n"
     ]
    },
    {
     "name": "stderr",
     "output_type": "stream",
     "text": [
      "Epoch 121/300 - StrongCNN: 100%|██████████| 1875/1875 [00:31<00:00, 59.89it/s]\n"
     ]
    },
    {
     "name": "stdout",
     "output_type": "stream",
     "text": [
      "121     StrongCNN   16.6332     12.0127     4.6205      31.31     \n"
     ]
    },
    {
     "name": "stderr",
     "output_type": "stream",
     "text": [
      "Epoch 122/300 - BaseCNN: 100%|██████████| 1875/1875 [00:27<00:00, 69.07it/s]\n"
     ]
    },
    {
     "name": "stdout",
     "output_type": "stream",
     "text": [
      "122     BaseCNN     9.3941      7.7006      1.6935      27.15     \n"
     ]
    },
    {
     "name": "stderr",
     "output_type": "stream",
     "text": [
      "Epoch 123/300 - SimpleCNN: 100%|██████████| 1875/1875 [00:26<00:00, 70.50it/s]\n"
     ]
    },
    {
     "name": "stdout",
     "output_type": "stream",
     "text": [
      "123     SimpleCNN   7.6886      6.7202      0.9684      26.60     \n"
     ]
    },
    {
     "name": "stderr",
     "output_type": "stream",
     "text": [
      "Epoch 124/300 - StrongCNN: 100%|██████████| 1875/1875 [00:30<00:00, 60.80it/s]\n"
     ]
    },
    {
     "name": "stdout",
     "output_type": "stream",
     "text": [
      "124     StrongCNN   17.7469     12.2867     5.4601      30.84     \n"
     ]
    },
    {
     "name": "stderr",
     "output_type": "stream",
     "text": [
      "Epoch 125/300 - SimpleCNN: 100%|██████████| 1875/1875 [00:27<00:00, 68.59it/s]\n"
     ]
    },
    {
     "name": "stdout",
     "output_type": "stream",
     "text": [
      "125     SimpleCNN   7.6553      6.7477      0.9076      27.34     \n"
     ]
    },
    {
     "name": "stderr",
     "output_type": "stream",
     "text": [
      "Epoch 126/300 - BaseCNN: 100%|██████████| 1875/1875 [00:27<00:00, 68.23it/s]\n"
     ]
    },
    {
     "name": "stdout",
     "output_type": "stream",
     "text": [
      "126     BaseCNN     9.0491      7.3954      1.6537      27.49     \n"
     ]
    },
    {
     "name": "stderr",
     "output_type": "stream",
     "text": [
      "Epoch 127/300 - SimpleCNN: 100%|██████████| 1875/1875 [00:26<00:00, 71.83it/s]\n"
     ]
    },
    {
     "name": "stdout",
     "output_type": "stream",
     "text": [
      "127     SimpleCNN   7.3975      6.5189      0.8786      26.11     \n"
     ]
    },
    {
     "name": "stderr",
     "output_type": "stream",
     "text": [
      "Epoch 128/300 - BaseCNN: 100%|██████████| 1875/1875 [00:27<00:00, 68.71it/s]\n"
     ]
    },
    {
     "name": "stdout",
     "output_type": "stream",
     "text": [
      "128     BaseCNN     8.8849      7.2930      1.5918      27.29     \n"
     ]
    },
    {
     "name": "stderr",
     "output_type": "stream",
     "text": [
      "Epoch 129/300 - StrongCNN: 100%|██████████| 1875/1875 [00:31<00:00, 58.64it/s]\n"
     ]
    },
    {
     "name": "stdout",
     "output_type": "stream",
     "text": [
      "129     StrongCNN   17.9840     12.4096     5.5744      31.98     \n"
     ]
    },
    {
     "name": "stderr",
     "output_type": "stream",
     "text": [
      "Epoch 130/300 - SimpleCNN: 100%|██████████| 1875/1875 [00:27<00:00, 68.87it/s]\n"
     ]
    },
    {
     "name": "stdout",
     "output_type": "stream",
     "text": [
      "130     SimpleCNN   7.5695      6.6870      0.8825      27.23     \n"
     ]
    },
    {
     "name": "stderr",
     "output_type": "stream",
     "text": [
      "Epoch 131/300 - BaseCNN: 100%|██████████| 1875/1875 [00:26<00:00, 70.28it/s]\n"
     ]
    },
    {
     "name": "stdout",
     "output_type": "stream",
     "text": [
      "131     BaseCNN     8.8771      7.2960      1.5811      26.69     \n"
     ]
    },
    {
     "name": "stderr",
     "output_type": "stream",
     "text": [
      "Epoch 132/300 - SimpleCNN: 100%|██████████| 1875/1875 [00:26<00:00, 69.89it/s]\n"
     ]
    },
    {
     "name": "stdout",
     "output_type": "stream",
     "text": [
      "132     SimpleCNN   7.2956      6.4494      0.8462      26.83     \n"
     ]
    },
    {
     "name": "stderr",
     "output_type": "stream",
     "text": [
      "Epoch 133/300 - StrongCNN: 100%|██████████| 1875/1875 [00:31<00:00, 59.69it/s]\n"
     ]
    },
    {
     "name": "stdout",
     "output_type": "stream",
     "text": [
      "133     StrongCNN   17.8534     12.3414     5.5120      31.42     \n"
     ]
    },
    {
     "name": "stderr",
     "output_type": "stream",
     "text": [
      "Epoch 134/300 - StrongCNN: 100%|██████████| 1875/1875 [00:31<00:00, 60.26it/s]\n"
     ]
    },
    {
     "name": "stdout",
     "output_type": "stream",
     "text": [
      "134     StrongCNN   16.5350     11.9309     4.6041      31.12     \n"
     ]
    },
    {
     "name": "stderr",
     "output_type": "stream",
     "text": [
      "Epoch 135/300 - StrongCNN: 100%|██████████| 1875/1875 [00:31<00:00, 60.15it/s]\n"
     ]
    },
    {
     "name": "stdout",
     "output_type": "stream",
     "text": [
      "135     StrongCNN   16.2039     11.7934     4.4104      31.18     \n"
     ]
    },
    {
     "name": "stderr",
     "output_type": "stream",
     "text": [
      "Epoch 136/300 - StrongCNN: 100%|██████████| 1875/1875 [00:30<00:00, 61.69it/s]\n"
     ]
    },
    {
     "name": "stdout",
     "output_type": "stream",
     "text": [
      "136     StrongCNN   15.9741     11.7054     4.2687      30.40     \n"
     ]
    },
    {
     "name": "stderr",
     "output_type": "stream",
     "text": [
      "Epoch 137/300 - SimpleCNN: 100%|██████████| 1875/1875 [00:27<00:00, 69.18it/s]\n"
     ]
    },
    {
     "name": "stdout",
     "output_type": "stream",
     "text": [
      "137     SimpleCNN   7.7477      6.8370      0.9107      27.11     \n"
     ]
    },
    {
     "name": "stderr",
     "output_type": "stream",
     "text": [
      "Epoch 138/300 - StrongCNN: 100%|██████████| 1875/1875 [00:31<00:00, 59.62it/s]\n"
     ]
    },
    {
     "name": "stdout",
     "output_type": "stream",
     "text": [
      "138     StrongCNN   16.7504     11.8709     4.8794      31.46     \n"
     ]
    },
    {
     "name": "stderr",
     "output_type": "stream",
     "text": [
      "Epoch 139/300 - SimpleCNN: 100%|██████████| 1875/1875 [00:27<00:00, 68.80it/s]\n"
     ]
    },
    {
     "name": "stdout",
     "output_type": "stream",
     "text": [
      "139     SimpleCNN   7.5071      6.6670      0.8401      27.26     \n"
     ]
    },
    {
     "name": "stderr",
     "output_type": "stream",
     "text": [
      "Epoch 140/300 - StrongCNN: 100%|██████████| 1875/1875 [00:31<00:00, 60.15it/s]\n"
     ]
    },
    {
     "name": "stdout",
     "output_type": "stream",
     "text": [
      "140     StrongCNN   16.6671     11.8449     4.8223      31.18     \n"
     ]
    },
    {
     "name": "stderr",
     "output_type": "stream",
     "text": [
      "Epoch 141/300 - StrongCNN: 100%|██████████| 1875/1875 [00:31<00:00, 59.96it/s]\n"
     ]
    },
    {
     "name": "stdout",
     "output_type": "stream",
     "text": [
      "141     StrongCNN   15.7785     11.6043     4.1741      31.28     \n"
     ]
    },
    {
     "name": "stderr",
     "output_type": "stream",
     "text": [
      "Epoch 142/300 - BaseCNN: 100%|██████████| 1875/1875 [00:27<00:00, 68.65it/s]\n"
     ]
    },
    {
     "name": "stdout",
     "output_type": "stream",
     "text": [
      "142     BaseCNN     9.6166      7.8079      1.8087      27.32     \n"
     ]
    },
    {
     "name": "stderr",
     "output_type": "stream",
     "text": [
      "Epoch 143/300 - StrongCNN: 100%|██████████| 1875/1875 [00:30<00:00, 61.82it/s]\n"
     ]
    },
    {
     "name": "stdout",
     "output_type": "stream",
     "text": [
      "143     StrongCNN   16.5720     11.8121     4.7599      30.34     \n"
     ]
    },
    {
     "name": "stderr",
     "output_type": "stream",
     "text": [
      "Epoch 144/300 - SimpleCNN: 100%|██████████| 1875/1875 [00:26<00:00, 71.69it/s]\n"
     ]
    },
    {
     "name": "stdout",
     "output_type": "stream",
     "text": [
      "144     SimpleCNN   7.5691      6.7204      0.8487      26.16     \n"
     ]
    },
    {
     "name": "stderr",
     "output_type": "stream",
     "text": [
      "Epoch 145/300 - StrongCNN: 100%|██████████| 1875/1875 [00:31<00:00, 60.09it/s]\n"
     ]
    },
    {
     "name": "stdout",
     "output_type": "stream",
     "text": [
      "145     StrongCNN   16.3984     11.7363     4.6621      31.21     \n"
     ]
    },
    {
     "name": "stderr",
     "output_type": "stream",
     "text": [
      "Epoch 146/300 - StrongCNN: 100%|██████████| 1875/1875 [00:32<00:00, 58.48it/s]\n"
     ]
    },
    {
     "name": "stdout",
     "output_type": "stream",
     "text": [
      "146     StrongCNN   15.5707     11.5165     4.0542      32.07     \n"
     ]
    },
    {
     "name": "stderr",
     "output_type": "stream",
     "text": [
      "Epoch 147/300 - SimpleCNN: 100%|██████████| 1875/1875 [00:27<00:00, 69.31it/s]\n"
     ]
    },
    {
     "name": "stdout",
     "output_type": "stream",
     "text": [
      "147     SimpleCNN   7.5378      6.7069      0.8309      27.06     \n"
     ]
    },
    {
     "name": "stderr",
     "output_type": "stream",
     "text": [
      "Epoch 148/300 - SimpleCNN: 100%|██████████| 1875/1875 [00:27<00:00, 68.56it/s]\n"
     ]
    },
    {
     "name": "stdout",
     "output_type": "stream",
     "text": [
      "148     SimpleCNN   7.0369      6.3116      0.7252      27.35     \n"
     ]
    },
    {
     "name": "stderr",
     "output_type": "stream",
     "text": [
      "Epoch 149/300 - BaseCNN: 100%|██████████| 1875/1875 [00:27<00:00, 68.22it/s]\n"
     ]
    },
    {
     "name": "stdout",
     "output_type": "stream",
     "text": [
      "149     BaseCNN     9.2733      7.5004      1.7730      27.49     \n"
     ]
    },
    {
     "name": "stderr",
     "output_type": "stream",
     "text": [
      "Epoch 150/300 - SimpleCNN:   2%|▏         | 42/1875 [00:00<00:26, 69.48it/s]IOPub message rate exceeded.\n",
      "The Jupyter server will temporarily stop sending output\n",
      "to the client in order to avoid crashing it.\n",
      "To change this limit, set the config variable\n",
      "`--ServerApp.iopub_msg_rate_limit`.\n",
      "\n",
      "Current values:\n",
      "ServerApp.iopub_msg_rate_limit=1000.0 (msgs/sec)\n",
      "ServerApp.rate_limit_window=3.0 (secs)\n",
      "\n",
      "Epoch 169/300 - StrongCNN: 100%|██████████| 1875/1875 [00:31<00:00, 59.93it/s]\n"
     ]
    },
    {
     "name": "stdout",
     "output_type": "stream",
     "text": [
      "169     StrongCNN   15.4198     11.4270     3.9928      31.30     \n"
     ]
    },
    {
     "name": "stderr",
     "output_type": "stream",
     "text": [
      "Epoch 170/300 - SimpleCNN: 100%|██████████| 1875/1875 [00:26<00:00, 69.56it/s]\n"
     ]
    },
    {
     "name": "stdout",
     "output_type": "stream",
     "text": [
      "170     SimpleCNN   7.2470      6.4821      0.7649      26.96     \n"
     ]
    },
    {
     "name": "stderr",
     "output_type": "stream",
     "text": [
      "Epoch 171/300 - SimpleCNN: 100%|██████████| 1875/1875 [00:27<00:00, 68.72it/s]\n"
     ]
    },
    {
     "name": "stdout",
     "output_type": "stream",
     "text": [
      "171     SimpleCNN   6.7765      6.1162      0.6603      27.29     \n"
     ]
    },
    {
     "name": "stderr",
     "output_type": "stream",
     "text": [
      "Epoch 172/300 - SimpleCNN: 100%|██████████| 1875/1875 [00:27<00:00, 68.77it/s]\n"
     ]
    },
    {
     "name": "stdout",
     "output_type": "stream",
     "text": [
      "172     SimpleCNN   6.6983      6.0449      0.6534      27.27     \n"
     ]
    },
    {
     "name": "stderr",
     "output_type": "stream",
     "text": [
      "Epoch 173/300 - SimpleCNN: 100%|██████████| 1875/1875 [00:26<00:00, 69.80it/s]\n"
     ]
    },
    {
     "name": "stdout",
     "output_type": "stream",
     "text": [
      "173     SimpleCNN   6.6593      6.0052      0.6541      26.87     \n"
     ]
    },
    {
     "name": "stderr",
     "output_type": "stream",
     "text": [
      "Epoch 174/300 - BaseCNN: 100%|██████████| 1875/1875 [00:27<00:00, 68.20it/s]\n"
     ]
    },
    {
     "name": "stdout",
     "output_type": "stream",
     "text": [
      "174     BaseCNN     9.1467      7.3813      1.7655      27.50     \n"
     ]
    },
    {
     "name": "stderr",
     "output_type": "stream",
     "text": [
      "Epoch 175/300 - SimpleCNN: 100%|██████████| 1875/1875 [00:28<00:00, 66.05it/s]\n"
     ]
    },
    {
     "name": "stdout",
     "output_type": "stream",
     "text": [
      "175     SimpleCNN   6.8382      6.1156      0.7226      28.39     \n"
     ]
    },
    {
     "name": "stderr",
     "output_type": "stream",
     "text": [
      "Epoch 176/300 - BaseCNN: 100%|██████████| 1875/1875 [00:27<00:00, 67.48it/s]\n"
     ]
    },
    {
     "name": "stdout",
     "output_type": "stream",
     "text": [
      "176     BaseCNN     8.8615      7.2194      1.6421      27.79     \n"
     ]
    },
    {
     "name": "stderr",
     "output_type": "stream",
     "text": [
      "Epoch 177/300 - StrongCNN: 100%|██████████| 1875/1875 [00:31<00:00, 59.01it/s]\n"
     ]
    },
    {
     "name": "stdout",
     "output_type": "stream",
     "text": [
      "177     StrongCNN   16.9476     11.9886     4.9590      31.78     \n"
     ]
    },
    {
     "name": "stderr",
     "output_type": "stream",
     "text": [
      "Epoch 178/300 - SimpleCNN: 100%|██████████| 1875/1875 [00:25<00:00, 73.23it/s]\n"
     ]
    },
    {
     "name": "stdout",
     "output_type": "stream",
     "text": [
      "178     SimpleCNN   6.9554      6.2526      0.7028      25.61     \n"
     ]
    },
    {
     "name": "stderr",
     "output_type": "stream",
     "text": [
      "Epoch 179/300 - SimpleCNN: 100%|██████████| 1875/1875 [00:28<00:00, 66.19it/s]\n"
     ]
    },
    {
     "name": "stdout",
     "output_type": "stream",
     "text": [
      "179     SimpleCNN   6.5464      5.9370      0.6094      28.33     \n"
     ]
    },
    {
     "name": "stderr",
     "output_type": "stream",
     "text": [
      "Epoch 180/300 - BaseCNN: 100%|██████████| 1875/1875 [00:27<00:00, 68.69it/s]\n"
     ]
    },
    {
     "name": "stdout",
     "output_type": "stream",
     "text": [
      "180     BaseCNN     8.8532      7.2161      1.6370      27.30     \n"
     ]
    },
    {
     "name": "stderr",
     "output_type": "stream",
     "text": [
      "Epoch 181/300 - StrongCNN: 100%|██████████| 1875/1875 [00:31<00:00, 60.01it/s]\n"
     ]
    },
    {
     "name": "stdout",
     "output_type": "stream",
     "text": [
      "181     StrongCNN   16.8177     11.9179     4.8998      31.25     \n"
     ]
    },
    {
     "name": "stderr",
     "output_type": "stream",
     "text": [
      "Epoch 182/300 - SimpleCNN: 100%|██████████| 1875/1875 [00:27<00:00, 68.82it/s]\n"
     ]
    },
    {
     "name": "stdout",
     "output_type": "stream",
     "text": [
      "182     SimpleCNN   6.8932      6.2084      0.6849      27.25     \n"
     ]
    },
    {
     "name": "stderr",
     "output_type": "stream",
     "text": [
      "Epoch 183/300 - BaseCNN: 100%|██████████| 1875/1875 [00:27<00:00, 68.10it/s]\n"
     ]
    },
    {
     "name": "stdout",
     "output_type": "stream",
     "text": [
      "183     BaseCNN     8.7552      7.1692      1.5860      27.54     \n"
     ]
    },
    {
     "name": "stderr",
     "output_type": "stream",
     "text": [
      "Epoch 184/300 - BaseCNN: 100%|██████████| 1875/1875 [00:27<00:00, 68.07it/s]\n"
     ]
    },
    {
     "name": "stdout",
     "output_type": "stream",
     "text": [
      "184     BaseCNN     8.3612      6.9755      1.3857      27.55     \n"
     ]
    },
    {
     "name": "stderr",
     "output_type": "stream",
     "text": [
      "Epoch 185/300 - SimpleCNN: 100%|██████████| 1875/1875 [00:26<00:00, 69.53it/s]\n"
     ]
    },
    {
     "name": "stdout",
     "output_type": "stream",
     "text": [
      "185     SimpleCNN   6.8320      6.1058      0.7262      26.97     \n"
     ]
    },
    {
     "name": "stderr",
     "output_type": "stream",
     "text": [
      "Epoch 186/300 - BaseCNN: 100%|██████████| 1875/1875 [00:27<00:00, 67.41it/s]\n"
     ]
    },
    {
     "name": "stdout",
     "output_type": "stream",
     "text": [
      "186     BaseCNN     8.5517      7.0399      1.5117      27.82     \n"
     ]
    },
    {
     "name": "stderr",
     "output_type": "stream",
     "text": [
      "Epoch 187/300 - StrongCNN: 100%|██████████| 1875/1875 [00:32<00:00, 57.71it/s]\n"
     ]
    },
    {
     "name": "stdout",
     "output_type": "stream",
     "text": [
      "187     StrongCNN   16.9533     11.9918     4.9615      32.50     \n"
     ]
    },
    {
     "name": "stderr",
     "output_type": "stream",
     "text": [
      "Epoch 188/300 - StrongCNN: 100%|██████████| 1875/1875 [00:31<00:00, 60.22it/s]\n"
     ]
    },
    {
     "name": "stdout",
     "output_type": "stream",
     "text": [
      "188     StrongCNN   15.7864     11.5784     4.2080      31.14     \n"
     ]
    },
    {
     "name": "stderr",
     "output_type": "stream",
     "text": [
      "Epoch 189/300 - StrongCNN: 100%|██████████| 1875/1875 [00:31<00:00, 58.88it/s]\n"
     ]
    },
    {
     "name": "stdout",
     "output_type": "stream",
     "text": [
      "189     StrongCNN   15.5001     11.4468     4.0533      31.85     \n"
     ]
    },
    {
     "name": "stderr",
     "output_type": "stream",
     "text": [
      "Epoch 190/300 - SimpleCNN: 100%|██████████| 1875/1875 [00:27<00:00, 68.95it/s]\n"
     ]
    },
    {
     "name": "stdout",
     "output_type": "stream",
     "text": [
      "190     SimpleCNN   7.0760      6.3507      0.7253      27.20     \n"
     ]
    },
    {
     "name": "stderr",
     "output_type": "stream",
     "text": [
      "Epoch 191/300 - StrongCNN: 100%|██████████| 1875/1875 [00:31<00:00, 60.22it/s]\n"
     ]
    },
    {
     "name": "stdout",
     "output_type": "stream",
     "text": [
      "191     StrongCNN   16.0695     11.5561     4.5134      31.14     \n"
     ]
    },
    {
     "name": "stderr",
     "output_type": "stream",
     "text": [
      "Epoch 192/300 - BaseCNN: 100%|██████████| 1875/1875 [00:27<00:00, 68.57it/s]\n"
     ]
    },
    {
     "name": "stdout",
     "output_type": "stream",
     "text": [
      "192     BaseCNN     8.9635      7.3609      1.6025      27.35     \n"
     ]
    },
    {
     "name": "stderr",
     "output_type": "stream",
     "text": [
      "Epoch 193/300 - SimpleCNN: 100%|██████████| 1875/1875 [00:27<00:00, 69.09it/s]\n"
     ]
    },
    {
     "name": "stdout",
     "output_type": "stream",
     "text": [
      "193     SimpleCNN   6.8725      6.1494      0.7231      27.15     \n"
     ]
    },
    {
     "name": "stderr",
     "output_type": "stream",
     "text": [
      "Epoch 194/300 - BaseCNN: 100%|██████████| 1875/1875 [00:27<00:00, 67.79it/s]\n"
     ]
    },
    {
     "name": "stdout",
     "output_type": "stream",
     "text": [
      "194     BaseCNN     8.5802      7.0654      1.5148      27.67     \n"
     ]
    },
    {
     "name": "stderr",
     "output_type": "stream",
     "text": [
      "Epoch 195/300 - BaseCNN: 100%|██████████| 1875/1875 [00:26<00:00, 71.72it/s]\n"
     ]
    },
    {
     "name": "stdout",
     "output_type": "stream",
     "text": [
      "195     BaseCNN     8.2264      6.8986      1.3278      26.15     \n"
     ]
    },
    {
     "name": "stderr",
     "output_type": "stream",
     "text": [
      "Epoch 196/300 - StrongCNN: 100%|██████████| 1875/1875 [00:31<00:00, 60.35it/s]\n"
     ]
    },
    {
     "name": "stdout",
     "output_type": "stream",
     "text": [
      "196     StrongCNN   16.5962     11.8307     4.7655      31.07     \n"
     ]
    },
    {
     "name": "stderr",
     "output_type": "stream",
     "text": [
      "Epoch 197/300 - BaseCNN: 100%|██████████| 1875/1875 [00:27<00:00, 68.80it/s]\n"
     ]
    },
    {
     "name": "stdout",
     "output_type": "stream",
     "text": [
      "197     BaseCNN     8.5963      7.1378      1.4585      27.26     \n"
     ]
    },
    {
     "name": "stderr",
     "output_type": "stream",
     "text": [
      "Epoch 198/300 - StrongCNN: 100%|██████████| 1875/1875 [00:30<00:00, 60.68it/s]\n"
     ]
    },
    {
     "name": "stdout",
     "output_type": "stream",
     "text": [
      "198     StrongCNN   16.2742     11.6788     4.5954      30.91     \n"
     ]
    },
    {
     "name": "stderr",
     "output_type": "stream",
     "text": [
      "Epoch 199/300 - SimpleCNN: 100%|██████████| 1875/1875 [00:27<00:00, 68.56it/s]\n"
     ]
    },
    {
     "name": "stdout",
     "output_type": "stream",
     "text": [
      "199     SimpleCNN   7.0387      6.3065      0.7322      27.36     \n"
     ]
    },
    {
     "name": "stderr",
     "output_type": "stream",
     "text": [
      "Epoch 200/300 - StrongCNN: 100%|██████████| 1875/1875 [00:30<00:00, 60.70it/s]\n"
     ]
    },
    {
     "name": "stdout",
     "output_type": "stream",
     "text": [
      "200     StrongCNN   16.0636     11.5567     4.5069      30.90     \n"
     ]
    },
    {
     "name": "stderr",
     "output_type": "stream",
     "text": [
      "Epoch 201/300 - BaseCNN: 100%|██████████| 1875/1875 [00:27<00:00, 67.96it/s]\n"
     ]
    },
    {
     "name": "stdout",
     "output_type": "stream",
     "text": [
      "201     BaseCNN     8.6829      7.2016      1.4813      27.60     \n"
     ]
    },
    {
     "name": "stderr",
     "output_type": "stream",
     "text": [
      "Epoch 202/300 - BaseCNN: 100%|██████████| 1875/1875 [00:27<00:00, 68.63it/s]\n"
     ]
    },
    {
     "name": "stdout",
     "output_type": "stream",
     "text": [
      "202     BaseCNN     8.1657      6.8810      1.2847      27.33     \n"
     ]
    },
    {
     "name": "stderr",
     "output_type": "stream",
     "text": [
      "Epoch 203/300 - SimpleCNN: 100%|██████████| 1875/1875 [00:26<00:00, 69.66it/s]\n"
     ]
    },
    {
     "name": "stdout",
     "output_type": "stream",
     "text": [
      "203     SimpleCNN   6.9016      6.1617      0.7399      26.92     \n"
     ]
    },
    {
     "name": "stderr",
     "output_type": "stream",
     "text": [
      "Epoch 204/300 - StrongCNN: 100%|██████████| 1875/1875 [00:30<00:00, 61.52it/s]\n"
     ]
    },
    {
     "name": "stdout",
     "output_type": "stream",
     "text": [
      "204     StrongCNN   16.2254     11.6474     4.5779      30.49     \n"
     ]
    },
    {
     "name": "stderr",
     "output_type": "stream",
     "text": [
      "Epoch 205/300 - BaseCNN: 100%|██████████| 1875/1875 [00:27<00:00, 68.51it/s]\n"
     ]
    },
    {
     "name": "stdout",
     "output_type": "stream",
     "text": [
      "205     BaseCNN     8.5527      7.1173      1.4353      27.38     \n"
     ]
    },
    {
     "name": "stderr",
     "output_type": "stream",
     "text": [
      "Epoch 206/300 - StrongCNN: 100%|██████████| 1875/1875 [00:30<00:00, 62.33it/s]\n"
     ]
    },
    {
     "name": "stdout",
     "output_type": "stream",
     "text": [
      "206     StrongCNN   16.1085     11.5984     4.5101      30.09     \n"
     ]
    },
    {
     "name": "stderr",
     "output_type": "stream",
     "text": [
      "Epoch 207/300 - BaseCNN: 100%|██████████| 1875/1875 [00:27<00:00, 67.81it/s]\n"
     ]
    },
    {
     "name": "stdout",
     "output_type": "stream",
     "text": [
      "207     BaseCNN     8.4845      7.0858      1.3987      27.66     \n"
     ]
    },
    {
     "name": "stderr",
     "output_type": "stream",
     "text": [
      "Epoch 208/300 - StrongCNN: 100%|██████████| 1875/1875 [00:30<00:00, 60.72it/s]\n"
     ]
    },
    {
     "name": "stdout",
     "output_type": "stream",
     "text": [
      "208     StrongCNN   15.9779     11.5500     4.4280      30.89     \n"
     ]
    },
    {
     "name": "stderr",
     "output_type": "stream",
     "text": [
      "Epoch 209/300 - SimpleCNN: 100%|██████████| 1875/1875 [00:26<00:00, 70.07it/s]\n"
     ]
    },
    {
     "name": "stdout",
     "output_type": "stream",
     "text": [
      "209     SimpleCNN   7.0316      6.3058      0.7259      26.76     \n"
     ]
    },
    {
     "name": "stderr",
     "output_type": "stream",
     "text": [
      "Epoch 210/300 - BaseCNN: 100%|██████████| 1875/1875 [00:27<00:00, 69.30it/s]\n"
     ]
    },
    {
     "name": "stdout",
     "output_type": "stream",
     "text": [
      "210     BaseCNN     8.4112      6.9782      1.4330      27.06     \n"
     ]
    },
    {
     "name": "stderr",
     "output_type": "stream",
     "text": [
      "Epoch 211/300 - SimpleCNN: 100%|██████████| 1875/1875 [00:26<00:00, 70.62it/s]\n"
     ]
    },
    {
     "name": "stdout",
     "output_type": "stream",
     "text": [
      "211     SimpleCNN   6.8309      6.1059      0.7249      26.56     \n"
     ]
    },
    {
     "name": "stderr",
     "output_type": "stream",
     "text": [
      "Epoch 212/300 - BaseCNN: 100%|██████████| 1875/1875 [00:25<00:00, 72.47it/s]\n"
     ]
    },
    {
     "name": "stdout",
     "output_type": "stream",
     "text": [
      "212     BaseCNN     8.3185      6.9132      1.4053      25.88     \n"
     ]
    },
    {
     "name": "stderr",
     "output_type": "stream",
     "text": [
      "Epoch 213/300 - StrongCNN: 100%|██████████| 1875/1875 [00:30<00:00, 60.55it/s]\n"
     ]
    },
    {
     "name": "stdout",
     "output_type": "stream",
     "text": [
      "213     StrongCNN   16.2727     11.7026     4.5701      30.97     \n"
     ]
    },
    {
     "name": "stderr",
     "output_type": "stream",
     "text": [
      "Epoch 214/300 - StrongCNN: 100%|██████████| 1875/1875 [00:31<00:00, 59.88it/s]\n"
     ]
    },
    {
     "name": "stdout",
     "output_type": "stream",
     "text": [
      "214     StrongCNN   15.3585     11.3804     3.9781      31.32     \n"
     ]
    },
    {
     "name": "stderr",
     "output_type": "stream",
     "text": [
      "Epoch 215/300 - SimpleCNN: 100%|██████████| 1875/1875 [00:27<00:00, 69.13it/s]\n"
     ]
    },
    {
     "name": "stdout",
     "output_type": "stream",
     "text": [
      "215     SimpleCNN   6.9659      6.2585      0.7074      27.13     \n"
     ]
    },
    {
     "name": "stderr",
     "output_type": "stream",
     "text": [
      "Epoch 216/300 - BaseCNN: 100%|██████████| 1875/1875 [00:27<00:00, 68.81it/s]\n"
     ]
    },
    {
     "name": "stdout",
     "output_type": "stream",
     "text": [
      "216     BaseCNN     8.3691      6.9571      1.4120      27.25     \n"
     ]
    },
    {
     "name": "stderr",
     "output_type": "stream",
     "text": [
      "Epoch 217/300 - StrongCNN: 100%|██████████| 1875/1875 [00:30<00:00, 61.03it/s]\n"
     ]
    },
    {
     "name": "stdout",
     "output_type": "stream",
     "text": [
      "217     StrongCNN   15.9510     11.5387     4.4123      30.73     \n"
     ]
    },
    {
     "name": "stderr",
     "output_type": "stream",
     "text": [
      "Epoch 218/300 - BaseCNN: 100%|██████████| 1875/1875 [00:27<00:00, 67.13it/s]\n"
     ]
    },
    {
     "name": "stdout",
     "output_type": "stream",
     "text": [
      "218     BaseCNN     8.4402      7.0532      1.3870      27.94     \n"
     ]
    },
    {
     "name": "stderr",
     "output_type": "stream",
     "text": [
      "Epoch 219/300 - BaseCNN: 100%|██████████| 1875/1875 [00:27<00:00, 69.32it/s]\n"
     ]
    },
    {
     "name": "stdout",
     "output_type": "stream",
     "text": [
      "219     BaseCNN     8.0237      6.7907      1.2330      27.06     \n"
     ]
    },
    {
     "name": "stderr",
     "output_type": "stream",
     "text": [
      "Epoch 220/300 - SimpleCNN: 100%|██████████| 1875/1875 [00:27<00:00, 69.10it/s]\n"
     ]
    },
    {
     "name": "stdout",
     "output_type": "stream",
     "text": [
      "220     SimpleCNN   6.8672      6.1315      0.7357      27.14     \n"
     ]
    },
    {
     "name": "stderr",
     "output_type": "stream",
     "text": [
      "Epoch 221/300 - StrongCNN: 100%|██████████| 1875/1875 [00:31<00:00, 60.14it/s]\n"
     ]
    },
    {
     "name": "stdout",
     "output_type": "stream",
     "text": [
      "221     StrongCNN   16.0766     11.5985     4.4780      31.18     \n"
     ]
    },
    {
     "name": "stderr",
     "output_type": "stream",
     "text": [
      "Epoch 222/300 - BaseCNN: 100%|██████████| 1875/1875 [00:24<00:00, 77.53it/s]\n"
     ]
    },
    {
     "name": "stdout",
     "output_type": "stream",
     "text": [
      "222     BaseCNN     8.3872      7.0166      1.3706      24.19     \n"
     ]
    },
    {
     "name": "stderr",
     "output_type": "stream",
     "text": [
      "Epoch 223/300 - BaseCNN: 100%|██████████| 1875/1875 [00:24<00:00, 76.35it/s]\n"
     ]
    },
    {
     "name": "stdout",
     "output_type": "stream",
     "text": [
      "223     BaseCNN     7.9603      6.7493      1.2111      24.56     \n"
     ]
    },
    {
     "name": "stderr",
     "output_type": "stream",
     "text": [
      "Epoch 224/300 - SimpleCNN: 100%|██████████| 1875/1875 [00:23<00:00, 79.43it/s]\n"
     ]
    },
    {
     "name": "stdout",
     "output_type": "stream",
     "text": [
      "224     SimpleCNN   6.8236      6.1030      0.7206      23.61     \n"
     ]
    },
    {
     "name": "stderr",
     "output_type": "stream",
     "text": [
      "Epoch 225/300 - BaseCNN: 100%|██████████| 1875/1875 [00:24<00:00, 75.74it/s]\n"
     ]
    },
    {
     "name": "stdout",
     "output_type": "stream",
     "text": [
      "225     BaseCNN     8.1512      6.8163      1.3349      24.76     \n"
     ]
    },
    {
     "name": "stderr",
     "output_type": "stream",
     "text": [
      "Epoch 226/300 - StrongCNN: 100%|██████████| 1875/1875 [00:26<00:00, 71.03it/s]\n"
     ]
    },
    {
     "name": "stdout",
     "output_type": "stream",
     "text": [
      "226     StrongCNN   16.2391     11.6744     4.5647      26.40     \n"
     ]
    },
    {
     "name": "stderr",
     "output_type": "stream",
     "text": [
      "Epoch 227/300 - SimpleCNN: 100%|██████████| 1875/1875 [00:22<00:00, 82.47it/s]\n"
     ]
    },
    {
     "name": "stdout",
     "output_type": "stream",
     "text": [
      "227     SimpleCNN   6.9171      6.1916      0.7256      22.74     \n"
     ]
    },
    {
     "name": "stderr",
     "output_type": "stream",
     "text": [
      "Epoch 228/300 - StrongCNN: 100%|██████████| 1875/1875 [00:27<00:00, 68.46it/s]\n"
     ]
    },
    {
     "name": "stdout",
     "output_type": "stream",
     "text": [
      "228     StrongCNN   15.9478     11.5242     4.4236      27.40     \n"
     ]
    },
    {
     "name": "stderr",
     "output_type": "stream",
     "text": [
      "Epoch 229/300 - StrongCNN: 100%|██████████| 1875/1875 [00:27<00:00, 68.78it/s]\n"
     ]
    },
    {
     "name": "stdout",
     "output_type": "stream",
     "text": [
      "229     StrongCNN   15.2381     11.2934     3.9447      27.27     \n"
     ]
    },
    {
     "name": "stderr",
     "output_type": "stream",
     "text": [
      "Epoch 230/300 - BaseCNN: 100%|██████████| 1875/1875 [00:24<00:00, 77.81it/s]\n"
     ]
    },
    {
     "name": "stdout",
     "output_type": "stream",
     "text": [
      "230     BaseCNN     8.4575      7.0740      1.3836      24.10     \n"
     ]
    },
    {
     "name": "stderr",
     "output_type": "stream",
     "text": [
      "Epoch 231/300 - SimpleCNN: 100%|██████████| 1875/1875 [00:22<00:00, 82.14it/s]\n"
     ]
    },
    {
     "name": "stdout",
     "output_type": "stream",
     "text": [
      "231     SimpleCNN   6.8163      6.0932      0.7232      22.83     \n"
     ]
    },
    {
     "name": "stderr",
     "output_type": "stream",
     "text": [
      "Epoch 232/300 - StrongCNN: 100%|██████████| 1875/1875 [00:27<00:00, 68.95it/s]\n"
     ]
    },
    {
     "name": "stdout",
     "output_type": "stream",
     "text": [
      "232     StrongCNN   15.8108     11.4538     4.3569      27.20     \n"
     ]
    },
    {
     "name": "stderr",
     "output_type": "stream",
     "text": [
      "Epoch 233/300 - BaseCNN: 100%|██████████| 1875/1875 [00:24<00:00, 76.89it/s]\n"
     ]
    },
    {
     "name": "stdout",
     "output_type": "stream",
     "text": [
      "233     BaseCNN     8.3525      7.0000      1.3526      24.39     \n"
     ]
    },
    {
     "name": "stderr",
     "output_type": "stream",
     "text": [
      "Epoch 234/300 - BaseCNN: 100%|██████████| 1875/1875 [00:24<00:00, 76.16it/s]\n"
     ]
    },
    {
     "name": "stdout",
     "output_type": "stream",
     "text": [
      "234     BaseCNN     7.9383      6.7339      1.2044      24.63     \n"
     ]
    },
    {
     "name": "stderr",
     "output_type": "stream",
     "text": [
      "Epoch 235/300 - BaseCNN: 100%|██████████| 1875/1875 [00:24<00:00, 75.20it/s]\n"
     ]
    },
    {
     "name": "stdout",
     "output_type": "stream",
     "text": [
      "235     BaseCNN     7.8376      6.6722      1.1654      24.94     \n"
     ]
    },
    {
     "name": "stderr",
     "output_type": "stream",
     "text": [
      "Epoch 236/300 - StrongCNN: 100%|██████████| 1875/1875 [00:26<00:00, 69.97it/s]\n"
     ]
    },
    {
     "name": "stdout",
     "output_type": "stream",
     "text": [
      "236     StrongCNN   16.0200     11.5752     4.4448      26.80     \n"
     ]
    },
    {
     "name": "stderr",
     "output_type": "stream",
     "text": [
      "Epoch 237/300 - SimpleCNN: 100%|██████████| 1875/1875 [00:22<00:00, 82.96it/s]\n"
     ]
    },
    {
     "name": "stdout",
     "output_type": "stream",
     "text": [
      "237     SimpleCNN   6.9049      6.1980      0.7069      22.61     \n"
     ]
    },
    {
     "name": "stderr",
     "output_type": "stream",
     "text": [
      "Epoch 238/300 - BaseCNN: 100%|██████████| 1875/1875 [00:24<00:00, 76.93it/s]\n"
     ]
    },
    {
     "name": "stdout",
     "output_type": "stream",
     "text": [
      "238     BaseCNN     8.0984      6.7939      1.3046      24.38     \n"
     ]
    },
    {
     "name": "stderr",
     "output_type": "stream",
     "text": [
      "Epoch 239/300 - SimpleCNN: 100%|██████████| 1875/1875 [00:22<00:00, 84.09it/s]\n"
     ]
    },
    {
     "name": "stdout",
     "output_type": "stream",
     "text": [
      "239     SimpleCNN   6.7428      6.0285      0.7143      22.30     \n"
     ]
    },
    {
     "name": "stderr",
     "output_type": "stream",
     "text": [
      "Epoch 240/300 - SimpleCNN: 100%|██████████| 1875/1875 [00:22<00:00, 82.16it/s]\n"
     ]
    },
    {
     "name": "stdout",
     "output_type": "stream",
     "text": [
      "240     SimpleCNN   6.4944      5.8496      0.6448      22.83     \n"
     ]
    },
    {
     "name": "stderr",
     "output_type": "stream",
     "text": [
      "Epoch 241/300 - BaseCNN: 100%|██████████| 1875/1875 [00:24<00:00, 77.63it/s]\n"
     ]
    },
    {
     "name": "stdout",
     "output_type": "stream",
     "text": [
      "241     BaseCNN     8.1113      6.7886      1.3228      24.16     \n"
     ]
    },
    {
     "name": "stderr",
     "output_type": "stream",
     "text": [
      "Epoch 242/300 - SimpleCNN: 100%|██████████| 1875/1875 [00:23<00:00, 81.23it/s]\n"
     ]
    },
    {
     "name": "stdout",
     "output_type": "stream",
     "text": [
      "242     SimpleCNN   6.6014      5.9223      0.6791      23.09     \n"
     ]
    },
    {
     "name": "stderr",
     "output_type": "stream",
     "text": [
      "Epoch 243/300 - BaseCNN: 100%|██████████| 1875/1875 [00:27<00:00, 68.00it/s]\n"
     ]
    },
    {
     "name": "stdout",
     "output_type": "stream",
     "text": [
      "243     BaseCNN     8.0327      6.7364      1.2962      27.58     \n"
     ]
    },
    {
     "name": "stderr",
     "output_type": "stream",
     "text": [
      "Epoch 244/300 - StrongCNN: 100%|██████████| 1875/1875 [00:31<00:00, 60.07it/s]\n"
     ]
    },
    {
     "name": "stdout",
     "output_type": "stream",
     "text": [
      "244     StrongCNN   16.3290     11.7142     4.6148      31.22     \n"
     ]
    },
    {
     "name": "stderr",
     "output_type": "stream",
     "text": [
      "Epoch 245/300 - StrongCNN: 100%|██████████| 1875/1875 [00:31<00:00, 59.22it/s]\n"
     ]
    },
    {
     "name": "stdout",
     "output_type": "stream",
     "text": [
      "245     StrongCNN   15.3616     11.3693     3.9923      31.67     \n"
     ]
    },
    {
     "name": "stderr",
     "output_type": "stream",
     "text": [
      "Epoch 246/300 - SimpleCNN: 100%|██████████| 1875/1875 [00:27<00:00, 68.53it/s]\n"
     ]
    },
    {
     "name": "stdout",
     "output_type": "stream",
     "text": [
      "246     SimpleCNN   6.8123      6.1278      0.6845      27.37     \n"
     ]
    },
    {
     "name": "stderr",
     "output_type": "stream",
     "text": [
      "Epoch 247/300 - BaseCNN: 100%|██████████| 1875/1875 [00:27<00:00, 68.94it/s]\n"
     ]
    },
    {
     "name": "stdout",
     "output_type": "stream",
     "text": [
      "247     BaseCNN     8.0800      6.7754      1.3045      27.20     \n"
     ]
    },
    {
     "name": "stderr",
     "output_type": "stream",
     "text": [
      "Epoch 248/300 - StrongCNN: 100%|██████████| 1875/1875 [00:27<00:00, 69.07it/s]\n"
     ]
    },
    {
     "name": "stdout",
     "output_type": "stream",
     "text": [
      "248     StrongCNN   15.9216     11.5113     4.4103      27.15     \n"
     ]
    },
    {
     "name": "stderr",
     "output_type": "stream",
     "text": [
      "Epoch 249/300 - BaseCNN: 100%|██████████| 1875/1875 [00:25<00:00, 74.55it/s]\n"
     ]
    },
    {
     "name": "stdout",
     "output_type": "stream",
     "text": [
      "249     BaseCNN     8.1546      6.8691      1.2855      25.16     \n"
     ]
    },
    {
     "name": "stderr",
     "output_type": "stream",
     "text": [
      "Epoch 250/300 - StrongCNN: 100%|██████████| 1875/1875 [00:26<00:00, 71.53it/s]\n"
     ]
    },
    {
     "name": "stdout",
     "output_type": "stream",
     "text": [
      "250     StrongCNN   15.7590     11.4395     4.3195      26.22     \n"
     ]
    },
    {
     "name": "stderr",
     "output_type": "stream",
     "text": [
      "Epoch 251/300 - BaseCNN: 100%|██████████| 1875/1875 [00:24<00:00, 76.56it/s]\n"
     ]
    },
    {
     "name": "stdout",
     "output_type": "stream",
     "text": [
      "251     BaseCNN     8.1088      6.8467      1.2621      24.50     \n"
     ]
    },
    {
     "name": "stderr",
     "output_type": "stream",
     "text": [
      "Epoch 252/300 - BaseCNN: 100%|██████████| 1875/1875 [00:24<00:00, 76.82it/s]\n"
     ]
    },
    {
     "name": "stdout",
     "output_type": "stream",
     "text": [
      "252     BaseCNN     7.7521      6.6158      1.1362      24.41     \n"
     ]
    },
    {
     "name": "stderr",
     "output_type": "stream",
     "text": [
      "Epoch 253/300 - BaseCNN: 100%|██████████| 1875/1875 [00:24<00:00, 77.35it/s]\n"
     ]
    },
    {
     "name": "stdout",
     "output_type": "stream",
     "text": [
      "253     BaseCNN     7.7199      6.5882      1.1318      24.25     \n"
     ]
    },
    {
     "name": "stderr",
     "output_type": "stream",
     "text": [
      "Epoch 254/300 - StrongCNN: 100%|██████████| 1875/1875 [00:27<00:00, 68.25it/s]\n"
     ]
    },
    {
     "name": "stdout",
     "output_type": "stream",
     "text": [
      "254     StrongCNN   15.9767     11.5553     4.4214      27.48     \n"
     ]
    },
    {
     "name": "stderr",
     "output_type": "stream",
     "text": [
      "Epoch 255/300 - SimpleCNN: 100%|██████████| 1875/1875 [00:22<00:00, 82.47it/s]\n"
     ]
    },
    {
     "name": "stdout",
     "output_type": "stream",
     "text": [
      "255     SimpleCNN   6.8935      6.1796      0.7139      22.74     \n"
     ]
    },
    {
     "name": "stderr",
     "output_type": "stream",
     "text": [
      "Epoch 256/300 - SimpleCNN: 100%|██████████| 1875/1875 [00:22<00:00, 81.68it/s]\n"
     ]
    },
    {
     "name": "stdout",
     "output_type": "stream",
     "text": [
      "256     SimpleCNN   6.4804      5.8520      0.6285      22.96     \n"
     ]
    },
    {
     "name": "stderr",
     "output_type": "stream",
     "text": [
      "Epoch 257/300 - SimpleCNN: 100%|██████████| 1875/1875 [00:22<00:00, 83.52it/s]\n"
     ]
    },
    {
     "name": "stdout",
     "output_type": "stream",
     "text": [
      "257     SimpleCNN   6.3848      5.7735      0.6113      22.46     \n"
     ]
    },
    {
     "name": "stderr",
     "output_type": "stream",
     "text": [
      "Epoch 258/300 - SimpleCNN: 100%|██████████| 1875/1875 [00:22<00:00, 82.89it/s]\n"
     ]
    },
    {
     "name": "stdout",
     "output_type": "stream",
     "text": [
      "258     SimpleCNN   6.3187      5.7263      0.5924      22.63     \n"
     ]
    },
    {
     "name": "stderr",
     "output_type": "stream",
     "text": [
      "Epoch 259/300 - SimpleCNN: 100%|██████████| 1875/1875 [00:22<00:00, 83.42it/s]\n"
     ]
    },
    {
     "name": "stdout",
     "output_type": "stream",
     "text": [
      "259     SimpleCNN   6.3052      5.7051      0.6001      22.48     \n"
     ]
    },
    {
     "name": "stderr",
     "output_type": "stream",
     "text": [
      "Epoch 260/300 - StrongCNN: 100%|██████████| 1875/1875 [00:26<00:00, 70.58it/s]\n"
     ]
    },
    {
     "name": "stdout",
     "output_type": "stream",
     "text": [
      "260     StrongCNN   16.3655     11.7147     4.6508      26.57     \n"
     ]
    },
    {
     "name": "stderr",
     "output_type": "stream",
     "text": [
      "Epoch 261/300 - BaseCNN: 100%|██████████| 1875/1875 [00:24<00:00, 76.87it/s]\n"
     ]
    },
    {
     "name": "stdout",
     "output_type": "stream",
     "text": [
      "261     BaseCNN     8.2775      6.9342      1.3433      24.40     \n"
     ]
    },
    {
     "name": "stderr",
     "output_type": "stream",
     "text": [
      "Epoch 262/300 - StrongCNN: 100%|██████████| 1875/1875 [00:26<00:00, 70.31it/s]\n"
     ]
    },
    {
     "name": "stdout",
     "output_type": "stream",
     "text": [
      "262     StrongCNN   15.8691     11.4817     4.3875      26.68     \n"
     ]
    },
    {
     "name": "stderr",
     "output_type": "stream",
     "text": [
      "Epoch 263/300 - StrongCNN: 100%|██████████| 1875/1875 [00:26<00:00, 70.95it/s]\n"
     ]
    },
    {
     "name": "stdout",
     "output_type": "stream",
     "text": [
      "263     StrongCNN   15.1299     11.2363     3.8936      26.43     \n"
     ]
    },
    {
     "name": "stderr",
     "output_type": "stream",
     "text": [
      "Epoch 264/300 - StrongCNN: 100%|██████████| 1875/1875 [00:25<00:00, 72.65it/s]\n"
     ]
    },
    {
     "name": "stdout",
     "output_type": "stream",
     "text": [
      "264     StrongCNN   14.8967     11.1299     3.7669      25.81     \n"
     ]
    },
    {
     "name": "stderr",
     "output_type": "stream",
     "text": [
      "Epoch 265/300 - BaseCNN: 100%|██████████| 1875/1875 [00:24<00:00, 77.36it/s]\n"
     ]
    },
    {
     "name": "stdout",
     "output_type": "stream",
     "text": [
      "265     BaseCNN     8.2991      6.9786      1.3205      24.24     \n"
     ]
    },
    {
     "name": "stderr",
     "output_type": "stream",
     "text": [
      "Epoch 266/300 - BaseCNN: 100%|██████████| 1875/1875 [00:24<00:00, 77.53it/s]\n"
     ]
    },
    {
     "name": "stdout",
     "output_type": "stream",
     "text": [
      "266     BaseCNN     7.7767      6.6340      1.1427      24.19     \n"
     ]
    },
    {
     "name": "stderr",
     "output_type": "stream",
     "text": [
      "Epoch 267/300 - BaseCNN: 100%|██████████| 1875/1875 [00:24<00:00, 76.61it/s]\n"
     ]
    },
    {
     "name": "stdout",
     "output_type": "stream",
     "text": [
      "267     BaseCNN     7.6672      6.5577      1.1095      24.48     \n"
     ]
    },
    {
     "name": "stderr",
     "output_type": "stream",
     "text": [
      "Epoch 268/300 - StrongCNN: 100%|██████████| 1875/1875 [00:26<00:00, 69.62it/s]\n"
     ]
    },
    {
     "name": "stdout",
     "output_type": "stream",
     "text": [
      "268     StrongCNN   15.7317     11.4266     4.3051      26.94     \n"
     ]
    },
    {
     "name": "stderr",
     "output_type": "stream",
     "text": [
      "Epoch 269/300 - SimpleCNN: 100%|██████████| 1875/1875 [00:22<00:00, 83.54it/s]\n"
     ]
    },
    {
     "name": "stdout",
     "output_type": "stream",
     "text": [
      "269     SimpleCNN   6.7805      6.0984      0.6821      22.45     \n"
     ]
    },
    {
     "name": "stderr",
     "output_type": "stream",
     "text": [
      "Epoch 270/300 - BaseCNN: 100%|██████████| 1875/1875 [00:23<00:00, 78.21it/s]\n"
     ]
    },
    {
     "name": "stdout",
     "output_type": "stream",
     "text": [
      "270     BaseCNN     7.9319      6.6748      1.2571      23.98     \n"
     ]
    },
    {
     "name": "stderr",
     "output_type": "stream",
     "text": [
      "Epoch 271/300 - StrongCNN: 100%|██████████| 1875/1875 [00:26<00:00, 72.03it/s]\n"
     ]
    },
    {
     "name": "stdout",
     "output_type": "stream",
     "text": [
      "271     StrongCNN   15.6571     11.3850     4.2720      26.04     \n"
     ]
    },
    {
     "name": "stderr",
     "output_type": "stream",
     "text": [
      "Epoch 272/300 - SimpleCNN: 100%|██████████| 1875/1875 [00:22<00:00, 82.59it/s]\n"
     ]
    },
    {
     "name": "stdout",
     "output_type": "stream",
     "text": [
      "272     SimpleCNN   6.6748      6.0247      0.6500      22.71     \n"
     ]
    },
    {
     "name": "stderr",
     "output_type": "stream",
     "text": [
      "Epoch 273/300 - StrongCNN: 100%|██████████| 1875/1875 [00:26<00:00, 71.60it/s]\n"
     ]
    },
    {
     "name": "stdout",
     "output_type": "stream",
     "text": [
      "273     StrongCNN   15.5711     11.3408     4.2303      26.19     \n"
     ]
    },
    {
     "name": "stderr",
     "output_type": "stream",
     "text": [
      "Epoch 274/300 - SimpleCNN: 100%|██████████| 1875/1875 [00:22<00:00, 84.12it/s]\n"
     ]
    },
    {
     "name": "stdout",
     "output_type": "stream",
     "text": [
      "274     SimpleCNN   6.6036      5.9690      0.6346      22.29     \n"
     ]
    },
    {
     "name": "stderr",
     "output_type": "stream",
     "text": [
      "Epoch 275/300 - SimpleCNN: 100%|██████████| 1875/1875 [00:23<00:00, 80.67it/s]\n"
     ]
    },
    {
     "name": "stdout",
     "output_type": "stream",
     "text": [
      "275     SimpleCNN   6.3154      5.7259      0.5895      23.25     \n"
     ]
    },
    {
     "name": "stderr",
     "output_type": "stream",
     "text": [
      "Epoch 276/300 - SimpleCNN: 100%|██████████| 1875/1875 [00:22<00:00, 82.45it/s]\n"
     ]
    },
    {
     "name": "stdout",
     "output_type": "stream",
     "text": [
      "276     SimpleCNN   6.2249      5.6598      0.5651      22.75     \n"
     ]
    },
    {
     "name": "stderr",
     "output_type": "stream",
     "text": [
      "Epoch 277/300 - StrongCNN: 100%|██████████| 1875/1875 [00:25<00:00, 72.97it/s]\n"
     ]
    },
    {
     "name": "stdout",
     "output_type": "stream",
     "text": [
      "277     StrongCNN   15.7725     11.4444     4.3282      25.70     \n"
     ]
    },
    {
     "name": "stderr",
     "output_type": "stream",
     "text": [
      "Epoch 278/300 - BaseCNN: 100%|██████████| 1875/1875 [00:24<00:00, 75.61it/s]\n"
     ]
    },
    {
     "name": "stdout",
     "output_type": "stream",
     "text": [
      "278     BaseCNN     8.2261      6.8976      1.3284      24.80     \n"
     ]
    },
    {
     "name": "stderr",
     "output_type": "stream",
     "text": [
      "Epoch 279/300 - SimpleCNN: 100%|██████████| 1875/1875 [00:22<00:00, 83.76it/s]\n"
     ]
    },
    {
     "name": "stdout",
     "output_type": "stream",
     "text": [
      "279     SimpleCNN   6.4727      5.8223      0.6504      22.39     \n"
     ]
    },
    {
     "name": "stderr",
     "output_type": "stream",
     "text": [
      "Epoch 280/300 - BaseCNN: 100%|██████████| 1875/1875 [00:23<00:00, 78.28it/s]\n"
     ]
    },
    {
     "name": "stdout",
     "output_type": "stream",
     "text": [
      "280     BaseCNN     7.9964      6.7018      1.2946      23.96     \n"
     ]
    },
    {
     "name": "stderr",
     "output_type": "stream",
     "text": [
      "Epoch 281/300 - SimpleCNN: 100%|██████████| 1875/1875 [00:22<00:00, 82.61it/s]\n"
     ]
    },
    {
     "name": "stdout",
     "output_type": "stream",
     "text": [
      "281     SimpleCNN   6.4336      5.7821      0.6515      22.70     \n"
     ]
    },
    {
     "name": "stderr",
     "output_type": "stream",
     "text": [
      "Epoch 282/300 - SimpleCNN: 100%|██████████| 1875/1875 [00:22<00:00, 82.20it/s]\n"
     ]
    },
    {
     "name": "stdout",
     "output_type": "stream",
     "text": [
      "282     SimpleCNN   6.2389      5.6456      0.5933      22.82     \n"
     ]
    },
    {
     "name": "stderr",
     "output_type": "stream",
     "text": [
      "Epoch 283/300 - SimpleCNN: 100%|██████████| 1875/1875 [00:23<00:00, 81.36it/s]\n"
     ]
    },
    {
     "name": "stdout",
     "output_type": "stream",
     "text": [
      "283     SimpleCNN   6.1809      5.6054      0.5755      23.05     \n"
     ]
    },
    {
     "name": "stderr",
     "output_type": "stream",
     "text": [
      "Epoch 284/300 - StrongCNN: 100%|██████████| 1875/1875 [00:26<00:00, 71.35it/s]\n"
     ]
    },
    {
     "name": "stdout",
     "output_type": "stream",
     "text": [
      "284     StrongCNN   16.1275     11.6178     4.5097      26.28     \n"
     ]
    },
    {
     "name": "stderr",
     "output_type": "stream",
     "text": [
      "Epoch 285/300 - StrongCNN: 100%|██████████| 1875/1875 [00:26<00:00, 70.52it/s]\n"
     ]
    },
    {
     "name": "stdout",
     "output_type": "stream",
     "text": [
      "285     StrongCNN   15.1418     11.2370     3.9048      26.59     \n"
     ]
    },
    {
     "name": "stderr",
     "output_type": "stream",
     "text": [
      "Epoch 286/300 - StrongCNN: 100%|██████████| 1875/1875 [00:26<00:00, 70.64it/s]\n"
     ]
    },
    {
     "name": "stdout",
     "output_type": "stream",
     "text": [
      "286     StrongCNN   14.9002     11.1130     3.7872      26.55     \n"
     ]
    },
    {
     "name": "stderr",
     "output_type": "stream",
     "text": [
      "Epoch 287/300 - SimpleCNN: 100%|██████████| 1875/1875 [00:22<00:00, 81.97it/s]\n"
     ]
    },
    {
     "name": "stdout",
     "output_type": "stream",
     "text": [
      "287     SimpleCNN   6.5567      5.9364      0.6203      22.88     \n"
     ]
    },
    {
     "name": "stderr",
     "output_type": "stream",
     "text": [
      "Epoch 288/300 - BaseCNN: 100%|██████████| 1875/1875 [00:24<00:00, 77.33it/s]\n"
     ]
    },
    {
     "name": "stdout",
     "output_type": "stream",
     "text": [
      "288     BaseCNN     8.1553      6.7967      1.3585      24.25     \n"
     ]
    },
    {
     "name": "stderr",
     "output_type": "stream",
     "text": [
      "Epoch 289/300 - StrongCNN: 100%|██████████| 1875/1875 [00:26<00:00, 70.30it/s]\n"
     ]
    },
    {
     "name": "stdout",
     "output_type": "stream",
     "text": [
      "289     StrongCNN   15.5986     11.3324     4.2663      26.68     \n"
     ]
    },
    {
     "name": "stderr",
     "output_type": "stream",
     "text": [
      "Epoch 290/300 - SimpleCNN: 100%|██████████| 1875/1875 [00:23<00:00, 81.35it/s]\n"
     ]
    },
    {
     "name": "stdout",
     "output_type": "stream",
     "text": [
      "290     SimpleCNN   6.4691      5.8680      0.6011      23.05     \n"
     ]
    },
    {
     "name": "stderr",
     "output_type": "stream",
     "text": [
      "Epoch 291/300 - BaseCNN: 100%|██████████| 1875/1875 [00:24<00:00, 77.96it/s]\n"
     ]
    },
    {
     "name": "stdout",
     "output_type": "stream",
     "text": [
      "291     BaseCNN     8.0280      6.7233      1.3047      24.06     \n"
     ]
    },
    {
     "name": "stderr",
     "output_type": "stream",
     "text": [
      "Epoch 292/300 - BaseCNN: 100%|██████████| 1875/1875 [00:24<00:00, 75.74it/s]\n"
     ]
    },
    {
     "name": "stdout",
     "output_type": "stream",
     "text": [
      "292     BaseCNN     7.7106      6.5575      1.1531      24.76     \n"
     ]
    },
    {
     "name": "stderr",
     "output_type": "stream",
     "text": [
      "Epoch 293/300 - StrongCNN: 100%|██████████| 1875/1875 [00:26<00:00, 71.44it/s]\n"
     ]
    },
    {
     "name": "stdout",
     "output_type": "stream",
     "text": [
      "293     StrongCNN   15.6377     11.3752     4.2625      26.25     \n"
     ]
    },
    {
     "name": "stderr",
     "output_type": "stream",
     "text": [
      "Epoch 294/300 - SimpleCNN: 100%|██████████| 1875/1875 [00:22<00:00, 82.68it/s]\n"
     ]
    },
    {
     "name": "stdout",
     "output_type": "stream",
     "text": [
      "294     SimpleCNN   6.5073      5.8900      0.6173      22.68     \n"
     ]
    },
    {
     "name": "stderr",
     "output_type": "stream",
     "text": [
      "Epoch 295/300 - SimpleCNN: 100%|██████████| 1875/1875 [00:22<00:00, 83.28it/s]\n"
     ]
    },
    {
     "name": "stdout",
     "output_type": "stream",
     "text": [
      "295     SimpleCNN   6.2375      5.6484      0.5891      22.52     \n"
     ]
    },
    {
     "name": "stderr",
     "output_type": "stream",
     "text": [
      "Epoch 296/300 - BaseCNN: 100%|██████████| 1875/1875 [00:23<00:00, 78.23it/s]\n"
     ]
    },
    {
     "name": "stdout",
     "output_type": "stream",
     "text": [
      "296     BaseCNN     7.9685      6.6808      1.2877      23.97     \n"
     ]
    },
    {
     "name": "stderr",
     "output_type": "stream",
     "text": [
      "Epoch 297/300 - StrongCNN: 100%|██████████| 1875/1875 [00:25<00:00, 73.83it/s]\n"
     ]
    },
    {
     "name": "stdout",
     "output_type": "stream",
     "text": [
      "297     StrongCNN   15.6474     11.3800     4.2674      25.40     \n"
     ]
    },
    {
     "name": "stderr",
     "output_type": "stream",
     "text": [
      "Epoch 298/300 - SimpleCNN: 100%|██████████| 1875/1875 [00:22<00:00, 84.31it/s]\n"
     ]
    },
    {
     "name": "stdout",
     "output_type": "stream",
     "text": [
      "298     SimpleCNN   6.4304      5.8346      0.5959      22.25     \n"
     ]
    },
    {
     "name": "stderr",
     "output_type": "stream",
     "text": [
      "Epoch 299/300 - SimpleCNN: 100%|██████████| 1875/1875 [00:21<00:00, 85.47it/s]\n"
     ]
    },
    {
     "name": "stdout",
     "output_type": "stream",
     "text": [
      "299     SimpleCNN   6.1271      5.5831      0.5440      21.94     \n"
     ]
    },
    {
     "name": "stderr",
     "output_type": "stream",
     "text": [
      "Epoch 300/300 - SimpleCNN: 100%|██████████| 1875/1875 [00:22<00:00, 84.16it/s]"
     ]
    },
    {
     "name": "stdout",
     "output_type": "stream",
     "text": [
      "300     SimpleCNN   6.1198      5.5602      0.5596      22.28     \n"
     ]
    },
    {
     "name": "stderr",
     "output_type": "stream",
     "text": [
      "\n"
     ]
    }
   ],
   "source": [
    "from tqdm import tqdm\n",
    "import time\n",
    "\n",
    "# Training parameters\n",
    "epochs = 300\n",
    "batch_size = 32\n",
    "epoch_losses = []\n",
    "epoch_input_losses = []\n",
    "epoch_output_losses = []\n",
    "epoch_models = []  # To store the name of the selected model\n",
    "print(f\"{'Epoch':<8}{'Total Loss':<12}{'Scaled Input Loss':<12}{'Output Loss':<12}{'Time (s)':<10}\")\n",
    "print(\"-\" * 50)\n",
    "\n",
    "for epoch in range(epochs):\n",
    "    start_time = time.time()\n",
    "    epoch_loss = 0\n",
    "    epoch_input_loss = 0\n",
    "    epoch_output_loss = 0\n",
    "    batch_count = 0\n",
    "\n",
    "    # Randomly select a model for the entire epoch\n",
    "    selected_model = random.choice(models)\n",
    "    model_names = {\n",
    "    original_model_base: \"BaseCNN\",\n",
    "    original_model_strong: \"StrongCNN\",\n",
    "    original_model_simple: \"SimpleCNN\"\n",
    "     }\n",
    "    selected_model_name = model_names[selected_model]\n",
    "\n",
    "    # Add progress bar for batches\n",
    "    for x_batch, y_original_batch in tqdm(mnist_train_atn, desc=f\"Epoch {epoch + 1}/{epochs} - {selected_model_name}\"):\n",
    "        loss, l_x, l_y = train_step(x_batch, y_original_batch, selected_model)  # Pass the selected model\n",
    "        epoch_loss += loss.numpy()\n",
    "        epoch_input_loss += l_x.numpy() * beta\n",
    "        epoch_output_loss += l_y.numpy()\n",
    "        batch_count += 1\n",
    "\n",
    "    # Compute average losses for the epoch\n",
    "    avg_loss = epoch_loss / batch_count\n",
    "    avg_input_loss = epoch_input_loss / batch_count\n",
    "    avg_output_loss = epoch_output_loss / batch_count\n",
    "    elapsed_time = time.time() - start_time\n",
    "\n",
    "    # Append losses to the lists\n",
    "    epoch_losses.append(avg_loss)\n",
    "    epoch_input_losses.append(avg_input_loss)\n",
    "    epoch_output_losses.append(avg_output_loss)\n",
    "    epoch_models.append(selected_model_name)\n",
    "    # Print epoch summary\n",
    "    print(f\"{epoch + 1:<8}{selected_model_name:<12}{avg_loss:<12.4f}{avg_input_loss:<12.4f}{avg_output_loss:<12.4f}{elapsed_time:<10.2f}\")\n",
    "\n"
   ]
  },
  {
   "cell_type": "code",
   "execution_count": 18,
   "metadata": {},
   "outputs": [
    {
     "data": {
      "image/png": "[encoded data removed]",
      "text/plain": [
       "<Figure size 1000x600 with 1 Axes>"
      ]
     },
     "metadata": {},
     "output_type": "display_data"
    },
    {
     "data": {
      "image/png": "[encoded data removed]",
      "text/plain": [
       "<Figure size 1000x600 with 1 Axes>"
      ]
     },
     "metadata": {},
     "output_type": "display_data"
    }
   ],
   "source": [
    "plt.figure(1,figsize=(10, 6))\n",
    "plt.plot(epoch_losses, label='Total Loss', marker='o')\n",
    "plt.plot(epoch_input_losses, label='Input Loss', marker='x')\n",
    "plt.plot(epoch_output_losses, label='Output Loss', marker='s')\n",
    "plt.xlabel('Epoch')\n",
    "plt.ylabel('Loss')\n",
    "plt.title('Training Loss Over Epochs')\n",
    "plt.legend()\n",
    "plt.grid(True)\n",
    "plt.show()\n",
    "\n",
    "\n",
    "model_colors = {\n",
    "    \"BaseCNN\": \"blue\",\n",
    "    \"StrongCNN\": \"green\",\n",
    "    \"SimpleCNN\": \"red\"\n",
    "}\n",
    "plt.figure(2,figsize=(10, 6))\n",
    "\n",
    "for i, loss in enumerate(epoch_losses):\n",
    "    # Use plot to connect the points with lines\n",
    "    \n",
    "\n",
    "    # Scatter individual points\n",
    "    plt.scatter(i + 1, loss, color=model_colors[epoch_models[i]], label=epoch_models[i] if i == 0 or epoch_models[i] != epoch_models[i-1] else '')\n",
    "\n",
    "plt.xlabel('Epoch')\n",
    "plt.ylabel('Loss')\n",
    "plt.title('Training Loss Over Epochs (Color Coded by Model)')\n",
    "plt.grid(True)\n",
    "\n",
    "# Create a legend for the models\n",
    "handles = [plt.Line2D([0], [0], marker='o', color='w', markerfacecolor=color, markersize=10, label=model) for model, color in model_colors.items()]\n",
    "plt.legend(handles=handles, title=\"Models\")\n",
    "\n",
    "plt.show()"
   ]
  },
  {
   "cell_type": "markdown",
   "metadata": {
    "user_expressions": []
   },
   "source": [
    "# VERIFICATION"
   ]
  },
  {
   "cell_type": "code",
   "execution_count": 13,
   "metadata": {
    "tags": []
   },
   "outputs": [
    {
     "name": "stdout",
     "output_type": "stream",
     "text": [
      "WARNING:tensorflow:Compiled the loaded model, but the compiled metrics have yet to be built. `model.compile_metrics` will be empty until you train or evaluate the model.\n"
     ]
    },
    {
     "name": "stderr",
     "output_type": "stream",
     "text": [
      "WARNING:tensorflow:Compiled the loaded model, but the compiled metrics have yet to be built. `model.compile_metrics` will be empty until you train or evaluate the model.\n"
     ]
    },
    {
     "name": "stdout",
     "output_type": "stream",
     "text": [
      "ATN saved successfully as ATN_model/ATNMultuCNN_ATN2.keras\n"
     ]
    }
   ],
   "source": [
    "# Save the ATN in the newer `.keras` format for future compatibility\n",
    "\n",
    "# Define model naming function\n",
    "def generate_model_name(base_name, beta, epochs, structure):\n",
    "    # Format the model name with hyperparameters\n",
    "    return f\"{base_name}_beta-{beta}_epochs-{epochs}_{structure}.keras\"\n",
    "\n",
    "# Specify model details\n",
    "#base_name = \"adversarial_transformation_network\"\n",
    "\n",
    "#structure = \"conv2d_transpose\"  # Example structure (descriptive)\n",
    "\n",
    "# Generate the model name\n",
    "#model_name = generate_model_name(base_name, beta, epochs, structure)\n",
    "model_name='ATN_model/ATNMultuCNN_ATN2.keras'\n",
    "# Save the ATN with the generated name\n",
    "atn.save(model_name)\n",
    "print(f\"ATN saved successfully as {model_name}\")\n",
    "\n"
   ]
  },
  {
   "cell_type": "code",
   "execution_count": 14,
   "metadata": {
    "tags": []
   },
   "outputs": [],
   "source": [
    "# Load Model\n",
    "\n",
    "\n",
    "#loaded_atn_model = tf.keras.models.load_model('ATN_model/ATNPure.keras')"
   ]
  },
  {
   "cell_type": "code",
   "execution_count": 17,
   "metadata": {
    "tags": []
   },
   "outputs": [
    {
     "name": "stdout",
     "output_type": "stream",
     "text": [
      "1/1 [==============================] - 0s 33ms/step\n",
      "1/1 [==============================] - 0s 33ms/step\n",
      "1/1 [==============================] - 0s 33ms/step\n",
      "True Labels: [2 0 4 8 7 6 0 6 3 1 8 0 7 9 8 4 5 3 4 0 6 6 3 0 2 3 6 6 7 4 9 3]\n",
      "Original Predictions: [2 0 4 8 7 6 0 6 3 1 8 0 7 9 8 4 5 3 4 0 6 6 3 0 2 3 6 6 7 4 9 3]\n",
      "Transformed Predictions: [2 0 4 8 7 6 0 6 3 1 8 0 7 9 8 4 5 3 4 0 6 6 3 0 2 3 6 6 8 4 9 3]\n",
      "1/1 [==============================] - 0s 32ms/step\n"
     ]
    },
    {
     "data": {
      "image/png": "[encoded data removed]",
      "text/plain": [
       "<Figure size 1500x500 with 20 Axes>"
      ]
     },
     "metadata": {},
     "output_type": "display_data"
    }
   ],
   "source": [
    "\n",
    "import matplotlib.pyplot as plt\n",
    "\n",
    "\n",
    "\n",
    "\n",
    "\n",
    "\n",
    "\n",
    "# Function to evaluate and compare results\n",
    "def evaluate_atn(original_model, atn, dataset):\n",
    "    for x_batch, y_original_batch in dataset.take(1):  # Take one batch (two elements per batch in the dataset)\n",
    "        # Generate transformed images\n",
    "        x_transformed = atn.predict(x_batch)\n",
    "\n",
    "        # Get predictions for the original and transformed images\n",
    "        y_pred_original = tf.argmax(original_model.predict(x_batch), axis=1)\n",
    "        y_pred_transformed = tf.argmax(original_model.predict(x_transformed), axis=1)\n",
    "\n",
    "        # Get true labels\n",
    "        y_true = tf.argmax(y_original_batch, axis=1)\n",
    "\n",
    "        # Print results for comparison\n",
    "        print(\"True Labels:\", y_true.numpy())\n",
    "        print(\"Original Predictions:\", y_pred_original.numpy())\n",
    "        print(\"Transformed Predictions:\", y_pred_transformed.numpy())\n",
    "\n",
    "        # Display images\n",
    "        display_images(x_batch, x_transformed, y_true, y_pred_original, y_pred_transformed, original_model.predict(x_batch))\n",
    "        break  # Only evaluate one batch for now\n",
    "\n",
    "# Function to display images\n",
    "def display_images(original_images, transformed_images, y_true, y_pred_original, y_pred_transformed, original_pred):\n",
    "    num_images = min(10, len(original_images))  # Display up to 10 images\n",
    "    plt.figure(figsize=(15, 5))\n",
    "\n",
    "    for i in range(num_images):\n",
    "        # Original image\n",
    "        plt.subplot(2, num_images, i + 1)\n",
    "        plt.imshow(tf.squeeze(original_images[i]), cmap='gray')  # Remove channel for grayscale display\n",
    "        plt.title(f\"Label: {y_true[i].numpy()}, \\n Pred: {y_pred_original[i].numpy()}\")\n",
    "        plt.axis('off')\n",
    "\n",
    "        # Transformed image\n",
    "        second_highest_target = get_second_highest_target(original_pred[i: i + 1])[0]  # Compute target dynamically\n",
    "        second_highest_class = tf.argmax(second_highest_target).numpy()\n",
    "\n",
    "        plt.subplot(2, num_images, i + 1 + num_images)\n",
    "        plt.imshow(tf.squeeze(transformed_images[i]), cmap='gray')\n",
    "        plt.title(f\"Target: {second_highest_class}, \\n Pred: {y_pred_transformed[i].numpy()}\")\n",
    "        plt.axis('off')\n",
    "\n",
    "    plt.show()\n",
    "\n",
    "\n",
    "# Evaluate the ATN on the test dataset\n",
    "evaluate_atn(original_model, atn, mnist_test_atn)\n"
   ]
  },
  {
   "cell_type": "code",
   "execution_count": 16,
   "metadata": {
    "tags": []
   },
   "outputs": [
    {
     "name": "stdout",
     "output_type": "stream",
     "text": [
      "Accuracy on original images: 0.9870\n",
      "Accuracy on transformed images: 0.9781\n"
     ]
    }
   ],
   "source": [
    "# Function to calculate accuracy\n",
    "def calculate_accuracy(model, dataset, atn=None):\n",
    "    correct = 0\n",
    "    total = 0\n",
    "\n",
    "    for x_batch, y_original_batch in dataset:  # Only unpack two elements\n",
    "        if atn:\n",
    "            # Transform images using ATN\n",
    "            x_batch = atn.predict(x_batch, verbose=0)  # Suppress verbose output\n",
    "        # Get predictions from the model\n",
    "        y_pred = tf.argmax(model.predict(x_batch, verbose=0), axis=1)\n",
    "        y_true = tf.argmax(y_original_batch, axis=1)  # True labels\n",
    "        # Count correct predictions\n",
    "        correct += tf.reduce_sum(tf.cast(y_pred == y_true, tf.float32)).numpy()\n",
    "        total += x_batch.shape[0]  # Batch size\n",
    "    \n",
    "    return correct / total  # Calculate accuracy\n",
    "\n",
    "\n",
    "# Original accuracy\n",
    "original_accuracy = calculate_accuracy(original_model, mnist_test_atn, atn=None)\n",
    "print(f\"Accuracy on original images: {original_accuracy:.4f}\")\n",
    "\n",
    "# Transformed accuracy\n",
    "transformed_accuracy = calculate_accuracy(original_model, mnist_test_atn, atn=atn)\n",
    "print(f\"Accuracy on transformed images: {transformed_accuracy:.4f}\")\n"
   ]
  },
  {
   "cell_type": "code",
   "execution_count": null,
   "metadata": {},
   "outputs": [],
   "source": []
  },
  {
   "cell_type": "code",
   "execution_count": null,
   "metadata": {},
   "outputs": [],
   "source": []
  },
  {
   "cell_type": "code",
   "execution_count": null,
   "metadata": {},
   "outputs": [],
   "source": []
  }
 ],
 "metadata": {
  "accelerator": "GPU",
  "colab": {
   "collapsed_sections": [],
   "name": "7. CNN-MNIST_tensorflow.ipynb",
   "provenance": [],
   "version": "0.3.2"
  },
  "kernelspec": {
   "display_name": "Python",
   "language": "python",
   "name": "python3"
  },
  "language_info": {
   "codemirror_mode": {
    "name": "ipython",
    "version": 3
   },
   "file_extension": ".py",
   "mimetype": "text/x-python",
   "name": "python",
   "nbconvert_exporter": "python",
   "pygments_lexer": "ipython3",
   "version": "3.8.10"
  },
  "toc-autonumbering": false
 },
 "nbformat": 4,
 "nbformat_minor": 4
}
