{
 "cells": [
  {
   "cell_type": "code",
   "execution_count": 1,
   "metadata": {
    "tags": []
   },
   "outputs": [],
   "source": [
    "#!~/new_python_3_11_env/bin/python3 -m pip install tensorflow-datasets\n",
    "#!~/new_python_3_11_env/bin/python3 -m pip install tensorflow"
   ]
  },
  {
   "cell_type": "code",
   "execution_count": 2,
   "metadata": {
    "colab": {},
    "colab_type": "code",
    "id": "mCL6UCvWmggf",
    "tags": []
   },
   "outputs": [
    {
     "name": "stderr",
     "output_type": "stream",
     "text": [
      "2025-01-16 11:40:18.482730: I tensorflow/core/platform/cpu_feature_guard.cc:193] This TensorFlow binary is optimized with oneAPI Deep Neural Network Library (oneDNN) to use the following CPU instructions in performance-critical operations:  AVX2 AVX512F AVX512_VNNI FMA\n",
      "To enable them in other operations, rebuild TensorFlow with the appropriate compiler flags.\n",
      "2025-01-16 11:40:18.708306: I tensorflow/core/util/port.cc:104] oneDNN custom operations are on. You may see slightly different numerical results due to floating-point round-off errors from different computation orders. To turn them off, set the environment variable `TF_ENABLE_ONEDNN_OPTS=0`.\n",
      "2025-01-16 11:40:19.975382: W tensorflow/compiler/xla/stream_executor/platform/default/dso_loader.cc:64] Could not load dynamic library 'libnvinfer.so.7'; dlerror: libnvinfer.so.7: cannot open shared object file: No such file or directory; LD_LIBRARY_PATH: /usr/local/lib:/usr/local/nvidia/lib:/usr/local/nvidia/lib64\n",
      "2025-01-16 11:40:19.975467: W tensorflow/compiler/xla/stream_executor/platform/default/dso_loader.cc:64] Could not load dynamic library 'libnvinfer_plugin.so.7'; dlerror: libnvinfer_plugin.so.7: cannot open shared object file: No such file or directory; LD_LIBRARY_PATH: /usr/local/lib:/usr/local/nvidia/lib:/usr/local/nvidia/lib64\n",
      "2025-01-16 11:40:19.975473: W tensorflow/compiler/tf2tensorrt/utils/py_utils.cc:38] TF-TRT Warning: Cannot dlopen some TensorRT libraries. If you would like to use Nvidia GPU with TensorRT, please make sure the missing libraries mentioned above are installed properly.\n"
     ]
    }
   ],
   "source": [
    "import tensorflow as tf\n",
    "import tensorflow_datasets as tfds\n",
    "from tensorflow.keras import layers, models\n",
    "import keras\n",
    "import random\n",
    "import numpy as np\n",
    "import matplotlib.pyplot as plt"
   ]
  },
  {
   "cell_type": "code",
   "execution_count": 3,
   "metadata": {
    "tags": []
   },
   "outputs": [
    {
     "name": "stderr",
     "output_type": "stream",
     "text": [
      "2025-01-16 11:40:45.145176: I tensorflow/core/common_runtime/gpu/gpu_device.cc:1613] Created device /job:localhost/replica:0/task:0/device:GPU:0 with 20682 MB memory:  -> device: 0, name: NVIDIA A10, pci bus id: 0000:17:00.0, compute capability: 8.6\n",
      "2025-01-16 11:40:45.147794: I tensorflow/core/common_runtime/gpu/gpu_device.cc:1613] Created device /job:localhost/replica:0/task:0/device:GPU:1 with 20682 MB memory:  -> device: 1, name: NVIDIA A10, pci bus id: 0000:ca:00.0, compute capability: 8.6\n"
     ]
    }
   ],
   "source": [
    "# Load original model\n",
    "original_model_base = tf.keras.models.load_model('CNNModel/BaseCNN.keras')  # Replace with your model file\n",
    "original_model_base.trainable = False  # Freeze weights\n",
    "original_model_strong = tf.keras.models.load_model('CNNModel/BaseCNNkernal7.keras')  # Replace with your model file\n",
    "original_model_strong.trainable = False  # Freeze weights\n",
    "original_model_simple = tf.keras.models.load_model('CNNModel/BaseCNNkernal3.keras')  # Replace with your model file\n",
    "\n",
    "\n",
    "original_model_simple.trainabl=False\n",
    "\n",
    "original_model = tf.keras.models.load_model('CNNModel/BaseCNN.keras')  # Replace with your model file\n",
    "original_model.trainable = False  # Freeze weights\n",
    "\n"
   ]
  },
  {
   "cell_type": "code",
   "execution_count": 4,
   "metadata": {
    "tags": []
   },
   "outputs": [],
   "source": [
    "# @ layers with 2 deconvolution layers\n",
    "def build_atn(input_shape):\n",
    "    model = tf.keras.Sequential([\n",
    "        # First convolutional layers to capture features\n",
    "        layers.Conv2D(64, (3, 3), activation='relu', padding='same', input_shape=input_shape),\n",
    "        layers.MaxPooling2D((2, 2)),  # Downsample (14, 14, 64)\n",
    "\n",
    "        layers.Conv2D(128, (3, 3), activation='relu', padding='same'),\n",
    "        layers.MaxPooling2D((2, 2)),  # Downsample (7, 7, 128)\n",
    "\n",
    "        # Fully connected layer to integrate features\n",
    "        layers.Flatten(),  # Flatten to shape (7 * 7 * 128 = 6272)\n",
    "        layers.Dense(6272, activation='relu'),  # Match the reshape target\n",
    "\n",
    "        # Deconvolution layers to reconstruct adversarial examples\n",
    "        layers.Reshape((7, 7, 128)),  # Reshape for deconvolution\n",
    "        layers.Conv2DTranspose(128, (3, 3), activation='relu', strides=2, padding='same'),  # (14, 14, 128)\n",
    "        layers.Conv2DTranspose(64, (3, 3), activation='relu', strides=2, padding='same'),  # (28, 28, 64)\n",
    "        \n",
    "        layers.Conv2DTranspose(1, (3, 3), activation='sigmoid', padding='same'),  # Output layer (28, 28, 1)\n",
    "        layers.Lambda(lambda x: x * 255)  # Scale to [0, 255]\n",
    "    ])\n",
    "    return model\n",
    "\n",
    "# Build the ATN\n",
    "input_shape = (28, 28, 1)  # MNIST dataset shape\n",
    "atn = build_atn(input_shape)\n"
   ]
  },
  {
   "cell_type": "code",
   "execution_count": 5,
   "metadata": {},
   "outputs": [
    {
     "data": {
      "text/plain": [
       "\"\\ndef build_atn(input_shape):\\n    model = tf.keras.Sequential([\\n        layers.Conv2D(32, (3, 3), activation='relu', input_shape=input_shape),\\n        layers.MaxPooling2D((2, 2)),\\n        layers.Conv2D(64, (3, 3), activation='relu'),\\n        layers.Flatten(),\\n        layers.Dense(128, activation='relu'),\\n        layers.Dense(np.prod(input_shape), activation='sigmoid'),  # Use sigmoid for range [0, 1]\\n        layers.Reshape(input_shape),\\n        layers.Lambda(lambda x: x * 255)  # Scale to [0, 255]\\n    ])\\n    return model\\n\\n\\ninput_shape = (28, 28, 1)  # Assuming MNIST dataset\\natn = build_atn(input_shape)\\n\""
      ]
     },
     "execution_count": 5,
     "metadata": {},
     "output_type": "execute_result"
    }
   ],
   "source": [
    "# Define ATN 2 Layers only convulution\n",
    "###\n",
    "'''\n",
    "def build_atn(input_shape):\n",
    "    model = tf.keras.Sequential([\n",
    "        layers.Conv2D(32, (3, 3), activation='relu', input_shape=input_shape),\n",
    "        layers.MaxPooling2D((2, 2)),\n",
    "        layers.Conv2D(64, (3, 3), activation='relu'),\n",
    "        layers.Flatten(),\n",
    "        layers.Dense(128, activation='relu'),\n",
    "        layers.Dense(np.prod(input_shape), activation='sigmoid'),  # Use sigmoid for range [0, 1]\n",
    "        layers.Reshape(input_shape),\n",
    "        layers.Lambda(lambda x: x * 255)  # Scale to [0, 255]\n",
    "    ])\n",
    "    return model\n",
    "\n",
    "\n",
    "input_shape = (28, 28, 1)  # Assuming MNIST dataset\n",
    "atn = build_atn(input_shape)\n",
    "'''"
   ]
  },
  {
   "cell_type": "code",
   "execution_count": 6,
   "metadata": {
    "tags": []
   },
   "outputs": [],
   "source": [
    "# Define input loss and output loss function\n",
    "def input_loss(x, x_prime):\n",
    "    return tf.reduce_mean(tf.square(tf.cast(x, tf.float32) - x_prime))  # Cast x to float32  # L2 loss\n",
    "\n",
    "def output_loss(y_pred, y_target):\n",
    "    return tf.reduce_mean(tf.keras.losses.categorical_crossentropy(y_target, y_pred)) # crossentropy\n",
    "\n"
   ]
  },
  {
   "cell_type": "code",
   "execution_count": 7,
   "metadata": {
    "tags": []
   },
   "outputs": [],
   "source": [
    "def get_second_highest_target(y_pred_original):\n",
    "    # Sort predictions to find the highest and second-highest indices\n",
    "    top_2_indices = tf.argsort(y_pred_original, direction='DESCENDING', axis=1)[:, :2]\n",
    "    second_highest_indices = top_2_indices[:, 1]\n",
    "\n",
    "    # Create one-hot encoding for the second-highest class\n",
    "    y_target = tf.one_hot(second_highest_indices, depth=y_pred_original.shape[1])\n",
    "    return y_target\n"
   ]
  },
  {
   "cell_type": "code",
   "execution_count": 8,
   "metadata": {},
   "outputs": [],
   "source": [
    "class RandomApply(tf.keras.layers.Layer):\n",
    "    def __init__(self, layer, p=0.5, **kwargs):\n",
    "        super().__init__(**kwargs)\n",
    "        self.layer = layer\n",
    "        self.p = p\n",
    "\n",
    "    def call(self, x, training=None):\n",
    "        if not training:\n",
    "            return x\n",
    "        return tf.cond(\n",
    "            tf.random.uniform(()) < self.p,\n",
    "            lambda: self.layer(x, training=training),\n",
    "            lambda: x\n",
    "        )\n",
    "\n",
    "# A simple pipeline: horizontal flip, random rotation\n",
    "data_augmentation = tf.keras.Sequential([\n",
    "    RandomApply(layers.RandomRotation(0.2), p=0.5),\n",
    "    RandomApply(layers.RandomZoom(0.1,fill_mode='nearest'), p=0.5),\n",
    "])\n",
    "augmentation_with_p = RandomApply(data_augmentation, p=0)\n"
   ]
  },
  {
   "cell_type": "code",
   "execution_count": 9,
   "metadata": {
    "tags": []
   },
   "outputs": [],
   "source": [
    "# Define learning rate schedule\n",
    "boundaries = [900000]  # Steps at which learning rate changes\n",
    "values = [0.001, 0.0001]  # Corresponding learning rates\n",
    "\n",
    "lr_schedule = tf.keras.optimizers.schedules.PiecewiseConstantDecay(\n",
    "    boundaries=boundaries,\n",
    "    values=values\n",
    ")\n",
    "#optimizer = tf.keras.optimizers.Adam(learning_rate=lr_schedule)\n",
    "optimizer = tf.keras.optimizers.Adam(learning_rate=lr_schedule, clipnorm=1.0)\n",
    "beta = 0.01  # Weight for input-space loss\n",
    "models = [original_model_base, original_model_strong, original_model_simple]\n",
    "\n",
    "@tf.function\n",
    "\n",
    "def train_step(x, y_original, selected_model):\n",
    "    with tf.GradientTape() as tape:\n",
    "        # Generate adversarial examples\n",
    "        x_prime = atn(x)\n",
    "\n",
    "        # Get predictions for original and adversarial inputs using the selected model\n",
    "        y_pred_original = selected_model(x, training=False)\n",
    "        y_pred = selected_model(x_prime, training=False)\n",
    "\n",
    "        # Compute the second-highest target dynamically\n",
    "        y_target = get_second_highest_target(y_pred_original)\n",
    "\n",
    "        # Compute input loss and output loss separately\n",
    "        l_x = input_loss(x, x_prime)\n",
    "        l_y = output_loss(y_pred , y_target )\n",
    "\n",
    "        # Compute the combined loss\n",
    "        loss = beta * l_x + l_y\n",
    "\n",
    "    # Compute and apply gradients\n",
    "    gradients = tape.gradient(loss, atn.trainable_variables)\n",
    "    optimizer.apply_gradients(zip(gradients, atn.trainable_variables))\n",
    "\n",
    "    # Return total loss, input loss, and output loss\n",
    "    return loss, l_x, l_y"
   ]
  },
  {
   "cell_type": "code",
   "execution_count": 10,
   "metadata": {
    "colab": {
     "base_uri": "https://localhost:8080/",
     "height": 530
    },
    "colab_type": "code",
    "id": "_dUJNbrZmggi",
    "outputId": "3802d63c-a895-4db8-ab3f-6d73da0341ea",
    "tags": []
   },
   "outputs": [
    {
     "name": "stdout",
     "output_type": "stream",
     "text": [
      "Dataset loaded without normalization.\n"
     ]
    }
   ],
   "source": [
    "# Load MNIST datasetatn\n",
    "mnist_train, mnist_test = tfds.load('mnist', split=['train', 'test'], as_supervised=True)\n",
    "\n",
    "# Function to create adversarial target labels\n",
    "#def create_adversarial_target(label):\n",
    "#    # Example: Shift each label by 1 (cyclic mapping)\n",
    "#    return (label + 1) % 10\n",
    "\n",
    "# Preprocessing function for training the ATN\n",
    "def preprocess_image_atn(image, label):\n",
    "    # Do NOT normalize the images; keep them in the range [0, 255]\n",
    "    image = tf.cast(image, tf.float32)  # Ensure float32 for compatibility with loss functions\n",
    "    label_one_hot = tf.one_hot(label, depth=10)  # One-hot encode the original label\n",
    "    \n",
    "    # Return only the raw image and the original label\n",
    "    return image, label_one_hot\n",
    "\n",
    "# Apply preprocessing to the dataset\n",
    "mnist_train_atn = mnist_train.map(preprocess_image_atn)\n",
    "mnist_test_atn = mnist_test.map(preprocess_image_atn)\n",
    "\n",
    "# Batch and prefetch the dataset\n",
    "batch_size = 32\n",
    "mnist_train_atn = mnist_train_atn.batch(batch_size).prefetch(tf.data.AUTOTUNE)\n",
    "mnist_test_atn = mnist_test_atn.batch(batch_size).prefetch(tf.data.AUTOTUNE)\n",
    "\n",
    "print(\"Dataset loaded without normalization.\")\n"
   ]
  },
  {
   "cell_type": "code",
   "execution_count": null,
   "metadata": {},
   "outputs": [
    {
     "name": "stdout",
     "output_type": "stream",
     "text": [
      "Epoch   Model       Total Loss  Input Loss  Output Loss Time (s)  \n",
      "------------------------------------------------------------\n"
     ]
    },
    {
     "name": "stderr",
     "output_type": "stream",
     "text": [
      "Epoch 1/1000 - CNNKernel_5:   0%|          | 0/1875 [00:00<?, ?it/s]2025-01-16 11:40:53.280897: I tensorflow/compiler/xla/stream_executor/cuda/cuda_dnn.cc:428] Loaded cuDNN version 8400\n",
      "2025-01-16 11:40:55.216399: I tensorflow/compiler/xla/stream_executor/cuda/cuda_blas.cc:630] TensorFloat-32 will be used for the matrix multiplication. This will only be logged once.\n",
      "Epoch 1/1000 - CNNKernel_5: 100%|██████████| 1875/1875 [00:35<00:00, 52.72it/s]\n"
     ]
    },
    {
     "name": "stdout",
     "output_type": "stream",
     "text": [
      "1       CNNKernel_5 8.6244      6.7403      1.8842      35.58     \n"
     ]
    },
    {
     "name": "stderr",
     "output_type": "stream",
     "text": [
      "Epoch 2/1000 - CNNKernel_5: 100%|██████████| 1875/1875 [00:25<00:00, 74.88it/s]\n"
     ]
    },
    {
     "name": "stdout",
     "output_type": "stream",
     "text": [
      "2       CNNKernel_5 5.3143      3.8521      1.4622      25.05     \n"
     ]
    },
    {
     "name": "stderr",
     "output_type": "stream",
     "text": [
      "Epoch 3/1000 - CNNKernel_5: 100%|██████████| 1875/1875 [00:25<00:00, 74.71it/s]\n"
     ]
    },
    {
     "name": "stdout",
     "output_type": "stream",
     "text": [
      "3       CNNKernel_5 4.6084      3.3710      1.2373      25.11     \n"
     ]
    },
    {
     "name": "stderr",
     "output_type": "stream",
     "text": [
      "Epoch 4/1000 - CNNKernel_3: 100%|██████████| 1875/1875 [00:26<00:00, 71.29it/s]\n"
     ]
    },
    {
     "name": "stdout",
     "output_type": "stream",
     "text": [
      "4       CNNKernel_3 5.0252      3.3627      1.6625      26.31     \n"
     ]
    },
    {
     "name": "stderr",
     "output_type": "stream",
     "text": [
      "Epoch 5/1000 - CNNKernel_3: 100%|██████████| 1875/1875 [00:24<00:00, 76.23it/s]\n"
     ]
    },
    {
     "name": "stdout",
     "output_type": "stream",
     "text": [
      "5       CNNKernel_3 4.1105      2.9315      1.1790      24.60     \n"
     ]
    },
    {
     "name": "stderr",
     "output_type": "stream",
     "text": [
      "Epoch 6/1000 - CNNKernel_3: 100%|██████████| 1875/1875 [00:25<00:00, 73.60it/s]\n"
     ]
    },
    {
     "name": "stdout",
     "output_type": "stream",
     "text": [
      "6       CNNKernel_3 3.7159      2.7461      0.9698      25.48     \n"
     ]
    },
    {
     "name": "stderr",
     "output_type": "stream",
     "text": [
      "Epoch 7/1000 - CNNKernel_3: 100%|██████████| 1875/1875 [00:25<00:00, 73.26it/s]\n"
     ]
    },
    {
     "name": "stdout",
     "output_type": "stream",
     "text": [
      "7       CNNKernel_3 3.4423      2.6225      0.8198      25.60     \n"
     ]
    },
    {
     "name": "stderr",
     "output_type": "stream",
     "text": [
      "Epoch 8/1000 - CNNKernel_5: 100%|██████████| 1875/1875 [00:25<00:00, 73.29it/s]\n"
     ]
    },
    {
     "name": "stdout",
     "output_type": "stream",
     "text": [
      "8       CNNKernel_5 4.6338      3.1277      1.5060      25.59     \n"
     ]
    },
    {
     "name": "stderr",
     "output_type": "stream",
     "text": [
      "Epoch 9/1000 - CNNKernel_3: 100%|██████████| 1875/1875 [00:25<00:00, 73.06it/s]\n"
     ]
    },
    {
     "name": "stdout",
     "output_type": "stream",
     "text": [
      "9       CNNKernel_3 3.5752      2.6262      0.9490      25.67     \n"
     ]
    },
    {
     "name": "stderr",
     "output_type": "stream",
     "text": [
      "Epoch 10/1000 - CNNKernel_7: 100%|██████████| 1875/1875 [00:28<00:00, 66.81it/s]\n"
     ]
    },
    {
     "name": "stdout",
     "output_type": "stream",
     "text": [
      "10      CNNKernel_7 5.2944      3.3744      1.9199      28.07     \n"
     ]
    },
    {
     "name": "stderr",
     "output_type": "stream",
     "text": [
      "Epoch 11/1000 - CNNKernel_7: 100%|██████████| 1875/1875 [00:27<00:00, 68.86it/s]\n"
     ]
    },
    {
     "name": "stdout",
     "output_type": "stream",
     "text": [
      "11      CNNKernel_7 4.3610      2.9614      1.3996      27.23     \n"
     ]
    },
    {
     "name": "stderr",
     "output_type": "stream",
     "text": [
      "Epoch 12/1000 - CNNKernel_7: 100%|██████████| 1875/1875 [00:28<00:00, 65.82it/s]\n"
     ]
    },
    {
     "name": "stdout",
     "output_type": "stream",
     "text": [
      "12      CNNKernel_7 3.9789      2.8135      1.1654      28.49     \n"
     ]
    },
    {
     "name": "stderr",
     "output_type": "stream",
     "text": [
      "Epoch 13/1000 - CNNKernel_7: 100%|██████████| 1875/1875 [00:27<00:00, 68.03it/s]\n"
     ]
    },
    {
     "name": "stdout",
     "output_type": "stream",
     "text": [
      "13      CNNKernel_7 3.7162      2.7109      1.0053      27.57     \n"
     ]
    },
    {
     "name": "stderr",
     "output_type": "stream",
     "text": [
      "Epoch 14/1000 - CNNKernel_5: 100%|██████████| 1875/1875 [00:24<00:00, 75.58it/s]\n"
     ]
    },
    {
     "name": "stdout",
     "output_type": "stream",
     "text": [
      "14      CNNKernel_5 4.4871      2.9577      1.5294      24.81     \n"
     ]
    },
    {
     "name": "stderr",
     "output_type": "stream",
     "text": [
      "Epoch 15/1000 - CNNKernel_7: 100%|██████████| 1875/1875 [00:35<00:00, 52.78it/s]\n"
     ]
    },
    {
     "name": "stdout",
     "output_type": "stream",
     "text": [
      "15      CNNKernel_7 3.9378      2.7820      1.1558      35.53     \n"
     ]
    },
    {
     "name": "stderr",
     "output_type": "stream",
     "text": [
      "Epoch 16/1000 - CNNKernel_5: 100%|██████████| 1875/1875 [00:33<00:00, 56.69it/s]\n"
     ]
    },
    {
     "name": "stdout",
     "output_type": "stream",
     "text": [
      "16      CNNKernel_5 4.0246      2.7629      1.2616      33.08     \n"
     ]
    },
    {
     "name": "stderr",
     "output_type": "stream",
     "text": [
      "Epoch 17/1000 - CNNKernel_5: 100%|██████████| 1875/1875 [00:25<00:00, 73.88it/s]\n"
     ]
    },
    {
     "name": "stdout",
     "output_type": "stream",
     "text": [
      "17      CNNKernel_5 3.5341      2.5617      0.9724      25.38     \n"
     ]
    },
    {
     "name": "stderr",
     "output_type": "stream",
     "text": [
      "Epoch 18/1000 - CNNKernel_5: 100%|██████████| 1875/1875 [00:25<00:00, 74.90it/s]\n"
     ]
    },
    {
     "name": "stdout",
     "output_type": "stream",
     "text": [
      "18      CNNKernel_5 3.2841      2.4711      0.8130      25.04     \n"
     ]
    },
    {
     "name": "stderr",
     "output_type": "stream",
     "text": [
      "Epoch 19/1000 - CNNKernel_7: 100%|██████████| 1875/1875 [00:25<00:00, 72.89it/s]\n"
     ]
    },
    {
     "name": "stdout",
     "output_type": "stream",
     "text": [
      "19      CNNKernel_7 4.0342      2.7896      1.2446      25.73     \n"
     ]
    },
    {
     "name": "stderr",
     "output_type": "stream",
     "text": [
      "Epoch 20/1000 - CNNKernel_7: 100%|██████████| 1875/1875 [00:26<00:00, 69.63it/s]\n"
     ]
    },
    {
     "name": "stdout",
     "output_type": "stream",
     "text": [
      "20      CNNKernel_7 3.4253      2.5334      0.8918      26.94     \n"
     ]
    },
    {
     "name": "stderr",
     "output_type": "stream",
     "text": [
      "Epoch 21/1000 - CNNKernel_7: 100%|██████████| 1875/1875 [00:29<00:00, 63.79it/s]\n"
     ]
    },
    {
     "name": "stdout",
     "output_type": "stream",
     "text": [
      "21      CNNKernel_7 3.2117      2.4582      0.7535      29.40     \n"
     ]
    },
    {
     "name": "stderr",
     "output_type": "stream",
     "text": [
      "Epoch 22/1000 - CNNKernel_7: 100%|██████████| 1875/1875 [00:43<00:00, 43.11it/s]\n"
     ]
    },
    {
     "name": "stdout",
     "output_type": "stream",
     "text": [
      "22      CNNKernel_7 3.0573      2.4039      0.6534      43.50     \n"
     ]
    },
    {
     "name": "stderr",
     "output_type": "stream",
     "text": [
      "Epoch 23/1000 - CNNKernel_5: 100%|██████████| 1875/1875 [00:43<00:00, 43.53it/s]\n"
     ]
    },
    {
     "name": "stdout",
     "output_type": "stream",
     "text": [
      "23      CNNKernel_5 3.7717      2.6507      1.1210      43.08     \n"
     ]
    },
    {
     "name": "stderr",
     "output_type": "stream",
     "text": [
      "Epoch 24/1000 - CNNKernel_5: 100%|██████████| 1875/1875 [00:43<00:00, 42.81it/s]\n"
     ]
    },
    {
     "name": "stdout",
     "output_type": "stream",
     "text": [
      "24      CNNKernel_5 3.1764      2.4007      0.7757      43.80     \n"
     ]
    },
    {
     "name": "stderr",
     "output_type": "stream",
     "text": [
      "Epoch 25/1000 - CNNKernel_3: 100%|██████████| 1875/1875 [00:44<00:00, 42.54it/s]\n"
     ]
    },
    {
     "name": "stdout",
     "output_type": "stream",
     "text": [
      "25      CNNKernel_3 4.1544      2.6812      1.4732      44.08     \n"
     ]
    },
    {
     "name": "stderr",
     "output_type": "stream",
     "text": [
      "Epoch 26/1000 - CNNKernel_3: 100%|██████████| 1875/1875 [00:44<00:00, 42.08it/s]\n"
     ]
    },
    {
     "name": "stdout",
     "output_type": "stream",
     "text": [
      "26      CNNKernel_3 3.3466      2.3724      0.9742      44.56     \n"
     ]
    },
    {
     "name": "stderr",
     "output_type": "stream",
     "text": [
      "Epoch 27/1000 - CNNKernel_3: 100%|██████████| 1875/1875 [00:45<00:00, 40.90it/s]\n"
     ]
    },
    {
     "name": "stdout",
     "output_type": "stream",
     "text": [
      "27      CNNKernel_3 3.0178      2.2561      0.7616      45.85     \n"
     ]
    },
    {
     "name": "stderr",
     "output_type": "stream",
     "text": [
      "Epoch 28/1000 - CNNKernel_3: 100%|██████████| 1875/1875 [00:44<00:00, 42.19it/s]\n"
     ]
    },
    {
     "name": "stdout",
     "output_type": "stream",
     "text": [
      "28      CNNKernel_3 2.8280      2.1997      0.6283      44.46     \n"
     ]
    },
    {
     "name": "stderr",
     "output_type": "stream",
     "text": [
      "Epoch 29/1000 - CNNKernel_5: 100%|██████████| 1875/1875 [00:43<00:00, 43.11it/s]\n"
     ]
    },
    {
     "name": "stdout",
     "output_type": "stream",
     "text": [
      "29      CNNKernel_5 3.7918      2.6592      1.1326      43.51     \n"
     ]
    },
    {
     "name": "stderr",
     "output_type": "stream",
     "text": [
      "Epoch 30/1000 - CNNKernel_5: 100%|██████████| 1875/1875 [00:43<00:00, 43.03it/s]\n"
     ]
    },
    {
     "name": "stdout",
     "output_type": "stream",
     "text": [
      "30      CNNKernel_5 3.1089      2.3540      0.7550      43.58     \n"
     ]
    },
    {
     "name": "stderr",
     "output_type": "stream",
     "text": [
      "Epoch 31/1000 - CNNKernel_7: 100%|██████████| 1875/1875 [00:30<00:00, 61.62it/s]\n"
     ]
    },
    {
     "name": "stdout",
     "output_type": "stream",
     "text": [
      "31      CNNKernel_7 3.9945      2.7270      1.2675      30.43     \n"
     ]
    },
    {
     "name": "stderr",
     "output_type": "stream",
     "text": [
      "Epoch 32/1000 - CNNKernel_7: 100%|██████████| 1875/1875 [00:29<00:00, 63.60it/s]\n"
     ]
    },
    {
     "name": "stdout",
     "output_type": "stream",
     "text": [
      "32      CNNKernel_7 3.2518      2.4368      0.8150      29.48     \n"
     ]
    },
    {
     "name": "stderr",
     "output_type": "stream",
     "text": [
      "Epoch 33/1000 - CNNKernel_7: 100%|██████████| 1875/1875 [00:27<00:00, 68.29it/s]\n"
     ]
    },
    {
     "name": "stdout",
     "output_type": "stream",
     "text": [
      "33      CNNKernel_7 3.0189      2.3519      0.6669      27.46     \n"
     ]
    },
    {
     "name": "stderr",
     "output_type": "stream",
     "text": [
      "Epoch 34/1000 - CNNKernel_5: 100%|██████████| 1875/1875 [00:25<00:00, 73.65it/s]\n"
     ]
    },
    {
     "name": "stdout",
     "output_type": "stream",
     "text": [
      "34      CNNKernel_5 3.3996      2.4927      0.9070      25.46     \n"
     ]
    },
    {
     "name": "stderr",
     "output_type": "stream",
     "text": [
      "Epoch 35/1000 - CNNKernel_7: 100%|██████████| 1875/1875 [00:26<00:00, 71.92it/s]\n"
     ]
    },
    {
     "name": "stdout",
     "output_type": "stream",
     "text": [
      "35      CNNKernel_7 3.1765      2.4233      0.7532      26.08     \n"
     ]
    },
    {
     "name": "stderr",
     "output_type": "stream",
     "text": [
      "Epoch 36/1000 - CNNKernel_5: 100%|██████████| 1875/1875 [00:25<00:00, 73.69it/s]\n"
     ]
    },
    {
     "name": "stdout",
     "output_type": "stream",
     "text": [
      "36      CNNKernel_5 3.1405      2.3856      0.7548      25.45     \n"
     ]
    },
    {
     "name": "stderr",
     "output_type": "stream",
     "text": [
      "Epoch 37/1000 - CNNKernel_5: 100%|██████████| 1875/1875 [00:26<00:00, 70.77it/s]\n"
     ]
    },
    {
     "name": "stdout",
     "output_type": "stream",
     "text": [
      "37      CNNKernel_5 2.7997      2.2261      0.5737      26.50     \n"
     ]
    },
    {
     "name": "stderr",
     "output_type": "stream",
     "text": [
      "Epoch 38/1000 - CNNKernel_7: 100%|██████████| 1875/1875 [00:39<00:00, 47.14it/s]\n"
     ]
    },
    {
     "name": "stdout",
     "output_type": "stream",
     "text": [
      "38      CNNKernel_7 3.2226      2.4447      0.7780      39.79     \n"
     ]
    },
    {
     "name": "stderr",
     "output_type": "stream",
     "text": [
      "Epoch 39/1000 - CNNKernel_3: 100%|██████████| 1875/1875 [00:39<00:00, 46.92it/s]\n"
     ]
    },
    {
     "name": "stdout",
     "output_type": "stream",
     "text": [
      "39      CNNKernel_3 3.9660      2.5697      1.3962      39.97     \n"
     ]
    },
    {
     "name": "stderr",
     "output_type": "stream",
     "text": [
      "Epoch 40/1000 - CNNKernel_3: 100%|██████████| 1875/1875 [00:42<00:00, 43.77it/s]\n"
     ]
    },
    {
     "name": "stdout",
     "output_type": "stream",
     "text": [
      "40      CNNKernel_3 3.1259      2.2478      0.8781      42.84     \n"
     ]
    },
    {
     "name": "stderr",
     "output_type": "stream",
     "text": [
      "Epoch 41/1000 - CNNKernel_3: 100%|██████████| 1875/1875 [00:46<00:00, 40.02it/s]\n"
     ]
    },
    {
     "name": "stdout",
     "output_type": "stream",
     "text": [
      "41      CNNKernel_3 2.8182      2.1486      0.6696      46.86     \n"
     ]
    },
    {
     "name": "stderr",
     "output_type": "stream",
     "text": [
      "Epoch 42/1000 - CNNKernel_3: 100%|██████████| 1875/1875 [00:44<00:00, 42.14it/s]\n"
     ]
    },
    {
     "name": "stdout",
     "output_type": "stream",
     "text": [
      "42      CNNKernel_3 2.6063      2.0657      0.5405      44.51     \n"
     ]
    },
    {
     "name": "stderr",
     "output_type": "stream",
     "text": [
      "Epoch 43/1000 - CNNKernel_5: 100%|██████████| 1875/1875 [00:46<00:00, 40.75it/s]\n"
     ]
    },
    {
     "name": "stdout",
     "output_type": "stream",
     "text": [
      "43      CNNKernel_5 3.5915      2.5773      1.0142      46.03     \n"
     ]
    },
    {
     "name": "stderr",
     "output_type": "stream",
     "text": [
      "Epoch 44/1000 - CNNKernel_3: 100%|██████████| 1875/1875 [00:45<00:00, 41.28it/s]\n"
     ]
    },
    {
     "name": "stdout",
     "output_type": "stream",
     "text": [
      "44      CNNKernel_3 3.0279      2.2513      0.7766      45.43     \n"
     ]
    },
    {
     "name": "stderr",
     "output_type": "stream",
     "text": [
      "Epoch 45/1000 - CNNKernel_7: 100%|██████████| 1875/1875 [00:47<00:00, 39.22it/s]\n"
     ]
    },
    {
     "name": "stdout",
     "output_type": "stream",
     "text": [
      "45      CNNKernel_7 3.7441      2.6328      1.1114      47.82     \n"
     ]
    },
    {
     "name": "stderr",
     "output_type": "stream",
     "text": [
      "Epoch 46/1000 - CNNKernel_5: 100%|██████████| 1875/1875 [00:43<00:00, 42.98it/s]\n"
     ]
    },
    {
     "name": "stdout",
     "output_type": "stream",
     "text": [
      "46      CNNKernel_5 3.1557      2.3794      0.7763      43.63     \n"
     ]
    },
    {
     "name": "stderr",
     "output_type": "stream",
     "text": [
      "Epoch 47/1000 - CNNKernel_7: 100%|██████████| 1875/1875 [00:42<00:00, 44.33it/s]\n"
     ]
    },
    {
     "name": "stdout",
     "output_type": "stream",
     "text": [
      "47      CNNKernel_7 3.1522      2.3837      0.7684      42.30     \n"
     ]
    },
    {
     "name": "stderr",
     "output_type": "stream",
     "text": [
      "Epoch 48/1000 - CNNKernel_7: 100%|██████████| 1875/1875 [00:35<00:00, 52.43it/s]\n"
     ]
    },
    {
     "name": "stdout",
     "output_type": "stream",
     "text": [
      "48      CNNKernel_7 2.8153      2.2402      0.5751      35.77     \n"
     ]
    },
    {
     "name": "stderr",
     "output_type": "stream",
     "text": [
      "Epoch 49/1000 - CNNKernel_7: 100%|██████████| 1875/1875 [00:28<00:00, 65.22it/s]\n"
     ]
    },
    {
     "name": "stdout",
     "output_type": "stream",
     "text": [
      "49      CNNKernel_7 2.6837      2.1878      0.4959      28.76     \n"
     ]
    },
    {
     "name": "stderr",
     "output_type": "stream",
     "text": [
      "Epoch 50/1000 - CNNKernel_5: 100%|██████████| 1875/1875 [00:28<00:00, 66.46it/s]\n"
     ]
    },
    {
     "name": "stdout",
     "output_type": "stream",
     "text": [
      "50      CNNKernel_5 3.0807      2.3441      0.7367      28.22     \n"
     ]
    },
    {
     "name": "stderr",
     "output_type": "stream",
     "text": [
      "Epoch 51/1000 - CNNKernel_5: 100%|██████████| 1875/1875 [00:26<00:00, 70.81it/s]\n"
     ]
    },
    {
     "name": "stdout",
     "output_type": "stream",
     "text": [
      "51      CNNKernel_5 2.7031      2.1692      0.5340      26.49     \n"
     ]
    },
    {
     "name": "stderr",
     "output_type": "stream",
     "text": [
      "Epoch 52/1000 - CNNKernel_5: 100%|██████████| 1875/1875 [00:25<00:00, 74.18it/s]\n"
     ]
    },
    {
     "name": "stdout",
     "output_type": "stream",
     "text": [
      "52      CNNKernel_5 2.5812      2.1193      0.4619      25.28     \n"
     ]
    },
    {
     "name": "stderr",
     "output_type": "stream",
     "text": [
      "Epoch 53/1000 - CNNKernel_5: 100%|██████████| 1875/1875 [00:24<00:00, 75.33it/s]\n"
     ]
    },
    {
     "name": "stdout",
     "output_type": "stream",
     "text": [
      "53      CNNKernel_5 2.4906      2.0854      0.4052      24.90     \n"
     ]
    },
    {
     "name": "stderr",
     "output_type": "stream",
     "text": [
      "Epoch 54/1000 - CNNKernel_7: 100%|██████████| 1875/1875 [00:26<00:00, 71.86it/s]\n"
     ]
    },
    {
     "name": "stdout",
     "output_type": "stream",
     "text": [
      "54      CNNKernel_7 3.0936      2.3678      0.7258      26.10     \n"
     ]
    },
    {
     "name": "stderr",
     "output_type": "stream",
     "text": [
      "Epoch 55/1000 - CNNKernel_7: 100%|██████████| 1875/1875 [00:25<00:00, 72.61it/s]\n"
     ]
    },
    {
     "name": "stdout",
     "output_type": "stream",
     "text": [
      "55      CNNKernel_7 2.6793      2.1779      0.5015      25.83     \n"
     ]
    },
    {
     "name": "stderr",
     "output_type": "stream",
     "text": [
      "Epoch 56/1000 - CNNKernel_3: 100%|██████████| 1875/1875 [00:25<00:00, 73.48it/s]\n"
     ]
    },
    {
     "name": "stdout",
     "output_type": "stream",
     "text": [
      "56      CNNKernel_3 3.7433      2.5058      1.2374      25.52     \n"
     ]
    },
    {
     "name": "stderr",
     "output_type": "stream",
     "text": [
      "Epoch 57/1000 - CNNKernel_3: 100%|██████████| 1875/1875 [00:25<00:00, 74.03it/s]\n"
     ]
    },
    {
     "name": "stdout",
     "output_type": "stream",
     "text": [
      "57      CNNKernel_3 2.9041      2.1735      0.7306      25.33     \n"
     ]
    },
    {
     "name": "stderr",
     "output_type": "stream",
     "text": [
      "Epoch 58/1000 - CNNKernel_3: 100%|██████████| 1875/1875 [00:25<00:00, 74.32it/s]\n"
     ]
    },
    {
     "name": "stdout",
     "output_type": "stream",
     "text": [
      "58      CNNKernel_3 2.6443      2.0828      0.5615      25.23     \n"
     ]
    },
    {
     "name": "stderr",
     "output_type": "stream",
     "text": [
      "Epoch 59/1000 - CNNKernel_3: 100%|██████████| 1875/1875 [00:25<00:00, 73.74it/s]\n"
     ]
    },
    {
     "name": "stdout",
     "output_type": "stream",
     "text": [
      "59      CNNKernel_3 2.4781      2.0166      0.4615      25.43     \n"
     ]
    },
    {
     "name": "stderr",
     "output_type": "stream",
     "text": [
      "Epoch 60/1000 - CNNKernel_3: 100%|██████████| 1875/1875 [00:25<00:00, 73.25it/s]\n"
     ]
    },
    {
     "name": "stdout",
     "output_type": "stream",
     "text": [
      "60      CNNKernel_3 2.3568      1.9645      0.3923      25.60     \n"
     ]
    },
    {
     "name": "stderr",
     "output_type": "stream",
     "text": [
      "Epoch 61/1000 - CNNKernel_7: 100%|██████████| 1875/1875 [00:26<00:00, 71.93it/s]\n"
     ]
    },
    {
     "name": "stdout",
     "output_type": "stream",
     "text": [
      "61      CNNKernel_7 3.4574      2.5186      0.9388      26.07     \n"
     ]
    },
    {
     "name": "stderr",
     "output_type": "stream",
     "text": [
      "Epoch 62/1000 - CNNKernel_7: 100%|██████████| 1875/1875 [00:31<00:00, 59.38it/s]\n"
     ]
    },
    {
     "name": "stdout",
     "output_type": "stream",
     "text": [
      "62      CNNKernel_7 2.7152      2.1839      0.5313      31.58     \n"
     ]
    },
    {
     "name": "stderr",
     "output_type": "stream",
     "text": [
      "Epoch 63/1000 - CNNKernel_7: 100%|██████████| 1875/1875 [00:39<00:00, 47.71it/s]\n"
     ]
    },
    {
     "name": "stdout",
     "output_type": "stream",
     "text": [
      "63      CNNKernel_7 2.5327      2.1000      0.4327      39.31     \n"
     ]
    },
    {
     "name": "stderr",
     "output_type": "stream",
     "text": [
      "Epoch 64/1000 - CNNKernel_7: 100%|██████████| 1875/1875 [00:39<00:00, 47.48it/s]\n"
     ]
    },
    {
     "name": "stdout",
     "output_type": "stream",
     "text": [
      "64      CNNKernel_7 2.4501      2.0631      0.3870      39.50     \n"
     ]
    },
    {
     "name": "stderr",
     "output_type": "stream",
     "text": [
      "Epoch 65/1000 - CNNKernel_5: 100%|██████████| 1875/1875 [00:38<00:00, 48.45it/s]\n"
     ]
    },
    {
     "name": "stdout",
     "output_type": "stream",
     "text": [
      "65      CNNKernel_5 3.2176      2.3845      0.8331      38.71     \n"
     ]
    },
    {
     "name": "stderr",
     "output_type": "stream",
     "text": [
      "Epoch 66/1000 - CNNKernel_5: 100%|██████████| 1875/1875 [00:40<00:00, 46.85it/s]\n"
     ]
    },
    {
     "name": "stdout",
     "output_type": "stream",
     "text": [
      "66      CNNKernel_5 2.6566      2.1360      0.5206      40.03     \n"
     ]
    },
    {
     "name": "stderr",
     "output_type": "stream",
     "text": [
      "Epoch 67/1000 - CNNKernel_5: 100%|██████████| 1875/1875 [00:40<00:00, 46.20it/s]\n"
     ]
    },
    {
     "name": "stdout",
     "output_type": "stream",
     "text": [
      "67      CNNKernel_5 2.4847      2.0597      0.4251      40.60     \n"
     ]
    },
    {
     "name": "stderr",
     "output_type": "stream",
     "text": [
      "Epoch 68/1000 - CNNKernel_5: 100%|██████████| 1875/1875 [00:39<00:00, 47.65it/s]\n"
     ]
    },
    {
     "name": "stdout",
     "output_type": "stream",
     "text": [
      "68      CNNKernel_5 2.3995      2.0221      0.3774      39.37     \n"
     ]
    },
    {
     "name": "stderr",
     "output_type": "stream",
     "text": [
      "Epoch 69/1000 - CNNKernel_3: 100%|██████████| 1875/1875 [00:38<00:00, 48.52it/s]\n"
     ]
    },
    {
     "name": "stdout",
     "output_type": "stream",
     "text": [
      "69      CNNKernel_3 3.3559      2.3462      1.0097      38.65     \n"
     ]
    },
    {
     "name": "stderr",
     "output_type": "stream",
     "text": [
      "Epoch 70/1000 - CNNKernel_3: 100%|██████████| 1875/1875 [00:39<00:00, 47.66it/s]\n"
     ]
    },
    {
     "name": "stdout",
     "output_type": "stream",
     "text": [
      "70      CNNKernel_3 2.6208      2.0550      0.5657      39.35     \n"
     ]
    },
    {
     "name": "stderr",
     "output_type": "stream",
     "text": [
      "Epoch 71/1000 - CNNKernel_3: 100%|██████████| 1875/1875 [00:39<00:00, 47.41it/s]\n"
     ]
    },
    {
     "name": "stdout",
     "output_type": "stream",
     "text": [
      "71      CNNKernel_3 2.4193      1.9807      0.4386      39.56     \n"
     ]
    },
    {
     "name": "stderr",
     "output_type": "stream",
     "text": [
      "Epoch 72/1000 - CNNKernel_3: 100%|██████████| 1875/1875 [00:36<00:00, 51.01it/s]\n"
     ]
    },
    {
     "name": "stdout",
     "output_type": "stream",
     "text": [
      "72      CNNKernel_3 2.2819      1.9212      0.3608      36.77     \n"
     ]
    },
    {
     "name": "stderr",
     "output_type": "stream",
     "text": [
      "Epoch 73/1000 - CNNKernel_3: 100%|██████████| 1875/1875 [00:27<00:00, 69.38it/s]\n"
     ]
    },
    {
     "name": "stdout",
     "output_type": "stream",
     "text": [
      "73      CNNKernel_3 2.1850      1.8728      0.3122      27.03     \n"
     ]
    },
    {
     "name": "stderr",
     "output_type": "stream",
     "text": [
      "Epoch 74/1000 - CNNKernel_7: 100%|██████████| 1875/1875 [00:27<00:00, 68.24it/s]\n"
     ]
    },
    {
     "name": "stdout",
     "output_type": "stream",
     "text": [
      "74      CNNKernel_7 3.5022      2.5282      0.9739      27.48     \n"
     ]
    },
    {
     "name": "stderr",
     "output_type": "stream",
     "text": [
      "Epoch 75/1000 - CNNKernel_7: 100%|██████████| 1875/1875 [00:29<00:00, 64.32it/s]\n"
     ]
    },
    {
     "name": "stdout",
     "output_type": "stream",
     "text": [
      "75      CNNKernel_7 2.6933      2.1678      0.5255      29.16     \n"
     ]
    },
    {
     "name": "stderr",
     "output_type": "stream",
     "text": [
      "Epoch 76/1000 - CNNKernel_7: 100%|██████████| 1875/1875 [00:24<00:00, 75.99it/s]\n"
     ]
    },
    {
     "name": "stdout",
     "output_type": "stream",
     "text": [
      "76      CNNKernel_7 2.5049      2.0805      0.4244      24.68     \n"
     ]
    },
    {
     "name": "stderr",
     "output_type": "stream",
     "text": [
      "Epoch 77/1000 - CNNKernel_7: 100%|██████████| 1875/1875 [00:26<00:00, 71.54it/s]\n"
     ]
    },
    {
     "name": "stdout",
     "output_type": "stream",
     "text": [
      "77      CNNKernel_7 2.4112      2.0361      0.3751      26.21     \n"
     ]
    },
    {
     "name": "stderr",
     "output_type": "stream",
     "text": [
      "Epoch 78/1000 - CNNKernel_3: 100%|██████████| 1875/1875 [00:25<00:00, 73.01it/s]\n"
     ]
    },
    {
     "name": "stdout",
     "output_type": "stream",
     "text": [
      "78      CNNKernel_3 3.1270      2.3327      0.7943      25.69     \n"
     ]
    },
    {
     "name": "stderr",
     "output_type": "stream",
     "text": [
      "Epoch 79/1000 - CNNKernel_5: 100%|██████████| 1875/1875 [00:25<00:00, 73.35it/s]\n"
     ]
    },
    {
     "name": "stdout",
     "output_type": "stream",
     "text": [
      "79      CNNKernel_5 3.3621      2.4517      0.9104      25.57     \n"
     ]
    },
    {
     "name": "stderr",
     "output_type": "stream",
     "text": [
      "Epoch 80/1000 - CNNKernel_5: 100%|██████████| 1875/1875 [00:24<00:00, 75.70it/s]\n"
     ]
    },
    {
     "name": "stdout",
     "output_type": "stream",
     "text": [
      "80      CNNKernel_5 2.6145      2.1150      0.4995      24.77     \n"
     ]
    },
    {
     "name": "stderr",
     "output_type": "stream",
     "text": [
      "Epoch 81/1000 - CNNKernel_5: 100%|██████████| 1875/1875 [00:25<00:00, 74.57it/s]\n"
     ]
    },
    {
     "name": "stdout",
     "output_type": "stream",
     "text": [
      "81      CNNKernel_5 2.4337      2.0338      0.3999      25.15     \n"
     ]
    },
    {
     "name": "stderr",
     "output_type": "stream",
     "text": [
      "Epoch 82/1000 - CNNKernel_5: 100%|██████████| 1875/1875 [00:24<00:00, 75.22it/s]\n"
     ]
    },
    {
     "name": "stdout",
     "output_type": "stream",
     "text": [
      "82      CNNKernel_5 2.3505      1.9938      0.3566      24.93     \n"
     ]
    },
    {
     "name": "stderr",
     "output_type": "stream",
     "text": [
      "Epoch 83/1000 - CNNKernel_7: 100%|██████████| 1875/1875 [00:26<00:00, 69.99it/s]\n"
     ]
    },
    {
     "name": "stdout",
     "output_type": "stream",
     "text": [
      "83      CNNKernel_7 2.8943      2.2670      0.6273      26.80     \n"
     ]
    },
    {
     "name": "stderr",
     "output_type": "stream",
     "text": [
      "Epoch 84/1000 - CNNKernel_5: 100%|██████████| 1875/1875 [00:25<00:00, 74.56it/s]\n"
     ]
    },
    {
     "name": "stdout",
     "output_type": "stream",
     "text": [
      "84      CNNKernel_5 2.4751      2.0540      0.4211      25.16     \n"
     ]
    },
    {
     "name": "stderr",
     "output_type": "stream",
     "text": [
      "Epoch 85/1000 - CNNKernel_7: 100%|██████████| 1875/1875 [00:25<00:00, 72.64it/s]\n"
     ]
    },
    {
     "name": "stdout",
     "output_type": "stream",
     "text": [
      "85      CNNKernel_7 2.6401      2.1477      0.4925      25.82     \n"
     ]
    },
    {
     "name": "stderr",
     "output_type": "stream",
     "text": [
      "Epoch 86/1000 - CNNKernel_7: 100%|██████████| 1875/1875 [00:26<00:00, 70.86it/s]\n"
     ]
    },
    {
     "name": "stdout",
     "output_type": "stream",
     "text": [
      "86      CNNKernel_7 2.3754      2.0121      0.3633      26.47     \n"
     ]
    },
    {
     "name": "stderr",
     "output_type": "stream",
     "text": [
      "Epoch 87/1000 - CNNKernel_7: 100%|██████████| 1875/1875 [00:26<00:00, 70.85it/s]\n"
     ]
    },
    {
     "name": "stdout",
     "output_type": "stream",
     "text": [
      "87      CNNKernel_7 2.3324      1.9952      0.3373      26.47     \n"
     ]
    },
    {
     "name": "stderr",
     "output_type": "stream",
     "text": [
      "Epoch 88/1000 - CNNKernel_5: 100%|██████████| 1875/1875 [00:25<00:00, 74.64it/s]\n"
     ]
    },
    {
     "name": "stdout",
     "output_type": "stream",
     "text": [
      "88      CNNKernel_5 2.6464      2.1438      0.5026      25.13     \n"
     ]
    },
    {
     "name": "stderr",
     "output_type": "stream",
     "text": [
      "Epoch 89/1000 - CNNKernel_3: 100%|██████████| 1875/1875 [00:23<00:00, 78.16it/s]\n"
     ]
    },
    {
     "name": "stdout",
     "output_type": "stream",
     "text": [
      "89      CNNKernel_3 3.1000      2.2483      0.8517      24.00     \n"
     ]
    },
    {
     "name": "stderr",
     "output_type": "stream",
     "text": [
      "Epoch 90/1000 - CNNKernel_3: 100%|██████████| 1875/1875 [00:24<00:00, 76.16it/s]\n"
     ]
    },
    {
     "name": "stdout",
     "output_type": "stream",
     "text": [
      "90      CNNKernel_3 2.4373      1.9772      0.4601      24.62     \n"
     ]
    },
    {
     "name": "stderr",
     "output_type": "stream",
     "text": [
      "Epoch 91/1000 - CNNKernel_3: 100%|██████████| 1875/1875 [00:25<00:00, 72.39it/s]\n"
     ]
    },
    {
     "name": "stdout",
     "output_type": "stream",
     "text": [
      "91      CNNKernel_3 2.2290      1.8798      0.3492      25.91     \n"
     ]
    },
    {
     "name": "stderr",
     "output_type": "stream",
     "text": [
      "Epoch 92/1000 - CNNKernel_3: 100%|██████████| 1875/1875 [00:25<00:00, 72.13it/s]\n"
     ]
    },
    {
     "name": "stdout",
     "output_type": "stream",
     "text": [
      "92      CNNKernel_3 2.1452      1.8460      0.2992      26.00     \n"
     ]
    },
    {
     "name": "stderr",
     "output_type": "stream",
     "text": [
      "Epoch 93/1000 - CNNKernel_3: 100%|██████████| 1875/1875 [00:25<00:00, 73.87it/s]\n"
     ]
    },
    {
     "name": "stdout",
     "output_type": "stream",
     "text": [
      "93      CNNKernel_3 2.0887      1.8198      0.2689      25.39     \n"
     ]
    },
    {
     "name": "stderr",
     "output_type": "stream",
     "text": [
      "Epoch 94/1000 - CNNKernel_5: 100%|██████████| 1875/1875 [00:25<00:00, 74.25it/s]\n"
     ]
    },
    {
     "name": "stdout",
     "output_type": "stream",
     "text": [
      "94      CNNKernel_5 3.0252      2.3175      0.7077      25.26     \n"
     ]
    },
    {
     "name": "stderr",
     "output_type": "stream",
     "text": [
      "Epoch 95/1000 - CNNKernel_7: 100%|██████████| 1875/1875 [00:25<00:00, 73.10it/s]\n"
     ]
    },
    {
     "name": "stdout",
     "output_type": "stream",
     "text": [
      "95      CNNKernel_7 2.8358      2.2390      0.5968      25.66     \n"
     ]
    },
    {
     "name": "stderr",
     "output_type": "stream",
     "text": [
      "Epoch 96/1000 - CNNKernel_5: 100%|██████████| 1875/1875 [00:25<00:00, 72.95it/s]\n"
     ]
    },
    {
     "name": "stdout",
     "output_type": "stream",
     "text": [
      "96      CNNKernel_5 2.5334      2.0800      0.4534      25.71     \n"
     ]
    },
    {
     "name": "stderr",
     "output_type": "stream",
     "text": [
      "Epoch 97/1000 - CNNKernel_5: 100%|██████████| 1875/1875 [00:25<00:00, 74.26it/s]\n"
     ]
    },
    {
     "name": "stdout",
     "output_type": "stream",
     "text": [
      "97      CNNKernel_5 2.3056      1.9667      0.3389      25.26     \n"
     ]
    },
    {
     "name": "stderr",
     "output_type": "stream",
     "text": [
      "Epoch 98/1000 - CNNKernel_5: 100%|██████████| 1875/1875 [00:24<00:00, 75.22it/s]\n"
     ]
    },
    {
     "name": "stdout",
     "output_type": "stream",
     "text": [
      "98      CNNKernel_5 2.2177      1.9203      0.2974      24.93     \n"
     ]
    },
    {
     "name": "stderr",
     "output_type": "stream",
     "text": [
      "Epoch 99/1000 - CNNKernel_5: 100%|██████████| 1875/1875 [00:25<00:00, 74.51it/s]\n"
     ]
    },
    {
     "name": "stdout",
     "output_type": "stream",
     "text": [
      "99      CNNKernel_5 2.1896      1.9058      0.2837      25.17     \n"
     ]
    },
    {
     "name": "stderr",
     "output_type": "stream",
     "text": [
      "Epoch 100/1000 - CNNKernel_7: 100%|██████████| 1875/1875 [00:26<00:00, 71.52it/s]\n"
     ]
    },
    {
     "name": "stdout",
     "output_type": "stream",
     "text": [
      "100     CNNKernel_7 2.7730      2.2076      0.5654      26.22     \n"
     ]
    },
    {
     "name": "stderr",
     "output_type": "stream",
     "text": [
      "Epoch 101/1000 - CNNKernel_7: 100%|██████████| 1875/1875 [00:25<00:00, 72.29it/s]\n"
     ]
    },
    {
     "name": "stdout",
     "output_type": "stream",
     "text": [
      "101     CNNKernel_7 2.3810      2.0068      0.3743      25.95     \n"
     ]
    },
    {
     "name": "stderr",
     "output_type": "stream",
     "text": [
      "Epoch 102/1000 - CNNKernel_7:  59%|█████▉    | 1105/1875 [00:15<00:10, 72.68it/s]"
     ]
    }
   ],
   "source": [
    "from tqdm import tqdm\n",
    "import time\n",
    "import numpy as np\n",
    "\n",
    "# Training parameters\n",
    "epochs = 1000\n",
    "epoch_losses = []\n",
    "epoch_input_losses = []\n",
    "epoch_output_losses = []\n",
    "epoch_models = []  # To store the name of the selected model\n",
    "\n",
    "# Loss history for each model\n",
    "loss_history = {\n",
    "    \"CNNKernel_5\": [],\n",
    "    \"CNNKernel_7\": [],\n",
    "    \"CNNKernel_3\": []\n",
    "}\n",
    "\n",
    "# Model mapping\n",
    "model_names = {\n",
    "    original_model_base: \"CNNKernel_5\",\n",
    "    original_model_strong: \"CNNKernel_7\",\n",
    "    original_model_simple: \"CNNKernel_3\"\n",
    "}\n",
    "\n",
    "print(f\"{'Epoch':<8}{'Model':<12}{'Total Loss':<12}{'Input Loss':<12}{'Output Loss':<12}{'Time (s)':<10}\")\n",
    "print(\"-\" * 60)\n",
    "\n",
    "for epoch in range(epochs):\n",
    "    start_time = time.time()\n",
    "    epoch_loss = 0\n",
    "    epoch_input_loss = 0\n",
    "    epoch_output_loss = 0\n",
    "    batch_count = 0\n",
    "\n",
    "    # Select the model based on the global 5-epoch average\n",
    "    selected_model = None\n",
    "    selected_model_name = None\n",
    "    shuffled_models = list(model_names.items())\n",
    "    random.shuffle(shuffled_models)\n",
    "\n",
    "    # Select the model\n",
    "    selected_model = None\n",
    "    selected_model_name = None\n",
    "\n",
    "    for model, name in shuffled_models:\n",
    "        if len(loss_history[name]) < 5:  # If less than 5 epochs, prioritize this model\n",
    "            selected_model = model\n",
    "            selected_model_name = name\n",
    "            break\n",
    "\n",
    "        avg_last_5 = np.mean(loss_history[name][-3:])  # Average of the last 3 epochs for the current model\n",
    "\n",
    "        # Calculate the global average of the most recent 5 epochs across all models\n",
    "        global_avg_last_5 = np.mean(epoch_losses[-5:])\n",
    "\n",
    "        # Select the model if its recent average loss is greater than the global average\n",
    "        if selected_model is None or avg_last_5 > global_avg_last_5:\n",
    "            selected_model = model\n",
    "            selected_model_name = name\n",
    "\n",
    "    # Training loop for the selected model\n",
    "    for x_batch, y_original_batch in tqdm(mnist_train_atn, desc=f\"Epoch {epoch + 1}/{epochs} - {selected_model_name}\"):\n",
    "        loss, l_x, l_y = train_step(x_batch, y_original_batch, selected_model)\n",
    "        epoch_loss += loss.numpy()\n",
    "        epoch_input_loss += l_x.numpy() * beta\n",
    "        epoch_output_loss += l_y.numpy()\n",
    "        batch_count += 1\n",
    "\n",
    "    # Compute average losses for the epoch\n",
    "    avg_loss = epoch_loss / batch_count\n",
    "    avg_input_loss = epoch_input_loss / batch_count\n",
    "    avg_output_loss = epoch_output_loss / batch_count\n",
    "    elapsed_time = time.time() - start_time\n",
    "\n",
    "    # Append losses to the lists\n",
    "    epoch_losses.append(avg_loss)\n",
    "    epoch_input_losses.append(avg_input_loss)\n",
    "    epoch_output_losses.append(avg_output_loss)\n",
    "    epoch_models.append(selected_model_name)\n",
    "\n",
    "    # Update loss history for the selected model\n",
    "    loss_history[selected_model_name].append(avg_loss)\n",
    "\n",
    "    # Print epoch summary\n",
    "    print(f\"{epoch + 1:<8}{selected_model_name:<12}{avg_loss:<12.4f}{avg_input_loss:<12.4f}{avg_output_loss:<12.4f}{elapsed_time:<10.2f}\")\n"
   ]
  },
  {
   "cell_type": "code",
   "execution_count": null,
   "metadata": {},
   "outputs": [],
   "source": [
    "plt.figure(1,figsize=(10, 6))\n",
    "plt.plot(epoch_losses, label='Total Loss', marker='o',linewidth=0.8,markersize=4 )\n",
    "plt.plot(epoch_input_losses, label='Input Loss', marker='x')\n",
    "plt.plot(epoch_output_losses, label='Output Loss', marker='s')\n",
    "plt.xlabel('Epoch')\n",
    "plt.ylabel('Loss')\n",
    "plt.title('Training Loss Over Epochs')\n",
    "plt.legend()\n",
    "plt.grid(True)\n",
    "plt.show()\n",
    "\n",
    "\n",
    "model_colors = {\n",
    "    \"CNNKernel_5\": \"blue\",\n",
    "    \"CNNKernel_7\": \"green\",\n",
    "    \"CNNKernel_3\": \"red\"\n",
    "}\n",
    "plt.figure(2,figsize=(10, 6))\n",
    "\n",
    "for i, loss in enumerate(epoch_losses):\n",
    "    # Use plot to connect the points with lines\n",
    "  \n",
    "    if i > 0:\n",
    "        plt.plot([i, i + 1], [epoch_losses[i - 1], loss], color=model_colors[epoch_models[i]],alpha=0.5,   # Adjust transparency\n",
    "        linewidth=0.3 ) # Set thinner line width)\n",
    "\n",
    "    # Scatter individual points\n",
    "    plt.scatter(i + 1, loss, color=model_colors[epoch_models[i]],s=3, label=epoch_models[i] if i == 0 or epoch_models[i] != epoch_models[i-1] else '')\n",
    "\n",
    "plt.xlabel('Epoch')\n",
    "plt.ylabel('Loss')\n",
    "plt.title('Training Loss Over Epochs (Color Coded by Model)')\n",
    "plt.grid(True)\n",
    "\n",
    "# Create a legend for the models\n",
    "handles = [plt.Line2D([0], [0], marker='o', color='w', markerfacecolor=color, markersize=5, label=model) for model, color in model_colors.items()]\n",
    "plt.legend(handles=handles, title=\"Models\")\n",
    "\n",
    "plt.show()"
   ]
  },
  {
   "cell_type": "markdown",
   "metadata": {},
   "source": [
    "# VERIFICATION"
   ]
  },
  {
   "cell_type": "code",
   "execution_count": null,
   "metadata": {
    "tags": []
   },
   "outputs": [],
   "source": [
    "# Save the ATN in the newer `.keras` format for future compatibility\n",
    "\n",
    "# Define model naming function\n",
    "def generate_model_name(base_name, beta, epochs, structure):\n",
    "    # Format the model name with hyperparameters\n",
    "    return f\"{base_name}_beta-{beta}_epochs-{epochs}_{structure}.keras\"\n",
    "\n",
    "# Specify model details\n",
    "#base_name = \"adversarial_transformation_network\"\n",
    "\n",
    "#structure = \"conv2d_transpose\"  # Example structure (descriptive)\n",
    "\n",
    "# Generate the model name\n",
    "#model_name = generate_model_name(base_name, beta, epochs, structure)\n",
    "model_name='ATN_model/ATNMultuScale_Vote_ATN2.keras'\n",
    "# Save the ATN with the generated name\n",
    "atn.save(model_name)\n",
    "print(f\"ATN saved successfully as {model_name}\")\n",
    "\n"
   ]
  },
  {
   "cell_type": "code",
   "execution_count": null,
   "metadata": {
    "tags": []
   },
   "outputs": [],
   "source": [
    "# Load Model\n",
    "\n",
    "\n",
    "#loaded_atn_model = tf.keras.models.load_model('ATN_model/ATNPure.keras')"
   ]
  },
  {
   "cell_type": "code",
   "execution_count": null,
   "metadata": {
    "tags": []
   },
   "outputs": [],
   "source": [
    "\n",
    "import matplotlib.pyplot as plt\n",
    "\n",
    "\n",
    "\n",
    "\n",
    "\n",
    "\n",
    "\n",
    "# Function to evaluate and compare results\n",
    "def evaluate_atn(original_model, atn, dataset):\n",
    "    for x_batch, y_original_batch in dataset.take(1):  # Take one batch (two elements per batch in the dataset)\n",
    "        # Generate transformed images\n",
    "        x_transformed = atn.predict(x_batch)\n",
    "\n",
    "        # Get predictions for the original and transformed images\n",
    "        y_pred_original = tf.argmax(original_model.predict(x_batch), axis=1)\n",
    "        y_pred_transformed = tf.argmax(original_model.predict(x_transformed), axis=1)\n",
    "\n",
    "        # Get true labels\n",
    "        y_true = tf.argmax(y_original_batch, axis=1)\n",
    "\n",
    "        # Print results for comparison\n",
    "        print(\"True Labels:\", y_true.numpy())\n",
    "        print(\"Original Predictions:\", y_pred_original.numpy())\n",
    "        print(\"Transformed Predictions:\", y_pred_transformed.numpy())\n",
    "\n",
    "        # Display images\n",
    "        display_images(x_batch, x_transformed, y_true, y_pred_original, y_pred_transformed, original_model.predict(x_batch))\n",
    "        break  # Only evaluate one batch for now\n",
    "\n",
    "# Function to display images\n",
    "def display_images(original_images, transformed_images, y_true, y_pred_original, y_pred_transformed, original_pred):\n",
    "    num_images = min(10, len(original_images))  # Display up to 10 images\n",
    "    plt.figure(figsize=(15, 5))\n",
    "\n",
    "    for i in range(num_images):\n",
    "        # Original image\n",
    "        plt.subplot(2, num_images, i + 1)\n",
    "        plt.imshow(tf.squeeze(original_images[i]), cmap='gray')  # Remove channel for grayscale display\n",
    "        plt.title(f\"Label: {y_true[i].numpy()}, \\n Pred: {y_pred_original[i].numpy()}\")\n",
    "        plt.axis('off')\n",
    "\n",
    "        # Transformed image\n",
    "        second_highest_target = get_second_highest_target(original_pred[i: i + 1])[0]  # Compute target dynamically\n",
    "        second_highest_class = tf.argmax(second_highest_target).numpy()\n",
    "\n",
    "        plt.subplot(2, num_images, i + 1 + num_images)\n",
    "        plt.imshow(tf.squeeze(transformed_images[i]), cmap='gray')\n",
    "        plt.title(f\"Target: {second_highest_class}, \\n Pred: {y_pred_transformed[i].numpy()}\")\n",
    "        plt.axis('off')\n",
    "\n",
    "    plt.show()\n",
    "\n",
    "\n",
    "# Evaluate the ATN on the test dataset\n",
    "evaluate_atn(original_model, atn, mnist_test_atn)\n"
   ]
  },
  {
   "cell_type": "code",
   "execution_count": null,
   "metadata": {
    "tags": []
   },
   "outputs": [],
   "source": [
    "# Function to calculate accuracy\n",
    "def calculate_accuracy(model, dataset, atn=None):\n",
    "    correct = 0\n",
    "    total = 0\n",
    "\n",
    "    for x_batch, y_original_batch in dataset:  # Only unpack two elements\n",
    "        if atn:\n",
    "            # Transform images using ATN\n",
    "            x_batch = atn.predict(x_batch, verbose=0)  # Suppress verbose output\n",
    "        # Get predictions from the model\n",
    "        y_pred = tf.argmax(model.predict(x_batch, verbose=0), axis=1)\n",
    "        y_true = tf.argmax(y_original_batch, axis=1)  # True labels\n",
    "        # Count correct predictions\n",
    "        correct += tf.reduce_sum(tf.cast(y_pred == y_true, tf.float32)).numpy()\n",
    "        total += x_batch.shape[0]  # Batch size\n",
    "    \n",
    "    return correct / total  # Calculate accuracy\n",
    "\n",
    "\n",
    "# Original accuracy\n",
    "original_accuracy = calculate_accuracy(original_model, mnist_test_atn, atn=None)\n",
    "print(f\"Accuracy on original images: {original_accuracy:.4f}\")\n",
    "\n",
    "# Transformed accuracy\n",
    "transformed_accuracy = calculate_accuracy(original_model, mnist_test_atn, atn=atn)\n",
    "print(f\"Accuracy on transformed images: {transformed_accuracy:.4f}\")\n"
   ]
  },
  {
   "cell_type": "code",
   "execution_count": null,
   "metadata": {},
   "outputs": [],
   "source": []
  },
  {
   "cell_type": "code",
   "execution_count": null,
   "metadata": {},
   "outputs": [],
   "source": []
  },
  {
   "cell_type": "code",
   "execution_count": null,
   "metadata": {},
   "outputs": [],
   "source": []
  }
 ],
 "metadata": {
  "accelerator": "GPU",
  "colab": {
   "collapsed_sections": [],
   "name": "7. CNN-MNIST_tensorflow.ipynb",
   "provenance": [],
   "version": "0.3.2"
  },
  "kernelspec": {
   "display_name": "Python",
   "language": "python",
   "name": "python3"
  },
  "language_info": {
   "codemirror_mode": {
    "name": "ipython",
    "version": 3
   },
   "file_extension": ".py",
   "mimetype": "text/x-python",
   "name": "python",
   "nbconvert_exporter": "python",
   "pygments_lexer": "ipython3",
   "version": "3.8.10"
  },
  "toc-autonumbering": false
 },
 "nbformat": 4,
 "nbformat_minor": 4
}
